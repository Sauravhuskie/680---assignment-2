{
  "cells": [
    {
      "cell_type": "markdown",
      "metadata": {
        "id": "view-in-github",
        "colab_type": "text"
      },
      "source": [
        "<a href=\"https://colab.research.google.com/github/Sauravhuskie/680---assignment-2/blob/main/Thesis_CodeBERT.ipynb\" target=\"_parent\"><img src=\"https://colab.research.google.com/assets/colab-badge.svg\" alt=\"Open In Colab\"/></a>"
      ]
    },
    {
      "cell_type": "markdown",
      "source": [
        "#Challenges\n",
        "1. Tokenizing\n",
        "2. Processing Large files in Google Colab\n",
        "3. Comments in code\n",
        "4. TPU and XLA\n",
        "5. codeBERT not Pretrained in C++\n",
        "6. BERT token limit (512)\n",
        "7. Tensor Trained Neural Network\n",
        "8. Cosine similarity instead of dot produc\n",
        "https://arxiv.org/abs/1702.05870"
      ],
      "metadata": {
        "id": "qL1aaTKWvReL"
      }
    },
    {
      "cell_type": "markdown",
      "metadata": {
        "id": "Mvw1YJDs1xb-"
      },
      "source": [
        "##References:\n",
        "\n",
        "Models (CodeBERT): \n",
        "1. https://github.com/microsoft/CodeBERT\n",
        "2. https://github.com/microsoft/CodeBERT/tree/master/CodeBERT/code2nl\n",
        "\n",
        "Other Sources\n",
        "2. https://favtutor.com/blogs/print-list-python\n",
        "3. https://towardsdatascience.com/running-pytorch-on-tpu-a-bag-of-tricks-b6d0130bddd4\n",
        "4. https://colab.research.google.com/github/pytorch/xla/blob/master/contrib/colab/getting-started.ipynb#scrollTo=OApBOAe1fpH_\n",
        "\n",
        "Diff in Codes:\n",
        "1. difflib: http://pymotw.com/2/difflib/\n",
        "2. diff patch match: https://pypi.org/project/diff-match-patch/\n",
        "\n",
        "TPU Installation\n",
        "1. https://colab.research.google.com/github/pytorch/xla/blob/master/contrib/colab/getting-started.ipynb#scrollTo=vJZrkoejQhxK\n",
        "\n",
        "Traversing Through a directory\n",
        "\n",
        "1. https://www.geeksforgeeks.org/how-to-iterate-over-files-in-directory-using-python/\n",
        "# New Section\n",
        "\n",
        "AST\n",
        "1. https://github.com/pombredanne/python-ast-visualizer/blob/master/astvisualizer.py\n",
        "\n",
        "2. https://github.com/lensvol/astboom\n",
        "\n",
        "Similar Products\n",
        "\n",
        "1. https://github.com/eth-sri/TFix\n",
        "2. https://github.com/fluidattacks/NIST-SARD-Test-Suites\n",
        "3. https://github.com/SySeVR/SySeVR\n",
        "\n",
        "References\n",
        "1. Code-Bert: https://arxiv.org/pdf/2002.08155.pdf\n",
        "\n",
        "2. Code Database: https://arxiv.org/ftp/arxiv/papers/2108/2108.04631.pdf\n",
        "\n",
        "3. SySeVR: https://github.com/SySeVR/SySeVR\n",
        "\n",
        "Data-Sources\n",
        "\n",
        "1. https://www.nist.gov/itl/ssd/software-quality-group/static-analysis-tool-exposition-sate-iv\n",
        "\n",
        "2. SARD:  https://www.nist.gov/itl/ssd/software-quality-group/software-assurance-reference-dataset-sard-manual\n",
        "\n",
        "\n",
        "Neural Network\n",
        "1. https://www.atmosera.com/blog/text-classification-with-neural-networks/#:~:text=The%20first%20hidden%20layer%20in,rather%20than%20a%20single%20integer.\n",
        "\n",
        "2. https://machinelearningmastery.com/develop-word-embedding-model-predicting-movie-review-sentiment/\n",
        "\n",
        "Tensor Trained Neural Network\n",
        "1. https://proceedings.mlr.press/v70/yang17e/yang17e.pdf\n",
        "\n",
        "\n",
        "Miscelleneous\n",
        "\n",
        "1. \n",
        "\n",
        "\n"
      ]
    },
    {
      "cell_type": "code",
      "source": [
        "gpu_info = !nvidia-smi\n",
        "gpu_info = '\\n'.join(gpu_info)\n",
        "if gpu_info.find('failed') >= 0:\n",
        "  print('Not connected to a GPU')\n",
        "else:\n",
        "  print(gpu_info)"
      ],
      "metadata": {
        "colab": {
          "base_uri": "https://localhost:8080/"
        },
        "id": "keJhfjJmIO9D",
        "outputId": "f001306f-b0b3-4aff-e7e8-ea232590d752"
      },
      "execution_count": 1,
      "outputs": [
        {
          "output_type": "stream",
          "name": "stdout",
          "text": [
            "Not connected to a GPU\n"
          ]
        }
      ]
    },
    {
      "cell_type": "markdown",
      "metadata": {
        "id": "P5MueiS_-jHN"
      },
      "source": [
        "## Getting TPU Setup\n"
      ]
    },
    {
      "cell_type": "code",
      "execution_count": 2,
      "metadata": {
        "id": "Q0EE91vR-q2e"
      },
      "outputs": [],
      "source": [
        "import os\n",
        "assert os.environ['COLAB_TPU_ADDR'], 'Make sure to select TPU from Edit > Notebook settings > Hardware accelerator'"
      ]
    },
    {
      "cell_type": "code",
      "execution_count": 3,
      "metadata": {
        "id": "ZZPASIFE-r_e",
        "colab": {
          "base_uri": "https://localhost:8080/"
        },
        "outputId": "79bc554f-2bc6-4201-d999-28530c4cae5b"
      },
      "outputs": [
        {
          "output_type": "stream",
          "name": "stdout",
          "text": [
            "Collecting torch-xla==1.11\n",
            "  Using cached https://storage.googleapis.com/tpu-pytorch/wheels/colab/torch_xla-1.11-cp37-cp37m-linux_x86_64.whl (152.9 MB)\n",
            "Requirement already satisfied: cloud-tpu-client==0.10 in /usr/local/lib/python3.7/dist-packages (0.10)\n",
            "Collecting torch==1.11.0\n",
            "  Using cached torch-1.11.0-cp37-cp37m-manylinux1_x86_64.whl (750.6 MB)\n",
            "Requirement already satisfied: google-api-python-client==1.8.0 in /usr/local/lib/python3.7/dist-packages (from cloud-tpu-client==0.10) (1.8.0)\n",
            "Requirement already satisfied: oauth2client in /usr/local/lib/python3.7/dist-packages (from cloud-tpu-client==0.10) (4.1.3)\n",
            "Requirement already satisfied: typing-extensions in /usr/local/lib/python3.7/dist-packages (from torch==1.11.0) (4.2.0)\n",
            "Requirement already satisfied: google-api-core<2dev,>=1.13.0 in /usr/local/lib/python3.7/dist-packages (from google-api-python-client==1.8.0->cloud-tpu-client==0.10) (1.31.5)\n",
            "Requirement already satisfied: google-auth>=1.4.1 in /usr/local/lib/python3.7/dist-packages (from google-api-python-client==1.8.0->cloud-tpu-client==0.10) (1.35.0)\n",
            "Requirement already satisfied: httplib2<1dev,>=0.9.2 in /usr/local/lib/python3.7/dist-packages (from google-api-python-client==1.8.0->cloud-tpu-client==0.10) (0.17.4)\n",
            "Requirement already satisfied: six<2dev,>=1.6.1 in /usr/local/lib/python3.7/dist-packages (from google-api-python-client==1.8.0->cloud-tpu-client==0.10) (1.15.0)\n",
            "Requirement already satisfied: uritemplate<4dev,>=3.0.0 in /usr/local/lib/python3.7/dist-packages (from google-api-python-client==1.8.0->cloud-tpu-client==0.10) (3.0.1)\n",
            "Requirement already satisfied: google-auth-httplib2>=0.0.3 in /usr/local/lib/python3.7/dist-packages (from google-api-python-client==1.8.0->cloud-tpu-client==0.10) (0.0.4)\n",
            "Requirement already satisfied: packaging>=14.3 in /usr/local/lib/python3.7/dist-packages (from google-api-core<2dev,>=1.13.0->google-api-python-client==1.8.0->cloud-tpu-client==0.10) (21.3)\n",
            "Requirement already satisfied: protobuf>=3.12.0 in /usr/local/lib/python3.7/dist-packages (from google-api-core<2dev,>=1.13.0->google-api-python-client==1.8.0->cloud-tpu-client==0.10) (3.17.3)\n",
            "Requirement already satisfied: setuptools>=40.3.0 in /usr/local/lib/python3.7/dist-packages (from google-api-core<2dev,>=1.13.0->google-api-python-client==1.8.0->cloud-tpu-client==0.10) (57.4.0)\n",
            "Requirement already satisfied: pytz in /usr/local/lib/python3.7/dist-packages (from google-api-core<2dev,>=1.13.0->google-api-python-client==1.8.0->cloud-tpu-client==0.10) (2022.1)\n",
            "Requirement already satisfied: googleapis-common-protos<2.0dev,>=1.6.0 in /usr/local/lib/python3.7/dist-packages (from google-api-core<2dev,>=1.13.0->google-api-python-client==1.8.0->cloud-tpu-client==0.10) (1.56.0)\n",
            "Requirement already satisfied: requests<3.0.0dev,>=2.18.0 in /usr/local/lib/python3.7/dist-packages (from google-api-core<2dev,>=1.13.0->google-api-python-client==1.8.0->cloud-tpu-client==0.10) (2.23.0)\n",
            "Requirement already satisfied: cachetools<5.0,>=2.0.0 in /usr/local/lib/python3.7/dist-packages (from google-auth>=1.4.1->google-api-python-client==1.8.0->cloud-tpu-client==0.10) (4.2.4)\n",
            "Requirement already satisfied: rsa<5,>=3.1.4 in /usr/local/lib/python3.7/dist-packages (from google-auth>=1.4.1->google-api-python-client==1.8.0->cloud-tpu-client==0.10) (4.8)\n",
            "Requirement already satisfied: pyasn1-modules>=0.2.1 in /usr/local/lib/python3.7/dist-packages (from google-auth>=1.4.1->google-api-python-client==1.8.0->cloud-tpu-client==0.10) (0.2.8)\n",
            "Requirement already satisfied: pyparsing!=3.0.5,>=2.0.2 in /usr/local/lib/python3.7/dist-packages (from packaging>=14.3->google-api-core<2dev,>=1.13.0->google-api-python-client==1.8.0->cloud-tpu-client==0.10) (3.0.8)\n",
            "Requirement already satisfied: pyasn1<0.5.0,>=0.4.6 in /usr/local/lib/python3.7/dist-packages (from pyasn1-modules>=0.2.1->google-auth>=1.4.1->google-api-python-client==1.8.0->cloud-tpu-client==0.10) (0.4.8)\n",
            "Requirement already satisfied: chardet<4,>=3.0.2 in /usr/local/lib/python3.7/dist-packages (from requests<3.0.0dev,>=2.18.0->google-api-core<2dev,>=1.13.0->google-api-python-client==1.8.0->cloud-tpu-client==0.10) (3.0.4)\n",
            "Requirement already satisfied: urllib3!=1.25.0,!=1.25.1,<1.26,>=1.21.1 in /usr/local/lib/python3.7/dist-packages (from requests<3.0.0dev,>=2.18.0->google-api-core<2dev,>=1.13.0->google-api-python-client==1.8.0->cloud-tpu-client==0.10) (1.24.3)\n",
            "Requirement already satisfied: certifi>=2017.4.17 in /usr/local/lib/python3.7/dist-packages (from requests<3.0.0dev,>=2.18.0->google-api-core<2dev,>=1.13.0->google-api-python-client==1.8.0->cloud-tpu-client==0.10) (2021.10.8)\n",
            "Requirement already satisfied: idna<3,>=2.5 in /usr/local/lib/python3.7/dist-packages (from requests<3.0.0dev,>=2.18.0->google-api-core<2dev,>=1.13.0->google-api-python-client==1.8.0->cloud-tpu-client==0.10) (2.10)\n",
            "Installing collected packages: torch\n",
            "  Attempting uninstall: torch\n",
            "    Found existing installation: torch 1.11.0a0+git8d365ae\n",
            "    Uninstalling torch-1.11.0a0+git8d365ae:\n",
            "      Successfully uninstalled torch-1.11.0a0+git8d365ae\n",
            "Successfully installed torch-1.11.0\n"
          ]
        }
      ],
      "source": [
        "!pip install cloud-tpu-client==0.10 torch==1.11.0 https://storage.googleapis.com/tpu-pytorch/wheels/colab/torch_xla-1.11-cp37-cp37m-linux_x86_64.whl"
      ]
    },
    {
      "cell_type": "code",
      "execution_count": 4,
      "metadata": {
        "id": "S_WH__ccvIw2",
        "colab": {
          "base_uri": "https://localhost:8080/"
        },
        "outputId": "847c741b-768f-45a3-cf4c-d4a7bcf3e3ad"
      },
      "outputs": [
        {
          "output_type": "stream",
          "name": "stdout",
          "text": [
            "Found existing installation: torch 1.11.0\n",
            "Uninstalling torch-1.11.0:\n",
            "  Successfully uninstalled torch-1.11.0\n",
            "Found existing installation: torchvision 0.13.0a0+7be2f55\n",
            "Uninstalling torchvision-0.13.0a0+7be2f55:\n",
            "  Successfully uninstalled torchvision-0.13.0a0+7be2f55\n"
          ]
        }
      ],
      "source": [
        "pip uninstall torch torchvision --yes"
      ]
    },
    {
      "cell_type": "code",
      "execution_count": 5,
      "metadata": {
        "id": "hsLKUYMZtn_H",
        "colab": {
          "base_uri": "https://localhost:8080/"
        },
        "outputId": "afd0d566-59a0-43c2-e6c7-8c18b73f098a"
      },
      "outputs": [
        {
          "output_type": "stream",
          "name": "stdout",
          "text": [
            "Collecting torch==1.11.0\n",
            "  Using cached torch-1.11.0-cp37-cp37m-manylinux1_x86_64.whl (750.6 MB)\n",
            "Requirement already satisfied: typing-extensions in /usr/local/lib/python3.7/dist-packages (from torch==1.11.0) (4.2.0)\n",
            "Installing collected packages: torch\n",
            "\u001b[31mERROR: pip's dependency resolver does not currently take into account all the packages that are installed. This behaviour is the source of the following dependency conflicts.\n",
            "fastai 1.0.61 requires torchvision, which is not installed.\u001b[0m\n",
            "Successfully installed torch-1.11.0\n",
            "Collecting torchvision\n",
            "  Using cached torchvision-0.12.0-cp37-cp37m-manylinux1_x86_64.whl (21.0 MB)\n",
            "Requirement already satisfied: numpy in /usr/local/lib/python3.7/dist-packages (from torchvision) (1.21.6)\n",
            "Requirement already satisfied: typing-extensions in /usr/local/lib/python3.7/dist-packages (from torchvision) (4.2.0)\n",
            "Requirement already satisfied: requests in /usr/local/lib/python3.7/dist-packages (from torchvision) (2.23.0)\n",
            "Requirement already satisfied: torch==1.11.0 in /usr/local/lib/python3.7/dist-packages (from torchvision) (1.11.0)\n",
            "Requirement already satisfied: pillow!=8.3.*,>=5.3.0 in /usr/local/lib/python3.7/dist-packages (from torchvision) (7.1.2)\n",
            "Requirement already satisfied: certifi>=2017.4.17 in /usr/local/lib/python3.7/dist-packages (from requests->torchvision) (2021.10.8)\n",
            "Requirement already satisfied: chardet<4,>=3.0.2 in /usr/local/lib/python3.7/dist-packages (from requests->torchvision) (3.0.4)\n",
            "Requirement already satisfied: idna<3,>=2.5 in /usr/local/lib/python3.7/dist-packages (from requests->torchvision) (2.10)\n",
            "Requirement already satisfied: urllib3!=1.25.0,!=1.25.1,<1.26,>=1.21.1 in /usr/local/lib/python3.7/dist-packages (from requests->torchvision) (1.24.3)\n",
            "Installing collected packages: torchvision\n",
            "Successfully installed torchvision-0.12.0\n"
          ]
        }
      ],
      "source": [
        "!pip install torch==1.11.0\n",
        "!pip install torchvision"
      ]
    },
    {
      "cell_type": "code",
      "execution_count": 6,
      "metadata": {
        "id": "4Hnt_swgsmAM",
        "colab": {
          "base_uri": "https://localhost:8080/"
        },
        "outputId": "db7605b4-e524-47ed-d1ac-2efe459e7597"
      },
      "outputs": [
        {
          "output_type": "stream",
          "name": "stdout",
          "text": [
            "  % Total    % Received % Xferd  Average Speed   Time    Time     Time  Current\n",
            "                                 Dload  Upload   Total   Spent    Left  Speed\n",
            "\r  0     0    0     0    0     0      0      0 --:--:-- --:--:-- --:--:--     0\r  0     0    0     0    0     0      0      0 --:--:-- --:--:-- --:--:--     0\r100  6034  100  6034    0     0  42492      0 --:--:-- --:--:-- --:--:-- 42195\n",
            "Updating... This may take around 2 minutes.\n",
            "Updating TPU runtime to pytorch-1.11 ...\n",
            "Found existing installation: torch 1.11.0\n",
            "Uninstalling torch-1.11.0:\n",
            "  Successfully uninstalled torch-1.11.0\n",
            "Found existing installation: torchvision 0.12.0\n",
            "Uninstalling torchvision-0.12.0:\n",
            "  Successfully uninstalled torchvision-0.12.0\n",
            "Copying gs://tpu-pytorch/wheels/colab/torch-1.11-cp37-cp37m-linux_x86_64.whl...\n",
            "- [1 files][ 98.8 MiB/ 98.8 MiB]                                                \n",
            "Operation completed over 1 objects/98.8 MiB.                                     \n",
            "Copying gs://tpu-pytorch/wheels/colab/torch_xla-1.11-cp37-cp37m-linux_x86_64.whl...\n",
            "- [1 files][145.8 MiB/145.8 MiB]                                                \n",
            "Operation completed over 1 objects/145.8 MiB.                                    \n",
            "Copying gs://tpu-pytorch/wheels/colab/torchvision-1.11-cp37-cp37m-linux_x86_64.whl...\n",
            "/ [1 files][  5.7 MiB/  5.7 MiB]                                                \n",
            "Operation completed over 1 objects/5.7 MiB.                                      \n",
            "Processing ./torch-1.11-cp37-cp37m-linux_x86_64.whl\n",
            "Requirement already satisfied: typing-extensions in /usr/local/lib/python3.7/dist-packages (from torch==1.11) (4.2.0)\n",
            "Installing collected packages: torch\n",
            "Done updating TPU runtime\n",
            "\u001b[31mERROR: pip's dependency resolver does not currently take into account all the packages that are installed. This behaviour is the source of the following dependency conflicts.\n",
            "fastai 1.0.61 requires torchvision, which is not installed.\n",
            "torchtext 0.12.0 requires torch==1.11.0, but you have torch 1.11.0a0+git8d365ae which is incompatible.\n",
            "torchaudio 0.11.0+cu113 requires torch==1.11.0, but you have torch 1.11.0a0+git8d365ae which is incompatible.\u001b[0m\n",
            "Successfully installed torch-1.11.0a0+git8d365ae\n",
            "Processing ./torch_xla-1.11-cp37-cp37m-linux_x86_64.whl\n",
            "torch-xla is already installed with the same version as the provided wheel. Use --force-reinstall to force an installation of the wheel.\n",
            "Processing ./torchvision-1.11-cp37-cp37m-linux_x86_64.whl\n",
            "Requirement already satisfied: torch in /usr/local/lib/python3.7/dist-packages (from torchvision==1.11) (1.11.0a0+git8d365ae)\n",
            "Requirement already satisfied: requests in /usr/local/lib/python3.7/dist-packages (from torchvision==1.11) (2.23.0)\n",
            "Requirement already satisfied: typing-extensions in /usr/local/lib/python3.7/dist-packages (from torchvision==1.11) (4.2.0)\n",
            "Requirement already satisfied: numpy in /usr/local/lib/python3.7/dist-packages (from torchvision==1.11) (1.21.6)\n",
            "Requirement already satisfied: pillow!=8.3.*,>=5.3.0 in /usr/local/lib/python3.7/dist-packages (from torchvision==1.11) (7.1.2)\n",
            "Requirement already satisfied: certifi>=2017.4.17 in /usr/local/lib/python3.7/dist-packages (from requests->torchvision==1.11) (2021.10.8)\n",
            "Requirement already satisfied: urllib3!=1.25.0,!=1.25.1,<1.26,>=1.21.1 in /usr/local/lib/python3.7/dist-packages (from requests->torchvision==1.11) (1.24.3)\n",
            "Requirement already satisfied: chardet<4,>=3.0.2 in /usr/local/lib/python3.7/dist-packages (from requests->torchvision==1.11) (3.0.4)\n",
            "Requirement already satisfied: idna<3,>=2.5 in /usr/local/lib/python3.7/dist-packages (from requests->torchvision==1.11) (2.10)\n",
            "Installing collected packages: torchvision\n",
            "Successfully installed torchvision-0.13.0a0+7be2f55\n",
            "Reading package lists... Done\n",
            "Building dependency tree       \n",
            "Reading state information... Done\n",
            "libomp5 is already the newest version (5.0.1-1).\n",
            "The following packages were automatically installed and are no longer required:\n",
            "  libnvidia-common-460 nsight-compute-2020.2.0\n",
            "Use 'apt autoremove' to remove them.\n",
            "0 upgraded, 0 newly installed, 0 to remove and 42 not upgraded.\n",
            "/usr/local/lib\n",
            "ln: failed to create symbolic link '/usr/local/lib/libmkl_intel_lp64.so.1': File exists\n",
            "ln: failed to create symbolic link '/usr/local/lib/libmkl_intel_thread.so.1': File exists\n",
            "ln: failed to create symbolic link '/usr/local/lib/libmkl_core.so.1': File exists\n",
            "/sbin/ldconfig.real: /usr/local/lib/python3.7/dist-packages/ideep4py/lib/libmkldnn.so.0 is not a symbolic link\n",
            "\n",
            "\tlinux-vdso.so.1 (0x00007ffdadd36000)\n",
            "\t/usr/lib/x86_64-linux-gnu/libtcmalloc.so.4 (0x00007f84fd21e000)\n",
            "\tlibtorch_cpu.so => /usr/local/lib/python3.7/dist-packages/torch/lib/libtorch_cpu.so (0x00007f84f40ea000)\n",
            "\tlibc10.so => /usr/local/lib/python3.7/dist-packages/torch/lib/libc10.so (0x00007f84f3e8b000)\n",
            "\tlibmkl_intel_lp64.so.1 => /usr/local/lib/libmkl_intel_lp64.so.1 (0x00007f84f335a000)\n",
            "\tlibmkl_intel_thread.so.1 => /usr/local/lib/libmkl_intel_thread.so.1 (0x00007f84f0e7a000)\n",
            "\tlibmkl_core.so.1 => /usr/local/lib/libmkl_core.so.1 (0x00007f84ecd41000)\n",
            "\tlibomp.so.5 => /usr/lib/x86_64-linux-gnu/libomp.so.5 (0x00007f84eca8c000)\n",
            "\tlibpthread.so.0 => /lib/x86_64-linux-gnu/libpthread.so.0 (0x00007f84ec86d000)\n",
            "\tlibm.so.6 => /lib/x86_64-linux-gnu/libm.so.6 (0x00007f84ec4cf000)\n",
            "\tlibdl.so.2 => /lib/x86_64-linux-gnu/libdl.so.2 (0x00007f84ec2cb000)\n",
            "\tlibstdc++.so.6 => /usr/lib/x86_64-linux-gnu/libstdc++.so.6 (0x00007f84ebf42000)\n",
            "\tlibgcc_s.so.1 => /lib/x86_64-linux-gnu/libgcc_s.so.1 (0x00007f84ebd2a000)\n",
            "\tlibc.so.6 => /lib/x86_64-linux-gnu/libc.so.6 (0x00007f84eb939000)\n",
            "\tlibunwind.so.8 => /usr/lib/x86_64-linux-gnu/libunwind.so.8 (0x00007f84eb71e000)\n",
            "\tlibrt.so.1 => /lib/x86_64-linux-gnu/librt.so.1 (0x00007f84eb516000)\n",
            "\t/lib64/ld-linux-x86-64.so.2 (0x00007f84fd690000)\n",
            "\tliblzma.so.5 => /lib/x86_64-linux-gnu/liblzma.so.5 (0x00007f84eb2f0000)\n"
          ]
        }
      ],
      "source": [
        "VERSION = \"1.11\"  #@param [\"1.11\", \"nightly\", \"20220315\"]  # or YYYYMMDD format\n",
        "!curl https://raw.githubusercontent.com/pytorch/xla/master/contrib/scripts/env-setup.py -o pytorch-xla-env-setup.py\n",
        "!python pytorch-xla-env-setup.py --version $VERSION\n",
        "import os \n",
        "os.environ['LD_LIBRARY_PATH']='/usr/local/lib'\n",
        "!echo $LD_LIBRARY_PATH\n",
        "\n",
        "!sudo ln -s /usr/local/lib/libmkl_intel_lp64.so /usr/local/lib/libmkl_intel_lp64.so.1\n",
        "!sudo ln -s /usr/local/lib/libmkl_intel_thread.so /usr/local/lib/libmkl_intel_thread.so.1\n",
        "!sudo ln -s /usr/local/lib/libmkl_core.so /usr/local/lib/libmkl_core.so.1\n",
        "\n",
        "!ldconfig\n",
        "!ldd /usr/local/lib/python3.7/dist-packages/torch/lib/libtorch.so"
      ]
    },
    {
      "cell_type": "code",
      "execution_count": 7,
      "metadata": {
        "id": "G9Wcw8YM-9T8",
        "colab": {
          "base_uri": "https://localhost:8080/"
        },
        "outputId": "a5ef309f-e57d-4b5d-ec38-b6163d31fd22"
      },
      "outputs": [
        {
          "output_type": "stream",
          "name": "stderr",
          "text": [
            "WARNING:root:TPU has started up successfully with version pytorch-1.11\n"
          ]
        }
      ],
      "source": [
        "# imports pytorch\n",
        "import torch\n",
        "\n",
        "# imports the torch_xla package\n",
        "import torch_xla\n",
        "import torch_xla.core.xla_model as xm"
      ]
    },
    {
      "cell_type": "code",
      "execution_count": 8,
      "metadata": {
        "id": "EOJUfo4g_wD1",
        "colab": {
          "base_uri": "https://localhost:8080/"
        },
        "outputId": "b03e4e7f-138e-4d9a-9d5e-999c4baa06a6"
      },
      "outputs": [
        {
          "output_type": "stream",
          "name": "stdout",
          "text": [
            "tensor([[1., 1., 1.],\n",
            "        [1., 1., 1.],\n",
            "        [1., 1., 1.]], device='xla:1')\n"
          ]
        }
      ],
      "source": [
        "# Creates a random tensor on xla:1 (a Cloud TPU core)\n",
        "dev = xm.xla_device()\n",
        "t1 = torch.ones(3, 3, device = dev)\n",
        "print(t1)"
      ]
    },
    {
      "cell_type": "code",
      "execution_count": 9,
      "metadata": {
        "id": "ys9XV4YA2gEp",
        "colab": {
          "base_uri": "https://localhost:8080/"
        },
        "outputId": "928d6c70-c681-469e-dcb1-4e011ef3109f"
      },
      "outputs": [
        {
          "output_type": "stream",
          "name": "stdout",
          "text": [
            "xla:1\n"
          ]
        }
      ],
      "source": [
        "print(dev)"
      ]
    },
    {
      "cell_type": "code",
      "execution_count": 10,
      "metadata": {
        "id": "r-X2BqwQGj1F",
        "colab": {
          "base_uri": "https://localhost:8080/"
        },
        "outputId": "a21cb755-93f0-404b-99d3-1a54e612f5d8"
      },
      "outputs": [
        {
          "output_type": "stream",
          "name": "stdout",
          "text": [
            "tensor([[0., 0., 0.],\n",
            "        [0., 0., 0.],\n",
            "        [0., 0., 0.]], device='xla:2')\n"
          ]
        }
      ],
      "source": [
        "# Creating a tensor on the second Cloud TPU core\n",
        "dev2 = xm.xla_device(n=2, devkind='TPU')\n",
        "t2 = torch.zeros(3, 3, device = dev2)\n",
        "print(t2)"
      ]
    },
    {
      "cell_type": "code",
      "execution_count": 11,
      "metadata": {
        "id": "0kIREKrFG_M1",
        "colab": {
          "base_uri": "https://localhost:8080/"
        },
        "outputId": "c0bf43db-806b-4a9f-d197-77809766561f"
      },
      "outputs": [
        {
          "output_type": "stream",
          "name": "stdout",
          "text": [
            "xla:2\n"
          ]
        }
      ],
      "source": [
        "print(dev2)"
      ]
    },
    {
      "cell_type": "code",
      "execution_count": 12,
      "metadata": {
        "id": "JUKlfmMDGt8l",
        "colab": {
          "base_uri": "https://localhost:8080/"
        },
        "outputId": "8b1b10b9-c993-490f-ecb9-e6a024447270"
      },
      "outputs": [
        {
          "output_type": "stream",
          "name": "stdout",
          "text": [
            "tensor([[0., 0., 0.],\n",
            "        [0., 0., 0.],\n",
            "        [0., 0., 0.]], device='xla:3')\n"
          ]
        }
      ],
      "source": [
        "# Creating a tensor on the second Cloud TPU core\n",
        "dev3 = xm.xla_device(n=3, devkind='TPU')\n",
        "t2 = torch.zeros(3, 3, device = dev3)\n",
        "print(t2)"
      ]
    },
    {
      "cell_type": "code",
      "execution_count": 13,
      "metadata": {
        "id": "6v5BQh2IHCQO",
        "colab": {
          "base_uri": "https://localhost:8080/"
        },
        "outputId": "ff7f7b07-6770-45fd-ea98-eb52f0774d51"
      },
      "outputs": [
        {
          "output_type": "stream",
          "name": "stdout",
          "text": [
            "xla:3\n"
          ]
        }
      ],
      "source": [
        "print(dev3)"
      ]
    },
    {
      "cell_type": "markdown",
      "metadata": {
        "id": "E8lkSNAN2OLV"
      },
      "source": [
        "## Creating NL - PL Pair"
      ]
    },
    {
      "cell_type": "code",
      "execution_count": 14,
      "metadata": {
        "id": "SkDEgCjomdTk",
        "colab": {
          "base_uri": "https://localhost:8080/"
        },
        "outputId": "9e9fcf87-8521-40d2-d89e-b6536ebb6bf1"
      },
      "outputs": [
        {
          "output_type": "stream",
          "name": "stdout",
          "text": [
            "Requirement already satisfied: transformers in /usr/local/lib/python3.7/dist-packages (4.19.0)\n",
            "Requirement already satisfied: regex!=2019.12.17 in /usr/local/lib/python3.7/dist-packages (from transformers) (2019.12.20)\n",
            "Requirement already satisfied: huggingface-hub<1.0,>=0.1.0 in /usr/local/lib/python3.7/dist-packages (from transformers) (0.6.0)\n",
            "Requirement already satisfied: tokenizers!=0.11.3,<0.13,>=0.11.1 in /usr/local/lib/python3.7/dist-packages (from transformers) (0.12.1)\n",
            "Requirement already satisfied: packaging>=20.0 in /usr/local/lib/python3.7/dist-packages (from transformers) (21.3)\n",
            "Requirement already satisfied: numpy>=1.17 in /usr/local/lib/python3.7/dist-packages (from transformers) (1.21.6)\n",
            "Requirement already satisfied: tqdm>=4.27 in /usr/local/lib/python3.7/dist-packages (from transformers) (4.64.0)\n",
            "Requirement already satisfied: importlib-metadata in /usr/local/lib/python3.7/dist-packages (from transformers) (4.11.3)\n",
            "Requirement already satisfied: pyyaml>=5.1 in /usr/local/lib/python3.7/dist-packages (from transformers) (6.0)\n",
            "Requirement already satisfied: requests in /usr/local/lib/python3.7/dist-packages (from transformers) (2.23.0)\n",
            "Requirement already satisfied: filelock in /usr/local/lib/python3.7/dist-packages (from transformers) (3.6.0)\n",
            "Requirement already satisfied: typing-extensions>=3.7.4.3 in /usr/local/lib/python3.7/dist-packages (from huggingface-hub<1.0,>=0.1.0->transformers) (4.2.0)\n",
            "Requirement already satisfied: pyparsing!=3.0.5,>=2.0.2 in /usr/local/lib/python3.7/dist-packages (from packaging>=20.0->transformers) (3.0.8)\n",
            "Requirement already satisfied: zipp>=0.5 in /usr/local/lib/python3.7/dist-packages (from importlib-metadata->transformers) (3.8.0)\n",
            "Requirement already satisfied: urllib3!=1.25.0,!=1.25.1,<1.26,>=1.21.1 in /usr/local/lib/python3.7/dist-packages (from requests->transformers) (1.24.3)\n",
            "Requirement already satisfied: idna<3,>=2.5 in /usr/local/lib/python3.7/dist-packages (from requests->transformers) (2.10)\n",
            "Requirement already satisfied: certifi>=2017.4.17 in /usr/local/lib/python3.7/dist-packages (from requests->transformers) (2021.10.8)\n",
            "Requirement already satisfied: chardet<4,>=3.0.2 in /usr/local/lib/python3.7/dist-packages (from requests->transformers) (3.0.4)\n"
          ]
        }
      ],
      "source": [
        "!pip install transformers"
      ]
    },
    {
      "cell_type": "code",
      "execution_count": 15,
      "metadata": {
        "id": "L66mxSQAtK6L",
        "colab": {
          "base_uri": "https://localhost:8080/"
        },
        "outputId": "1e707d11-7966-4356-fc61-999395c8270e"
      },
      "outputs": [
        {
          "output_type": "execute_result",
          "data": {
            "text/plain": [
              "RobertaModel(\n",
              "  (embeddings): RobertaEmbeddings(\n",
              "    (word_embeddings): Embedding(50265, 768, padding_idx=1)\n",
              "    (position_embeddings): Embedding(514, 768, padding_idx=1)\n",
              "    (token_type_embeddings): Embedding(1, 768)\n",
              "    (LayerNorm): LayerNorm((768,), eps=1e-05, elementwise_affine=True)\n",
              "    (dropout): Dropout(p=0.1, inplace=False)\n",
              "  )\n",
              "  (encoder): RobertaEncoder(\n",
              "    (layer): ModuleList(\n",
              "      (0): RobertaLayer(\n",
              "        (attention): RobertaAttention(\n",
              "          (self): RobertaSelfAttention(\n",
              "            (query): Linear(in_features=768, out_features=768, bias=True)\n",
              "            (key): Linear(in_features=768, out_features=768, bias=True)\n",
              "            (value): Linear(in_features=768, out_features=768, bias=True)\n",
              "            (dropout): Dropout(p=0.1, inplace=False)\n",
              "          )\n",
              "          (output): RobertaSelfOutput(\n",
              "            (dense): Linear(in_features=768, out_features=768, bias=True)\n",
              "            (LayerNorm): LayerNorm((768,), eps=1e-05, elementwise_affine=True)\n",
              "            (dropout): Dropout(p=0.1, inplace=False)\n",
              "          )\n",
              "        )\n",
              "        (intermediate): RobertaIntermediate(\n",
              "          (dense): Linear(in_features=768, out_features=3072, bias=True)\n",
              "          (intermediate_act_fn): GELUActivation()\n",
              "        )\n",
              "        (output): RobertaOutput(\n",
              "          (dense): Linear(in_features=3072, out_features=768, bias=True)\n",
              "          (LayerNorm): LayerNorm((768,), eps=1e-05, elementwise_affine=True)\n",
              "          (dropout): Dropout(p=0.1, inplace=False)\n",
              "        )\n",
              "      )\n",
              "      (1): RobertaLayer(\n",
              "        (attention): RobertaAttention(\n",
              "          (self): RobertaSelfAttention(\n",
              "            (query): Linear(in_features=768, out_features=768, bias=True)\n",
              "            (key): Linear(in_features=768, out_features=768, bias=True)\n",
              "            (value): Linear(in_features=768, out_features=768, bias=True)\n",
              "            (dropout): Dropout(p=0.1, inplace=False)\n",
              "          )\n",
              "          (output): RobertaSelfOutput(\n",
              "            (dense): Linear(in_features=768, out_features=768, bias=True)\n",
              "            (LayerNorm): LayerNorm((768,), eps=1e-05, elementwise_affine=True)\n",
              "            (dropout): Dropout(p=0.1, inplace=False)\n",
              "          )\n",
              "        )\n",
              "        (intermediate): RobertaIntermediate(\n",
              "          (dense): Linear(in_features=768, out_features=3072, bias=True)\n",
              "          (intermediate_act_fn): GELUActivation()\n",
              "        )\n",
              "        (output): RobertaOutput(\n",
              "          (dense): Linear(in_features=3072, out_features=768, bias=True)\n",
              "          (LayerNorm): LayerNorm((768,), eps=1e-05, elementwise_affine=True)\n",
              "          (dropout): Dropout(p=0.1, inplace=False)\n",
              "        )\n",
              "      )\n",
              "      (2): RobertaLayer(\n",
              "        (attention): RobertaAttention(\n",
              "          (self): RobertaSelfAttention(\n",
              "            (query): Linear(in_features=768, out_features=768, bias=True)\n",
              "            (key): Linear(in_features=768, out_features=768, bias=True)\n",
              "            (value): Linear(in_features=768, out_features=768, bias=True)\n",
              "            (dropout): Dropout(p=0.1, inplace=False)\n",
              "          )\n",
              "          (output): RobertaSelfOutput(\n",
              "            (dense): Linear(in_features=768, out_features=768, bias=True)\n",
              "            (LayerNorm): LayerNorm((768,), eps=1e-05, elementwise_affine=True)\n",
              "            (dropout): Dropout(p=0.1, inplace=False)\n",
              "          )\n",
              "        )\n",
              "        (intermediate): RobertaIntermediate(\n",
              "          (dense): Linear(in_features=768, out_features=3072, bias=True)\n",
              "          (intermediate_act_fn): GELUActivation()\n",
              "        )\n",
              "        (output): RobertaOutput(\n",
              "          (dense): Linear(in_features=3072, out_features=768, bias=True)\n",
              "          (LayerNorm): LayerNorm((768,), eps=1e-05, elementwise_affine=True)\n",
              "          (dropout): Dropout(p=0.1, inplace=False)\n",
              "        )\n",
              "      )\n",
              "      (3): RobertaLayer(\n",
              "        (attention): RobertaAttention(\n",
              "          (self): RobertaSelfAttention(\n",
              "            (query): Linear(in_features=768, out_features=768, bias=True)\n",
              "            (key): Linear(in_features=768, out_features=768, bias=True)\n",
              "            (value): Linear(in_features=768, out_features=768, bias=True)\n",
              "            (dropout): Dropout(p=0.1, inplace=False)\n",
              "          )\n",
              "          (output): RobertaSelfOutput(\n",
              "            (dense): Linear(in_features=768, out_features=768, bias=True)\n",
              "            (LayerNorm): LayerNorm((768,), eps=1e-05, elementwise_affine=True)\n",
              "            (dropout): Dropout(p=0.1, inplace=False)\n",
              "          )\n",
              "        )\n",
              "        (intermediate): RobertaIntermediate(\n",
              "          (dense): Linear(in_features=768, out_features=3072, bias=True)\n",
              "          (intermediate_act_fn): GELUActivation()\n",
              "        )\n",
              "        (output): RobertaOutput(\n",
              "          (dense): Linear(in_features=3072, out_features=768, bias=True)\n",
              "          (LayerNorm): LayerNorm((768,), eps=1e-05, elementwise_affine=True)\n",
              "          (dropout): Dropout(p=0.1, inplace=False)\n",
              "        )\n",
              "      )\n",
              "      (4): RobertaLayer(\n",
              "        (attention): RobertaAttention(\n",
              "          (self): RobertaSelfAttention(\n",
              "            (query): Linear(in_features=768, out_features=768, bias=True)\n",
              "            (key): Linear(in_features=768, out_features=768, bias=True)\n",
              "            (value): Linear(in_features=768, out_features=768, bias=True)\n",
              "            (dropout): Dropout(p=0.1, inplace=False)\n",
              "          )\n",
              "          (output): RobertaSelfOutput(\n",
              "            (dense): Linear(in_features=768, out_features=768, bias=True)\n",
              "            (LayerNorm): LayerNorm((768,), eps=1e-05, elementwise_affine=True)\n",
              "            (dropout): Dropout(p=0.1, inplace=False)\n",
              "          )\n",
              "        )\n",
              "        (intermediate): RobertaIntermediate(\n",
              "          (dense): Linear(in_features=768, out_features=3072, bias=True)\n",
              "          (intermediate_act_fn): GELUActivation()\n",
              "        )\n",
              "        (output): RobertaOutput(\n",
              "          (dense): Linear(in_features=3072, out_features=768, bias=True)\n",
              "          (LayerNorm): LayerNorm((768,), eps=1e-05, elementwise_affine=True)\n",
              "          (dropout): Dropout(p=0.1, inplace=False)\n",
              "        )\n",
              "      )\n",
              "      (5): RobertaLayer(\n",
              "        (attention): RobertaAttention(\n",
              "          (self): RobertaSelfAttention(\n",
              "            (query): Linear(in_features=768, out_features=768, bias=True)\n",
              "            (key): Linear(in_features=768, out_features=768, bias=True)\n",
              "            (value): Linear(in_features=768, out_features=768, bias=True)\n",
              "            (dropout): Dropout(p=0.1, inplace=False)\n",
              "          )\n",
              "          (output): RobertaSelfOutput(\n",
              "            (dense): Linear(in_features=768, out_features=768, bias=True)\n",
              "            (LayerNorm): LayerNorm((768,), eps=1e-05, elementwise_affine=True)\n",
              "            (dropout): Dropout(p=0.1, inplace=False)\n",
              "          )\n",
              "        )\n",
              "        (intermediate): RobertaIntermediate(\n",
              "          (dense): Linear(in_features=768, out_features=3072, bias=True)\n",
              "          (intermediate_act_fn): GELUActivation()\n",
              "        )\n",
              "        (output): RobertaOutput(\n",
              "          (dense): Linear(in_features=3072, out_features=768, bias=True)\n",
              "          (LayerNorm): LayerNorm((768,), eps=1e-05, elementwise_affine=True)\n",
              "          (dropout): Dropout(p=0.1, inplace=False)\n",
              "        )\n",
              "      )\n",
              "      (6): RobertaLayer(\n",
              "        (attention): RobertaAttention(\n",
              "          (self): RobertaSelfAttention(\n",
              "            (query): Linear(in_features=768, out_features=768, bias=True)\n",
              "            (key): Linear(in_features=768, out_features=768, bias=True)\n",
              "            (value): Linear(in_features=768, out_features=768, bias=True)\n",
              "            (dropout): Dropout(p=0.1, inplace=False)\n",
              "          )\n",
              "          (output): RobertaSelfOutput(\n",
              "            (dense): Linear(in_features=768, out_features=768, bias=True)\n",
              "            (LayerNorm): LayerNorm((768,), eps=1e-05, elementwise_affine=True)\n",
              "            (dropout): Dropout(p=0.1, inplace=False)\n",
              "          )\n",
              "        )\n",
              "        (intermediate): RobertaIntermediate(\n",
              "          (dense): Linear(in_features=768, out_features=3072, bias=True)\n",
              "          (intermediate_act_fn): GELUActivation()\n",
              "        )\n",
              "        (output): RobertaOutput(\n",
              "          (dense): Linear(in_features=3072, out_features=768, bias=True)\n",
              "          (LayerNorm): LayerNorm((768,), eps=1e-05, elementwise_affine=True)\n",
              "          (dropout): Dropout(p=0.1, inplace=False)\n",
              "        )\n",
              "      )\n",
              "      (7): RobertaLayer(\n",
              "        (attention): RobertaAttention(\n",
              "          (self): RobertaSelfAttention(\n",
              "            (query): Linear(in_features=768, out_features=768, bias=True)\n",
              "            (key): Linear(in_features=768, out_features=768, bias=True)\n",
              "            (value): Linear(in_features=768, out_features=768, bias=True)\n",
              "            (dropout): Dropout(p=0.1, inplace=False)\n",
              "          )\n",
              "          (output): RobertaSelfOutput(\n",
              "            (dense): Linear(in_features=768, out_features=768, bias=True)\n",
              "            (LayerNorm): LayerNorm((768,), eps=1e-05, elementwise_affine=True)\n",
              "            (dropout): Dropout(p=0.1, inplace=False)\n",
              "          )\n",
              "        )\n",
              "        (intermediate): RobertaIntermediate(\n",
              "          (dense): Linear(in_features=768, out_features=3072, bias=True)\n",
              "          (intermediate_act_fn): GELUActivation()\n",
              "        )\n",
              "        (output): RobertaOutput(\n",
              "          (dense): Linear(in_features=3072, out_features=768, bias=True)\n",
              "          (LayerNorm): LayerNorm((768,), eps=1e-05, elementwise_affine=True)\n",
              "          (dropout): Dropout(p=0.1, inplace=False)\n",
              "        )\n",
              "      )\n",
              "      (8): RobertaLayer(\n",
              "        (attention): RobertaAttention(\n",
              "          (self): RobertaSelfAttention(\n",
              "            (query): Linear(in_features=768, out_features=768, bias=True)\n",
              "            (key): Linear(in_features=768, out_features=768, bias=True)\n",
              "            (value): Linear(in_features=768, out_features=768, bias=True)\n",
              "            (dropout): Dropout(p=0.1, inplace=False)\n",
              "          )\n",
              "          (output): RobertaSelfOutput(\n",
              "            (dense): Linear(in_features=768, out_features=768, bias=True)\n",
              "            (LayerNorm): LayerNorm((768,), eps=1e-05, elementwise_affine=True)\n",
              "            (dropout): Dropout(p=0.1, inplace=False)\n",
              "          )\n",
              "        )\n",
              "        (intermediate): RobertaIntermediate(\n",
              "          (dense): Linear(in_features=768, out_features=3072, bias=True)\n",
              "          (intermediate_act_fn): GELUActivation()\n",
              "        )\n",
              "        (output): RobertaOutput(\n",
              "          (dense): Linear(in_features=3072, out_features=768, bias=True)\n",
              "          (LayerNorm): LayerNorm((768,), eps=1e-05, elementwise_affine=True)\n",
              "          (dropout): Dropout(p=0.1, inplace=False)\n",
              "        )\n",
              "      )\n",
              "      (9): RobertaLayer(\n",
              "        (attention): RobertaAttention(\n",
              "          (self): RobertaSelfAttention(\n",
              "            (query): Linear(in_features=768, out_features=768, bias=True)\n",
              "            (key): Linear(in_features=768, out_features=768, bias=True)\n",
              "            (value): Linear(in_features=768, out_features=768, bias=True)\n",
              "            (dropout): Dropout(p=0.1, inplace=False)\n",
              "          )\n",
              "          (output): RobertaSelfOutput(\n",
              "            (dense): Linear(in_features=768, out_features=768, bias=True)\n",
              "            (LayerNorm): LayerNorm((768,), eps=1e-05, elementwise_affine=True)\n",
              "            (dropout): Dropout(p=0.1, inplace=False)\n",
              "          )\n",
              "        )\n",
              "        (intermediate): RobertaIntermediate(\n",
              "          (dense): Linear(in_features=768, out_features=3072, bias=True)\n",
              "          (intermediate_act_fn): GELUActivation()\n",
              "        )\n",
              "        (output): RobertaOutput(\n",
              "          (dense): Linear(in_features=3072, out_features=768, bias=True)\n",
              "          (LayerNorm): LayerNorm((768,), eps=1e-05, elementwise_affine=True)\n",
              "          (dropout): Dropout(p=0.1, inplace=False)\n",
              "        )\n",
              "      )\n",
              "      (10): RobertaLayer(\n",
              "        (attention): RobertaAttention(\n",
              "          (self): RobertaSelfAttention(\n",
              "            (query): Linear(in_features=768, out_features=768, bias=True)\n",
              "            (key): Linear(in_features=768, out_features=768, bias=True)\n",
              "            (value): Linear(in_features=768, out_features=768, bias=True)\n",
              "            (dropout): Dropout(p=0.1, inplace=False)\n",
              "          )\n",
              "          (output): RobertaSelfOutput(\n",
              "            (dense): Linear(in_features=768, out_features=768, bias=True)\n",
              "            (LayerNorm): LayerNorm((768,), eps=1e-05, elementwise_affine=True)\n",
              "            (dropout): Dropout(p=0.1, inplace=False)\n",
              "          )\n",
              "        )\n",
              "        (intermediate): RobertaIntermediate(\n",
              "          (dense): Linear(in_features=768, out_features=3072, bias=True)\n",
              "          (intermediate_act_fn): GELUActivation()\n",
              "        )\n",
              "        (output): RobertaOutput(\n",
              "          (dense): Linear(in_features=3072, out_features=768, bias=True)\n",
              "          (LayerNorm): LayerNorm((768,), eps=1e-05, elementwise_affine=True)\n",
              "          (dropout): Dropout(p=0.1, inplace=False)\n",
              "        )\n",
              "      )\n",
              "      (11): RobertaLayer(\n",
              "        (attention): RobertaAttention(\n",
              "          (self): RobertaSelfAttention(\n",
              "            (query): Linear(in_features=768, out_features=768, bias=True)\n",
              "            (key): Linear(in_features=768, out_features=768, bias=True)\n",
              "            (value): Linear(in_features=768, out_features=768, bias=True)\n",
              "            (dropout): Dropout(p=0.1, inplace=False)\n",
              "          )\n",
              "          (output): RobertaSelfOutput(\n",
              "            (dense): Linear(in_features=768, out_features=768, bias=True)\n",
              "            (LayerNorm): LayerNorm((768,), eps=1e-05, elementwise_affine=True)\n",
              "            (dropout): Dropout(p=0.1, inplace=False)\n",
              "          )\n",
              "        )\n",
              "        (intermediate): RobertaIntermediate(\n",
              "          (dense): Linear(in_features=768, out_features=3072, bias=True)\n",
              "          (intermediate_act_fn): GELUActivation()\n",
              "        )\n",
              "        (output): RobertaOutput(\n",
              "          (dense): Linear(in_features=3072, out_features=768, bias=True)\n",
              "          (LayerNorm): LayerNorm((768,), eps=1e-05, elementwise_affine=True)\n",
              "          (dropout): Dropout(p=0.1, inplace=False)\n",
              "        )\n",
              "      )\n",
              "    )\n",
              "  )\n",
              "  (pooler): RobertaPooler(\n",
              "    (dense): Linear(in_features=768, out_features=768, bias=True)\n",
              "    (activation): Tanh()\n",
              "  )\n",
              ")"
            ]
          },
          "metadata": {},
          "execution_count": 15
        }
      ],
      "source": [
        "import torch\n",
        "from transformers import RobertaTokenizer, RobertaConfig, RobertaModel\n",
        "tokenizer = RobertaTokenizer.from_pretrained(\"microsoft/codebert-base\")\n",
        "model = RobertaModel.from_pretrained(\"microsoft/codebert-base\")\n",
        "model.to(dev)"
      ]
    },
    {
      "cell_type": "code",
      "execution_count": 16,
      "metadata": {
        "id": "wyCtM9FNtTDl",
        "colab": {
          "base_uri": "https://localhost:8080/"
        },
        "outputId": "cb0c8df0-7afb-497b-f638-917f5176c3be"
      },
      "outputs": [
        {
          "output_type": "execute_result",
          "data": {
            "text/plain": [
              "['return', 'Ġmaximum', 'Ġvalue']"
            ]
          },
          "metadata": {},
          "execution_count": 16
        }
      ],
      "source": [
        "from transformers import AutoTokenizer, AutoModel\n",
        "import torch\n",
        "tokenizer = AutoTokenizer.from_pretrained(\"microsoft/codebert-base\")\n",
        "model = AutoModel.from_pretrained(\"microsoft/codebert-base\")\n",
        "nl_tokens=tokenizer.tokenize(\"return maximum value\")\n",
        "nl_tokens"
      ]
    },
    {
      "cell_type": "code",
      "execution_count": 17,
      "metadata": {
        "id": "oA1h80hGu2Ip"
      },
      "outputs": [],
      "source": [
        "code_tokens=tokenizer.tokenize(\"def max(a,b): if a>b: return a else return b\")"
      ]
    },
    {
      "cell_type": "code",
      "execution_count": 18,
      "metadata": {
        "id": "K_l4hTkJvCuQ",
        "colab": {
          "base_uri": "https://localhost:8080/"
        },
        "outputId": "26387fe2-6ffb-4ca3-93df-df0019e8bad3"
      },
      "outputs": [
        {
          "output_type": "execute_result",
          "data": {
            "text/plain": [
              "['return', 'Ġmaximum', 'Ġvalue']"
            ]
          },
          "metadata": {},
          "execution_count": 18
        }
      ],
      "source": [
        "nl_tokens"
      ]
    },
    {
      "cell_type": "code",
      "execution_count": 19,
      "metadata": {
        "id": "buxe7FhFu3ht",
        "colab": {
          "base_uri": "https://localhost:8080/"
        },
        "outputId": "5c2dbfa1-5145-4e76-e83e-f485a4ca2ccc"
      },
      "outputs": [
        {
          "output_type": "execute_result",
          "data": {
            "text/plain": [
              "['<s>',\n",
              " 'return',\n",
              " 'Ġmaximum',\n",
              " 'Ġvalue',\n",
              " '</s>',\n",
              " 'def',\n",
              " 'Ġmax',\n",
              " '(',\n",
              " 'a',\n",
              " ',',\n",
              " 'b',\n",
              " '):',\n",
              " 'Ġif',\n",
              " 'Ġa',\n",
              " '>',\n",
              " 'b',\n",
              " ':',\n",
              " 'Ġreturn',\n",
              " 'Ġa',\n",
              " 'Ġelse',\n",
              " 'Ġreturn',\n",
              " 'Ġb',\n",
              " '</s>']"
            ]
          },
          "metadata": {},
          "execution_count": 19
        }
      ],
      "source": [
        "tokens=[tokenizer.cls_token]+nl_tokens+[tokenizer.sep_token]+code_tokens+[tokenizer.sep_token]\n",
        "tokens"
      ]
    },
    {
      "cell_type": "code",
      "execution_count": 20,
      "metadata": {
        "id": "5_S97x9qvSwu",
        "colab": {
          "base_uri": "https://localhost:8080/"
        },
        "outputId": "964ed501-db22-4de0-fa59-62d2484b0877"
      },
      "outputs": [
        {
          "output_type": "stream",
          "name": "stdout",
          "text": [
            "('<s>', 0)\n",
            "('return', 30921)\n",
            "('Ġmaximum', 4532)\n",
            "('Ġvalue', 923)\n",
            "('</s>', 2)\n",
            "('def', 9232)\n",
            "('Ġmax', 19220)\n",
            "('(', 1640)\n",
            "('a', 102)\n",
            "(',', 6)\n",
            "('b', 428)\n",
            "('):', 3256)\n",
            "('Ġif', 114)\n",
            "('Ġa', 10)\n",
            "('>', 15698)\n",
            "('b', 428)\n",
            "(':', 35)\n",
            "('Ġreturn', 671)\n",
            "('Ġa', 10)\n",
            "('Ġelse', 1493)\n",
            "('Ġreturn', 671)\n",
            "('Ġb', 741)\n",
            "('</s>', 2)\n"
          ]
        }
      ],
      "source": [
        "tokens_ids=tokenizer.convert_tokens_to_ids(tokens)\n",
        "tvpairs = zip(tokens,tokens_ids)\n",
        "for i in tvpairs: \n",
        "  print (tuple(i))"
      ]
    },
    {
      "cell_type": "code",
      "execution_count": 21,
      "metadata": {
        "id": "Olun6OJtvc1Q",
        "colab": {
          "base_uri": "https://localhost:8080/"
        },
        "outputId": "dbdce90c-b414-4904-9d51-c259ae7c3eb5"
      },
      "outputs": [
        {
          "output_type": "execute_result",
          "data": {
            "text/plain": [
              "tensor([[[-0.1423,  0.3766,  0.0443,  ..., -0.2513, -0.3099,  0.3183],\n",
              "         [-0.5739,  0.1333,  0.2314,  ..., -0.1240, -0.1219,  0.2033],\n",
              "         [-0.1579,  0.1335,  0.0291,  ...,  0.2340, -0.8801,  0.6216],\n",
              "         ...,\n",
              "         [-0.4042,  0.2284,  0.5241,  ..., -0.2046, -0.2419,  0.7031],\n",
              "         [-0.3894,  0.4603,  0.4797,  ..., -0.3335, -0.6049,  0.4730],\n",
              "         [-0.1433,  0.3785,  0.0450,  ..., -0.2527, -0.3121,  0.3207]]],\n",
              "       grad_fn=<NativeLayerNormBackward0>)"
            ]
          },
          "metadata": {},
          "execution_count": 21
        }
      ],
      "source": [
        "context_embeddings=model(torch.tensor(tokens_ids)[None,:])[0]\n",
        "context_embeddings"
      ]
    },
    {
      "cell_type": "code",
      "execution_count": 22,
      "metadata": {
        "id": "URhUuV3rwJCl",
        "colab": {
          "base_uri": "https://localhost:8080/",
          "height": 209,
          "referenced_widgets": [
            "18463621c3194b52b33297be66041542",
            "6a6f63de419646bba7f364b00e2226e2",
            "ac57195d900a4f27ba5bd09bf8e9906e",
            "4b5ace7fd8d64ad19af9bb26a5ab2140",
            "841fc22ab55b4376a09f06343d36236a",
            "90ec35d76f2e43e38606a66afbe1fa3c",
            "dcec961ab1164e09a054c98130c37f88",
            "f2b8419004ef42f78ad29758f19b89a5",
            "db5b91abac294f9b97be4bcfbadb2ae2",
            "519217aca08e4095b1674a7cec710f65",
            "ccf0591da27e4eab99e9674f773a8f2e",
            "e526c8f02da74089b10ef3e3b5b882fb",
            "f212af4d53ba4e11b8872421ce1e9e56",
            "e1d118b4d2de40ff98486bca77cc6a53",
            "cf4c9bce8f254502b20d54830373ac6a",
            "460f8a59d6904ec7a1b0bc369742238e",
            "a66a8caba4dd442091753effa1d2b601",
            "ee6e147b94af4fa5b6a8d5992cc40755",
            "ce672ef0d0fd4c0989a55abd5b48a8fd",
            "7a953b04acb846439a0ae689ff09bfb0",
            "1a8226d81f874526a027855d4f2bfdf5",
            "d71317c9150546e5a631801d857735f7",
            "d5de8cd695f845dfbfa3c641a00ac1bd",
            "f15dbea69fc342118f9a72280b71039b",
            "76c196d052a84e1ca24cc8859c1e5237",
            "2167bc12e40440a09feb87409ed15550",
            "e18ef07a05074a9abdba79daa15f3a2a",
            "34f105c0bbe74f4eade16de5d53e3a7f",
            "cc019efab7824c80a016734a8fc75daa",
            "76cf55c9d25f4b7c98fc0cf7ee4d0f89",
            "c282e47712d34639901f478390bb893b",
            "1d772b4b7e274641b62bde3a549e782f",
            "a5e1fc03e6e64136bcee24e4a1922674",
            "01e8afb280b64b338d6e70d6995669e9",
            "5116f2e4000045abaa349fa71d4ffa92",
            "57121159411741eba4ab986e5f506aac",
            "6782ce8d396a46909cdd73a1e89c5b74",
            "7a3204029b7948ddb351e769cac20267",
            "fbac184bc1604b6b9e13a42a07aeac6f",
            "355f280c5e9a4f83bff5a02360d8d3a0",
            "02e8410fdb77422a8258f7b5eb1a0d63",
            "e44fa1bd18084fd39d798a72a24a5486",
            "38e4f2bbebc64ec497892dfdb5cdd02f",
            "d1bfb7095d9e489ca7bd3b43766e7a23",
            "915579ff95ec4516bc5757eff8410774",
            "322c9d8fe41441cc879afca5b2193be4",
            "edd2501aaeae48c9a192676ee6b88fc6",
            "7e9e2e033d9a4fac85fd303ee0ce47d1",
            "9c4e71da41714e87b430b64e590a1c05",
            "63158586e7db42809c663fb7974706bc",
            "c86a06cdc3c34d02b405940afd36cf90",
            "538c80c9a60541258c9451ad6d6be9e6",
            "517bcc8fe7c14000af55d14710d5f266",
            "46546157bcf74c13a5d1543a766367c2",
            "a6b79d4bd3c74115b88103020bce979e",
            "37171834d2a64865b489d60685a2ba51",
            "70a84d0d6f89497594d50f186d611f87",
            "7835154fc85f4c5d89e44f058fcf23d3",
            "5db833f92615426fa67c99314036abf8",
            "71a853e5849c4f078a6afefa1ea6c706",
            "ea877ce38b7f401294a8b1792c3a4192",
            "935da6f3ef4345b8bd582658aa2e5cf8",
            "ab48ccd14ed94a71944b3b8676364ed6",
            "9ad5d5d8a6e94f9ca416a65eaa0a4956",
            "071e2e508be545369e2fd114a14e139a",
            "47dd1851f4ed4ad38a8a971f32cd6e4c"
          ]
        },
        "outputId": "ea78fa50-89f6-4789-b256-37cee2d28dfb"
      },
      "outputs": [
        {
          "output_type": "display_data",
          "data": {
            "text/plain": [
              "Downloading:   0%|          | 0.00/504 [00:00<?, ?B/s]"
            ],
            "application/vnd.jupyter.widget-view+json": {
              "version_major": 2,
              "version_minor": 0,
              "model_id": "18463621c3194b52b33297be66041542"
            }
          },
          "metadata": {}
        },
        {
          "output_type": "display_data",
          "data": {
            "text/plain": [
              "Downloading:   0%|          | 0.00/478M [00:00<?, ?B/s]"
            ],
            "application/vnd.jupyter.widget-view+json": {
              "version_major": 2,
              "version_minor": 0,
              "model_id": "e526c8f02da74089b10ef3e3b5b882fb"
            }
          },
          "metadata": {}
        },
        {
          "output_type": "display_data",
          "data": {
            "text/plain": [
              "Downloading:   0%|          | 0.00/878k [00:00<?, ?B/s]"
            ],
            "application/vnd.jupyter.widget-view+json": {
              "version_major": 2,
              "version_minor": 0,
              "model_id": "d5de8cd695f845dfbfa3c641a00ac1bd"
            }
          },
          "metadata": {}
        },
        {
          "output_type": "display_data",
          "data": {
            "text/plain": [
              "Downloading:   0%|          | 0.00/446k [00:00<?, ?B/s]"
            ],
            "application/vnd.jupyter.widget-view+json": {
              "version_major": 2,
              "version_minor": 0,
              "model_id": "01e8afb280b64b338d6e70d6995669e9"
            }
          },
          "metadata": {}
        },
        {
          "output_type": "display_data",
          "data": {
            "text/plain": [
              "Downloading:   0%|          | 0.00/150 [00:00<?, ?B/s]"
            ],
            "application/vnd.jupyter.widget-view+json": {
              "version_major": 2,
              "version_minor": 0,
              "model_id": "915579ff95ec4516bc5757eff8410774"
            }
          },
          "metadata": {}
        },
        {
          "output_type": "display_data",
          "data": {
            "text/plain": [
              "Downloading:   0%|          | 0.00/25.0 [00:00<?, ?B/s]"
            ],
            "application/vnd.jupyter.widget-view+json": {
              "version_major": 2,
              "version_minor": 0,
              "model_id": "37171834d2a64865b489d60685a2ba51"
            }
          },
          "metadata": {}
        }
      ],
      "source": [
        "from transformers import RobertaConfig, RobertaTokenizer, RobertaForMaskedLM, pipeline\n",
        "model = RobertaForMaskedLM.from_pretrained(\"microsoft/codebert-base-mlm\")\n",
        "tokenizer = RobertaTokenizer.from_pretrained(\"microsoft/codebert-base-mlm\")"
      ]
    },
    {
      "cell_type": "markdown",
      "metadata": {
        "id": "31IrwG_OJbx2"
      },
      "source": [
        "#Patch Detection or Change in Code"
      ]
    },
    {
      "cell_type": "markdown",
      "metadata": {
        "id": "y5Y8x2MEY4Xt"
      },
      "source": [
        "## difflib: Use for texts"
      ]
    },
    {
      "cell_type": "code",
      "execution_count": 23,
      "metadata": {
        "id": "4pysheocJaq-"
      },
      "outputs": [],
      "source": [
        "text1 = \"\"\"Saurav Is a good boy\"\"\"\n",
        "text1_lines = text1.splitlines()\n",
        "\n",
        "text2 = \"\"\"Saurav is a bad boy \"\"\"\n",
        "text2_lines = text2.splitlines()"
      ]
    },
    {
      "cell_type": "code",
      "execution_count": 24,
      "metadata": {
        "id": "LgZPdz-7Xb4_",
        "colab": {
          "base_uri": "https://localhost:8080/"
        },
        "outputId": "152def5f-f8f9-4d15-8fe0-2cc1a8894d20"
      },
      "outputs": [
        {
          "output_type": "stream",
          "name": "stdout",
          "text": [
            "- Saurav Is a good boy\n",
            "?        ^    ^^^\n",
            "\n",
            "+ Saurav is a bad boy \n",
            "?        ^    ^^     +\n",
            "\n"
          ]
        }
      ],
      "source": [
        "import difflib\n",
        "d = difflib.Differ()\n",
        "diff = d.compare(text1_lines, text2_lines)\n",
        "print ('\\n'.join(diff))"
      ]
    },
    {
      "cell_type": "markdown",
      "metadata": {
        "id": "GxUgTRjobpyV"
      },
      "source": [
        "## diffUtils: Good for codes\n"
      ]
    },
    {
      "cell_type": "code",
      "execution_count": 25,
      "metadata": {
        "id": "cAojMnLFr-7t",
        "colab": {
          "base_uri": "https://localhost:8080/",
          "height": 382
        },
        "outputId": "3f481d1c-c6de-4fef-b834-ac3211fdea44"
      },
      "outputs": [
        {
          "output_type": "stream",
          "name": "stdout",
          "text": [
            "Requirement already satisfied: setuptools in /usr/local/lib/python3.7/dist-packages (57.4.0)\n",
            "Collecting setuptools\n",
            "  Downloading setuptools-62.2.0-py3-none-any.whl (1.1 MB)\n",
            "\u001b[K     |████████████████████████████████| 1.1 MB 5.3 MB/s \n",
            "\u001b[?25hInstalling collected packages: setuptools\n",
            "  Attempting uninstall: setuptools\n",
            "    Found existing installation: setuptools 57.4.0\n",
            "    Uninstalling setuptools-57.4.0:\n",
            "      Successfully uninstalled setuptools-57.4.0\n",
            "\u001b[31mERROR: pip's dependency resolver does not currently take into account all the packages that are installed. This behaviour is the source of the following dependency conflicts.\n",
            "tensorflow 2.8.0 requires tf-estimator-nightly==2.8.0.dev2021122109, which is not installed.\n",
            "earthengine-api 0.1.307 requires google-api-python-client<2,>=1.12.1, but you have google-api-python-client 1.8.0 which is incompatible.\n",
            "datascience 0.10.6 requires folium==0.2.1, but you have folium 0.8.3 which is incompatible.\u001b[0m\n",
            "Successfully installed setuptools-62.2.0\n"
          ]
        },
        {
          "output_type": "display_data",
          "data": {
            "application/vnd.colab-display-data+json": {
              "pip_warning": {
                "packages": [
                  "pkg_resources"
                ]
              }
            }
          },
          "metadata": {}
        }
      ],
      "source": [
        "!pip install --upgrade setuptools\n"
      ]
    },
    {
      "cell_type": "code",
      "execution_count": 26,
      "metadata": {
        "id": "-1WsICJUqkS7",
        "colab": {
          "base_uri": "https://localhost:8080/"
        },
        "outputId": "16673e35-bbc9-44c2-c1c0-9e10c64091df"
      },
      "outputs": [
        {
          "output_type": "stream",
          "name": "stdout",
          "text": [
            "Collecting diff-match-patch\n",
            "  Downloading diff_match_patch-20200713-py3-none-any.whl (61 kB)\n",
            "\u001b[?25l\r\u001b[K     |█████▎                          | 10 kB 26.8 MB/s eta 0:00:01\r\u001b[K     |██████████▋                     | 20 kB 12.9 MB/s eta 0:00:01\r\u001b[K     |████████████████                | 30 kB 9.9 MB/s eta 0:00:01\r\u001b[K     |█████████████████████▎          | 40 kB 8.6 MB/s eta 0:00:01\r\u001b[K     |██████████████████████████▋     | 51 kB 5.4 MB/s eta 0:00:01\r\u001b[K     |████████████████████████████████| 61 kB 5.9 MB/s eta 0:00:01\r\u001b[K     |████████████████████████████████| 61 kB 188 kB/s \n",
            "\u001b[?25hInstalling collected packages: diff-match-patch\n",
            "Successfully installed diff-match-patch-20200713\n"
          ]
        }
      ],
      "source": [
        "!python -m pip install diff-match-patch\n"
      ]
    },
    {
      "cell_type": "code",
      "execution_count": 27,
      "metadata": {
        "id": "0O9jjNtl6DRU"
      },
      "outputs": [],
      "source": [
        "Source = \"I am the very model of a modern Major-General.\"\n",
        "Update =\"I am the very model of a cartoon individual.matters?\""
      ]
    },
    {
      "cell_type": "code",
      "execution_count": 28,
      "metadata": {
        "id": "GotbhjAtbpgM",
        "colab": {
          "base_uri": "https://localhost:8080/",
          "height": 36
        },
        "outputId": "0beba80f-f647-4d8c-8168-75671d51c42a"
      },
      "outputs": [
        {
          "output_type": "execute_result",
          "data": {
            "text/plain": [
              "'@@ -22,25 +22,31 @@\\n f a \\n-modern Major-General.\\n+cartoon individual.matters?\\n'"
            ],
            "application/vnd.google.colaboratory.intrinsic+json": {
              "type": "string"
            }
          },
          "metadata": {},
          "execution_count": 28
        }
      ],
      "source": [
        "from diff_match_patch import diff_match_patch\n",
        "\n",
        "dmp = diff_match_patch()\n",
        "patches = dmp.patch_make(Source, Update)\n",
        "diff = dmp.patch_toText(patches)\n",
        "diff"
      ]
    },
    {
      "cell_type": "code",
      "execution_count": 29,
      "metadata": {
        "id": "-azglivM8onx"
      },
      "outputs": [],
      "source": [
        "from diff_match_patch import diff_match_patch\n",
        "\n",
        "dmp = diff_match_patch()\n",
        "patches = dmp.patch_fromText(diff)\n",
        "new_text1, _ = dmp.patch_apply(patches, Source)\n"
      ]
    },
    {
      "cell_type": "code",
      "execution_count": 30,
      "metadata": {
        "id": "7ubCnXd5-Qkh",
        "colab": {
          "base_uri": "https://localhost:8080/"
        },
        "outputId": "0f2a54e4-380e-43f8-92ee-cb457e5e7af8"
      },
      "outputs": [
        {
          "output_type": "stream",
          "name": "stdout",
          "text": [
            "I am the very model of a cartoon individual.matters?\n"
          ]
        }
      ],
      "source": [
        "print(new_text1)"
      ]
    },
    {
      "cell_type": "markdown",
      "metadata": {
        "id": "0boXKZAwBfWE"
      },
      "source": [
        "##patch test"
      ]
    },
    {
      "cell_type": "code",
      "execution_count": 31,
      "metadata": {
        "id": "d-seBaNANJ0w"
      },
      "outputs": [],
      "source": [
        "add = \"\"\" \n",
        "def add(a, b):\n",
        "  return a + b\n",
        "\"\"\"\n",
        "\n",
        "sub = \"\"\"\n",
        "def add(a,b):\n",
        "  return a - b\n",
        "\"\"\""
      ]
    },
    {
      "cell_type": "code",
      "execution_count": 32,
      "metadata": {
        "id": "F7luSO4W6LxP"
      },
      "outputs": [],
      "source": [
        "codeB2G = \"\"\"\n",
        "package testcases.CWE191_Integer_Underflow.s05; \n",
        "import testcasesupport.*; \n",
        "  \n",
        "public class CWE191_Integer_Underflow__short_rand_predec_81_goodB2G extends CWE191_Integer_Underflow__short_rand_predec_81_base \n",
        "{ \n",
        "    public void action(short data ) throws Throwable \n",
        "    { \n",
        "  \n",
        "        /* FIX: Add a check to prevent an underflow from occurring */\n",
        "        if (data > Short.MIN_VALUE) \n",
        "        { \n",
        "            short result = (short)(--data); \n",
        "            IO.writeLine(\"result: \" + result); \n",
        "        } \n",
        "        else\n",
        "        { \n",
        "            IO.writeLine(\"data value is too small to decrement.\"); \n",
        "        } \n",
        "  \n",
        "    } \n",
        "} \n",
        "\"\"\""
      ]
    },
    {
      "cell_type": "code",
      "execution_count": 33,
      "metadata": {
        "id": "hGu1EH-D7xGO"
      },
      "outputs": [],
      "source": [
        "codeG2B = \"\"\"\n",
        "package testcases.CWE191_Integer_Underflow.s05; \n",
        "import testcasesupport.*; \n",
        "  \n",
        "public class CWE191_Integer_Underflow__short_rand_predec_81_goodG2B extends CWE191_Integer_Underflow__short_rand_predec_81_base \n",
        "{ \n",
        "    public void action(short data ) throws Throwable \n",
        "    { \n",
        "  \n",
        "        /* POTENTIAL FLAW: if data == Short.MIN_VALUE, this will overflow */\n",
        "        short result = (short)(--data); \n",
        "  \n",
        "        IO.writeLine(\"result: \" + result); \n",
        "  \n",
        "    } \n",
        "} \n",
        "} \n",
        "\"\"\""
      ]
    },
    {
      "cell_type": "code",
      "execution_count": 34,
      "metadata": {
        "id": "fdovj85zVEwL"
      },
      "outputs": [],
      "source": [
        "def findPatch(Source, Update):\n",
        "  from diff_match_patch import diff_match_patch\n",
        "  tmpPatch = diff_match_patch()\n",
        "  tempPatches = dmp.patch_make(Source, Update)\n",
        "  diff = dmp.patch_toText(tempPatches)\n",
        "  tempPatches = dmp.patch_fromText(diff)\n",
        "  tempdiff = dmp.patch_toText(tempPatches)\n",
        "  print(tempdiff)\n",
        "\n",
        "def applyPatch(code,patch):\n",
        "  from diff_match_patch import diff_match_patch\n",
        "  dmp = diff_match_patch()\n",
        "  new_text1, _ = dmp.patch_apply(patch, code)\n",
        "  print(new_text1)\n",
        "\n"
      ]
    },
    {
      "cell_type": "code",
      "execution_count": 35,
      "metadata": {
        "id": "YRjeRqlbWnEL",
        "colab": {
          "base_uri": "https://localhost:8080/"
        },
        "outputId": "50c1ec96-9f56-4b72-e270-ec00ac6bf7a3"
      },
      "outputs": [
        {
          "output_type": "stream",
          "name": "stdout",
          "text": [
            "@@ -1,8 +1,9 @@\n",
            "+ \n",
            " %0Adef add\n",
            "@@ -5,16 +5,17 @@\n",
            " f add(a,\n",
            "+ \n",
            " b):%0A  re\n",
            "@@ -25,8 +25,8 @@\n",
            " n a \n",
            "--\n",
            "++\n",
            "  b%0A\n",
            "\n",
            " \n",
            "def add(a, b):\n",
            "  return a + b\n",
            "\n",
            "@@ -1,9 +1,8 @@\n",
            "- \n",
            " %0Adef add\n",
            "@@ -4,17 +4,16 @@\n",
            " f add(a,\n",
            "- \n",
            " b):%0A  re\n",
            "@@ -23,8 +23,8 @@\n",
            " n a \n",
            "-+\n",
            "+-\n",
            "  b%0A\n",
            "\n",
            "\n",
            "def add(a,b):\n",
            "  return a - b\n",
            "\n"
          ]
        }
      ],
      "source": [
        "#Testing Block for two functions\n",
        "add2sub = findPatch(sub,add)\n",
        "applyPatch(add, add2sub)\n",
        "sub2add = findPatch(add,sub)\n",
        "applyPatch(sub, sub2add)\n"
      ]
    },
    {
      "cell_type": "code",
      "execution_count": 36,
      "metadata": {
        "id": "mWY6MzKN8ecN",
        "colab": {
          "base_uri": "https://localhost:8080/"
        },
        "outputId": "91e74a3b-8e83-4060-9910-a841371460a2"
      },
      "outputs": [
        {
          "output_type": "stream",
          "name": "stdout",
          "text": [
            "@@ -141,11 +141,11 @@\n",
            " good\n",
            "-G2B\n",
            "+B2G\n",
            "  ext\n",
            "@@ -284,34 +284,85 @@\n",
            "  /* \n",
            "-POTENTIAL FLAW:\n",
            "+FIX: Add a check to prevent an underflow from occurring */%0A       \n",
            "  if \n",
            "+(\n",
            " data \n",
            "-==\n",
            "+%3E\n",
            "  Sho\n",
            "@@ -377,32 +377,26 @@\n",
            " ALUE\n",
            "-, this will overflow */%0A\n",
            "+) %0A        %7B %0A    \n",
            "     \n",
            "@@ -430,25 +430,26 @@\n",
            " --data); %0A  \n",
            "-%0A\n",
            "+  \n",
            "         IO.w\n",
            "@@ -486,16 +486,127 @@\n",
            "  %0A  \n",
            "+      %7D %0A        else%0A        %7B %0A            IO.writeLine(%22data value is too small to decrement.%22); %0A        %7D %0A  \n",
            " %0A    \n",
            "-%7D %0A\n",
            " %7D %0A%7D\n",
            "\n",
            "None\n"
          ]
        }
      ],
      "source": [
        "#Testing Block for two functions\n",
        "add2sub = findPatch(codeG2B,codeB2G)\n",
        "print(add2sub)\n"
      ]
    },
    {
      "cell_type": "markdown",
      "metadata": {
        "id": "SAqr0u65Yw91"
      },
      "source": [
        "##Creating Data\n"
      ]
    },
    {
      "cell_type": "code",
      "execution_count": 37,
      "metadata": {
        "id": "JNOpL1c8BlpV"
      },
      "outputs": [],
      "source": [
        "import os\n",
        "import shutil\n",
        "\n",
        "folder = r\"/content/drive/MyDrive/Thesis/DataBackup/CWE-789/CWE-789/testcases/000/117\"\n",
        "subfolders = [f.path for f in os.scandir(folder) if f.is_dir()]\n",
        "dst = '/content/drive/MyDrive/Thesis/DataBackup/CWE-789/CWE-789/testcases/000/117'\n",
        "for sub in subfolders:\n",
        "    for f in os.listdir(sub):\n",
        "      src = os.path.join(sub, f)\n",
        "      dst = folder\n",
        "      if f.endswith('.cpp'):\n",
        "          shutil.move(src, dst)\n",
        "\n"
      ]
    },
    {
      "cell_type": "code",
      "execution_count": 38,
      "metadata": {
        "id": "2xf-Xy_tTv_e"
      },
      "outputs": [],
      "source": [
        "import os\n",
        "import shutil\n",
        "\n",
        "folder = r\"/content/drive/MyDrive/Thesis/CWE195\"\n",
        "subfolders = [f.path for f in os.scandir(folder) if f.is_dir()]\n",
        "dst = '/content/drive/MyDrive/Thesis/CWE195'\n",
        "\n",
        "\n",
        "for sub in subfolders:\n",
        "    for f in os.listdir(sub):\n",
        "        src = os.path.join(sub, f)\n",
        "        dst = folder\n",
        "        print (\"src: \",  src , \"dst: \",dst)\n",
        "        if f.endswith('.cpp'):\n",
        "          shutil.move(src, dst)\n"
      ]
    },
    {
      "cell_type": "code",
      "source": [
        "import os\n",
        "import shutil\n",
        "\n",
        "folder = r\"/content/drive/MyDrive/Thesis/DataSet/CWE-090\"\n",
        "subfolders = [f.path for f in os.scandir(folder) if f.is_dir()]\n",
        "dst = '/content/drive/MyDrive/Thesis/DataSet/CWE-090'\n",
        "\n",
        "\n",
        "for sub in subfolders:\n",
        "    for f in os.listdir(sub):\n",
        "        src = os.path.join(sub, f)\n",
        "        dst = folder\n",
        "        print (\"src: \",  src , \"dst: \",dst)\n",
        "        if f.endswith('.cpp'):\n",
        "          shutil.move(src, dst)"
      ],
      "metadata": {
        "id": "_Q2kWMKUH3tW"
      },
      "execution_count": 39,
      "outputs": []
    },
    {
      "cell_type": "markdown",
      "metadata": {
        "id": "dn7Ga8f3ff2P"
      },
      "source": [
        "\n",
        "\n",
        "##Extracting Features"
      ]
    },
    {
      "cell_type": "markdown",
      "source": [
        "##Converting C++ to Tensor"
      ],
      "metadata": {
        "id": "ECLgKpb8gvxJ"
      }
    },
    {
      "cell_type": "markdown",
      "source": [
        "##Remvoing comments from all c++ files\n"
      ],
      "metadata": {
        "id": "pO9TlMmUinWW"
      }
    },
    {
      "cell_type": "markdown",
      "source": [
        "###Creating Regex"
      ],
      "metadata": {
        "id": "YUybuc2U0ixQ"
      }
    },
    {
      "cell_type": "code",
      "source": [
        "f = open(\"/content/drive/MyDrive/Thesis/CWE-078/Copy of CWE78_OS_Command_Injection__wchar_t_listen_socket_execl_43.cpp\", 'r')\n",
        "c =f.read()\n",
        "import re\n",
        "pat = \"F\"\n",
        "Codey = re.sub(pat, \" \", c)\n",
        "print(y)\n",
        "writefile = open('/content/drive/MyDrive/Thesis/CWE-078/sample1.txt', 'w')\n",
        "writefile.write(y)\n",
        "Codey"
      ],
      "metadata": {
        "id": "YgHVveb-x64r",
        "colab": {
          "base_uri": "https://localhost:8080/",
          "height": 244
        },
        "outputId": "2f37cedd-af4b-4e75-9c63-1244c93523a8"
      },
      "execution_count": 40,
      "outputs": [
        {
          "output_type": "error",
          "ename": "NameError",
          "evalue": "ignored",
          "traceback": [
            "\u001b[0;31m---------------------------------------------------------------------------\u001b[0m",
            "\u001b[0;31mNameError\u001b[0m                                 Traceback (most recent call last)",
            "\u001b[0;32m<ipython-input-40-91f5618033cf>\u001b[0m in \u001b[0;36m<module>\u001b[0;34m()\u001b[0m\n\u001b[1;32m      4\u001b[0m \u001b[0mpat\u001b[0m \u001b[0;34m=\u001b[0m \u001b[0;34m\"F\"\u001b[0m\u001b[0;34m\u001b[0m\u001b[0;34m\u001b[0m\u001b[0m\n\u001b[1;32m      5\u001b[0m \u001b[0mCodey\u001b[0m \u001b[0;34m=\u001b[0m \u001b[0mre\u001b[0m\u001b[0;34m.\u001b[0m\u001b[0msub\u001b[0m\u001b[0;34m(\u001b[0m\u001b[0mpat\u001b[0m\u001b[0;34m,\u001b[0m \u001b[0;34m\" \"\u001b[0m\u001b[0;34m,\u001b[0m \u001b[0mc\u001b[0m\u001b[0;34m)\u001b[0m\u001b[0;34m\u001b[0m\u001b[0;34m\u001b[0m\u001b[0m\n\u001b[0;32m----> 6\u001b[0;31m \u001b[0mprint\u001b[0m\u001b[0;34m(\u001b[0m\u001b[0my\u001b[0m\u001b[0;34m)\u001b[0m\u001b[0;34m\u001b[0m\u001b[0;34m\u001b[0m\u001b[0m\n\u001b[0m\u001b[1;32m      7\u001b[0m \u001b[0mwritefile\u001b[0m \u001b[0;34m=\u001b[0m \u001b[0mopen\u001b[0m\u001b[0;34m(\u001b[0m\u001b[0;34m'/content/drive/MyDrive/Thesis/CWE-078/sample1.txt'\u001b[0m\u001b[0;34m,\u001b[0m \u001b[0;34m'w'\u001b[0m\u001b[0;34m)\u001b[0m\u001b[0;34m\u001b[0m\u001b[0;34m\u001b[0m\u001b[0m\n\u001b[1;32m      8\u001b[0m \u001b[0mwritefile\u001b[0m\u001b[0;34m.\u001b[0m\u001b[0mwrite\u001b[0m\u001b[0;34m(\u001b[0m\u001b[0my\u001b[0m\u001b[0;34m)\u001b[0m\u001b[0;34m\u001b[0m\u001b[0;34m\u001b[0m\u001b[0m\n",
            "\u001b[0;31mNameError\u001b[0m: name 'y' is not defined"
          ]
        }
      ]
    },
    {
      "cell_type": "markdown",
      "source": [
        "###Reading c++ as text"
      ],
      "metadata": {
        "id": "aUUNfI8QsbN5"
      }
    },
    {
      "cell_type": "code",
      "execution_count": null,
      "metadata": {
        "id": "4OgrM6ydflsY"
      },
      "outputs": [],
      "source": [
        "f = open(\"/content/drive/MyDrive/Thesis/CWE-078/CWE78_OS_Command_Injection__wchar_t_file_w32spawnl_83_bad.cpp\", \"r\")\n",
        "CODE = f.read()\n",
        "CODE"
      ]
    },
    {
      "cell_type": "code",
      "source": [
        ""
      ],
      "metadata": {
        "id": "Rg-QLfgjiqmg"
      },
      "execution_count": null,
      "outputs": []
    },
    {
      "cell_type": "code",
      "source": [
        "import re\n",
        "pat = \"\\/\\*(.|\\n)*?\\*/\"\n",
        "pat1 =\"\\s\"\n",
        "Codey = re.sub(pat, \"\", CODE)\n",
        "Codey = re.sub(pat1,\"\",Codey)\n",
        "print(Codey)"
      ],
      "metadata": {
        "id": "tJtb1stN7lZM"
      },
      "execution_count": null,
      "outputs": []
    },
    {
      "cell_type": "markdown",
      "source": [
        "###Convert code to tensor"
      ],
      "metadata": {
        "id": "XuCIOHH2jX7i"
      }
    },
    {
      "cell_type": "markdown",
      "source": [
        "###AutoTokenizer"
      ],
      "metadata": {
        "id": "cDId98uUufXS"
      }
    },
    {
      "cell_type": "code",
      "source": [
        "from transformers import AutoTokenizer, AutoModel\n",
        "import torch\n",
        "\n",
        "\n",
        "# Init\n",
        "tokenizer = AutoTokenizer.from_pretrained(\"microsoft/codebert-base\")\n",
        "modelx = AutoModel.from_pretrained(\"microsoft/codebert-base\")\n",
        "#model1.to(dev2)\n",
        "\n",
        "\n",
        "# Tokenization \n",
        "code_tokens=tokenizer.tokenize(Codey)\n",
        "tokens=code_tokens\n",
        "tokens1 = tokenizer.tokenize(CODE)\n",
        "\n",
        "\n",
        "# # Convert tokens to ids\n",
        "tokens_ids=tokenizer.convert_tokens_to_ids(tokens)\n",
        "context_embeddings=modelx(torch.tensor(tokens_ids)[None,:])[0]\n",
        "\n",
        "\n",
        "# # Print\n",
        "print(context_embeddings)"
      ],
      "metadata": {
        "id": "kKWTvpstoB5B"
      },
      "execution_count": null,
      "outputs": []
    },
    {
      "cell_type": "code",
      "source": [
        "print(tokens)"
      ],
      "metadata": {
        "id": "CTiwr3As_ZAx"
      },
      "execution_count": null,
      "outputs": []
    },
    {
      "cell_type": "code",
      "source": [
        "print(tokens1)"
      ],
      "metadata": {
        "id": "IjKQ-xkBDOZs"
      },
      "execution_count": null,
      "outputs": []
    },
    {
      "cell_type": "code",
      "source": [
        "#@title ##GPT Tokenizer\n",
        "from transformers import GPT2Tokenizer\n",
        "\n",
        "text = \"This is a sequence\"\n",
        "\n",
        "tokenizer = GPT2Tokenizer.from_pretrained(\"gpt2\")\n",
        "x = tokenizer.encode(Codey)\n",
        "\n",
        "print(len(x))"
      ],
      "metadata": {
        "id": "x1J9l-rcujk8"
      },
      "execution_count": null,
      "outputs": []
    },
    {
      "cell_type": "markdown",
      "source": [
        "###Tokenizing all the files in the directory"
      ],
      "metadata": {
        "id": "3s9ApkdzAQ3J"
      }
    },
    {
      "cell_type": "code",
      "source": [
        "\n",
        "# import required module\n",
        "from pathlib import Path\n",
        " \n",
        "# assign directory\n",
        "directory = '/content/drive/MyDrive/Thesis/DataSet/CWE-090'\n",
        " \n",
        "# iterate over files in\n",
        "# that directory\n",
        "files = Path(directory).glob('*')\n",
        "for file in files:\n",
        "    print(file)"
      ],
      "metadata": {
        "id": "qjeQX_y3AUa4"
      },
      "execution_count": null,
      "outputs": []
    },
    {
      "cell_type": "code",
      "source": [
        "#@title ##Converting all files into numpy array of tokens and tensors\n",
        "#@markdown ####function Code2Tensor\n",
        "def code2Tensor(directory,vulnerability,programmingLanguage,fileExtension):\n",
        "  \n",
        "  #@markdown #####necessary imports\n",
        "  from pathlib import Path\n",
        "  from transformers import AutoTokenizer, AutoModel\n",
        "  from transformers import GPT2Tokenizer\n",
        "  import torch\n",
        "  import os\n",
        "  import re\n",
        "\n",
        "  #creating tokenizers\n",
        "  tokenizerGPT = GPT2Tokenizer.from_pretrained(\"gpt2\")\n",
        "  tokenizerAuto = AutoTokenizer.from_pretrained(\"microsoft/codebert-base\")\n",
        "\n",
        "  #creating codeBERT model\n",
        "  modelBERT = AutoModel.from_pretrained(\"microsoft/codebert-base\")\n",
        "\n",
        " \n",
        "  #Regex for C++ files\n",
        "   \n",
        "  pat = \"\\/\\*(.|\\n)*?\\*/\" #@param Regex for comment removal\n",
        "  pat1 =\"\\s\" #@param Regex for space removal\n",
        "\n",
        "  features = []\n",
        "\n",
        "  count = 0\n",
        "\n",
        "  files = Path(directory).glob('*.cpp')\n",
        "  for file in files:\n",
        "    print(count,\")\",file)\n",
        "    count = count + 1\n",
        "    f = file.as_posix()\n",
        "    if (count ==30):\n",
        "      break\n",
        "\n",
        "\n",
        "    CODE = None\n",
        "    with open(f, 'r') as f:\n",
        "      CODE = f.read() \n",
        "\n",
        "      #Regex operation\n",
        "      CODE1 = re.sub(pat, \"\", CODE)\n",
        "      CODE2 = re.sub(pat1,\"\",CODE1)\n",
        "\n",
        "      # Tokenization \n",
        "      tokensForBert=tokenizerAuto.tokenize(CODE2) #@param for codeBERT\n",
        "      tokensForStorage = tokenizerGPT.tokenize(CODE) #@param to Store\n",
        "\n",
        "      if(len(tokensForBert)<514):\n",
        "\n",
        "        # # Convert tokens to ids\n",
        "        tokens_ids=tokenizerAuto.convert_tokens_to_ids(tokensForBert)\n",
        "        Tensors=modelBERT(torch.tensor(tokens_ids)[None,:])[0]\n",
        "      \n",
        "        tempFeatures= [programmingLanguage,fileExtension,tokensForStorage,Tensors]\n",
        "        features.append(tempFeatures)    \n",
        "  print(\"*****Complete**********\")\n",
        "  return(features)\n",
        "\n"
      ],
      "metadata": {
        "id": "B0gVDlk_EyII",
        "cellView": "code"
      },
      "execution_count": 41,
      "outputs": []
    },
    {
      "cell_type": "code",
      "source": [
        "directory078 = '/content/drive/MyDrive/Thesis/CWE-078'\n",
        "feature078 = code2Tensor(directory078,'CWE-078','C++','.cpp')\n",
        "\n"
      ],
      "metadata": {
        "id": "i76YRp1FT6iY",
        "colab": {
          "base_uri": "https://localhost:8080/",
          "height": 435
        },
        "outputId": "a8cb182c-c6ad-4fe2-84dd-d782b41854ff"
      },
      "execution_count": 42,
      "outputs": [
        {
          "output_type": "stream",
          "name": "stdout",
          "text": [
            "0 ) /content/drive/MyDrive/Thesis/CWE-078/CWE78_OS_Command_Injection__wchar_t_listen_socket_execl_43.cpp\n"
          ]
        },
        {
          "output_type": "stream",
          "name": "stderr",
          "text": [
            "Token indices sequence length is longer than the specified maximum sequence length for this model (1245 > 512). Running this sequence through the model will result in indexing errors\n"
          ]
        },
        {
          "output_type": "stream",
          "name": "stdout",
          "text": [
            "1 ) /content/drive/MyDrive/Thesis/CWE-078/CWE78_OS_Command_Injection__wchar_t_file_w32spawnl_83a.cpp\n"
          ]
        },
        {
          "output_type": "error",
          "ename": "KeyboardInterrupt",
          "evalue": "ignored",
          "traceback": [
            "\u001b[0;31m---------------------------------------------------------------------------\u001b[0m",
            "\u001b[0;31mKeyboardInterrupt\u001b[0m                         Traceback (most recent call last)",
            "\u001b[0;32m<ipython-input-42-1ec6d99b64ac>\u001b[0m in \u001b[0;36m<module>\u001b[0;34m()\u001b[0m\n\u001b[1;32m      1\u001b[0m \u001b[0mdirectory078\u001b[0m \u001b[0;34m=\u001b[0m \u001b[0;34m'/content/drive/MyDrive/Thesis/CWE-078'\u001b[0m\u001b[0;34m\u001b[0m\u001b[0;34m\u001b[0m\u001b[0m\n\u001b[0;32m----> 2\u001b[0;31m \u001b[0mfeature078\u001b[0m \u001b[0;34m=\u001b[0m \u001b[0mcode2Tensor\u001b[0m\u001b[0;34m(\u001b[0m\u001b[0mdirectory078\u001b[0m\u001b[0;34m,\u001b[0m\u001b[0;34m'CWE-078'\u001b[0m\u001b[0;34m,\u001b[0m\u001b[0;34m'C++'\u001b[0m\u001b[0;34m,\u001b[0m\u001b[0;34m'.cpp'\u001b[0m\u001b[0;34m)\u001b[0m\u001b[0;34m\u001b[0m\u001b[0;34m\u001b[0m\u001b[0m\n\u001b[0m\u001b[1;32m      3\u001b[0m \u001b[0;34m\u001b[0m\u001b[0m\n",
            "\u001b[0;32m<ipython-input-41-9f8fdda241c1>\u001b[0m in \u001b[0;36mcode2Tensor\u001b[0;34m(directory, vulnerability, programmingLanguage, fileExtension)\u001b[0m\n\u001b[1;32m     39\u001b[0m     \u001b[0mCODE\u001b[0m \u001b[0;34m=\u001b[0m \u001b[0;32mNone\u001b[0m\u001b[0;34m\u001b[0m\u001b[0;34m\u001b[0m\u001b[0m\n\u001b[1;32m     40\u001b[0m     \u001b[0;32mwith\u001b[0m \u001b[0mopen\u001b[0m\u001b[0;34m(\u001b[0m\u001b[0mf\u001b[0m\u001b[0;34m,\u001b[0m \u001b[0;34m'r'\u001b[0m\u001b[0;34m)\u001b[0m \u001b[0;32mas\u001b[0m \u001b[0mf\u001b[0m\u001b[0;34m:\u001b[0m\u001b[0;34m\u001b[0m\u001b[0;34m\u001b[0m\u001b[0m\n\u001b[0;32m---> 41\u001b[0;31m       \u001b[0mCODE\u001b[0m \u001b[0;34m=\u001b[0m \u001b[0mf\u001b[0m\u001b[0;34m.\u001b[0m\u001b[0mread\u001b[0m\u001b[0;34m(\u001b[0m\u001b[0;34m)\u001b[0m\u001b[0;34m\u001b[0m\u001b[0;34m\u001b[0m\u001b[0m\n\u001b[0m\u001b[1;32m     42\u001b[0m \u001b[0;34m\u001b[0m\u001b[0m\n\u001b[1;32m     43\u001b[0m       \u001b[0;31m#Regex operation\u001b[0m\u001b[0;34m\u001b[0m\u001b[0;34m\u001b[0m\u001b[0;34m\u001b[0m\u001b[0m\n",
            "\u001b[0;32m/usr/lib/python3.7/codecs.py\u001b[0m in \u001b[0;36mdecode\u001b[0;34m(self, input, final)\u001b[0m\n\u001b[1;32m    317\u001b[0m         \u001b[0;32mraise\u001b[0m \u001b[0mNotImplementedError\u001b[0m\u001b[0;34m\u001b[0m\u001b[0;34m\u001b[0m\u001b[0m\n\u001b[1;32m    318\u001b[0m \u001b[0;34m\u001b[0m\u001b[0m\n\u001b[0;32m--> 319\u001b[0;31m     \u001b[0;32mdef\u001b[0m \u001b[0mdecode\u001b[0m\u001b[0;34m(\u001b[0m\u001b[0mself\u001b[0m\u001b[0;34m,\u001b[0m \u001b[0minput\u001b[0m\u001b[0;34m,\u001b[0m \u001b[0mfinal\u001b[0m\u001b[0;34m=\u001b[0m\u001b[0;32mFalse\u001b[0m\u001b[0;34m)\u001b[0m\u001b[0;34m:\u001b[0m\u001b[0;34m\u001b[0m\u001b[0;34m\u001b[0m\u001b[0m\n\u001b[0m\u001b[1;32m    320\u001b[0m         \u001b[0;31m# decode input (taking the buffer into account)\u001b[0m\u001b[0;34m\u001b[0m\u001b[0;34m\u001b[0m\u001b[0;34m\u001b[0m\u001b[0m\n\u001b[1;32m    321\u001b[0m         \u001b[0mdata\u001b[0m \u001b[0;34m=\u001b[0m \u001b[0mself\u001b[0m\u001b[0;34m.\u001b[0m\u001b[0mbuffer\u001b[0m \u001b[0;34m+\u001b[0m \u001b[0minput\u001b[0m\u001b[0;34m\u001b[0m\u001b[0;34m\u001b[0m\u001b[0m\n",
            "\u001b[0;31mKeyboardInterrupt\u001b[0m: "
          ]
        }
      ]
    },
    {
      "cell_type": "code",
      "source": [
        "import numpy as np\n",
        "a = [1, 2, 3, 4, 5]\n"
      ],
      "metadata": {
        "id": "wX9LxUrjEfou"
      },
      "execution_count": null,
      "outputs": []
    },
    {
      "cell_type": "code",
      "source": [
        "b = np.pad(a, (2, 3), 'constant', constant_values=(4, 6))\n",
        "b"
      ],
      "metadata": {
        "id": "mxdFUDetFHcM"
      },
      "execution_count": null,
      "outputs": []
    },
    {
      "cell_type": "code",
      "source": [
        "pd.DataFrame(feature078)\n"
      ],
      "metadata": {
        "id": "PujBRDq1binY"
      },
      "execution_count": null,
      "outputs": []
    },
    {
      "cell_type": "code",
      "source": [
        "tensor1 =feature078[0][3]\n",
        "tensor2 = feature078[1][3]"
      ],
      "metadata": {
        "id": "QOcq4nJufopm"
      },
      "execution_count": null,
      "outputs": []
    },
    {
      "cell_type": "code",
      "source": [
        "tensor1.shape"
      ],
      "metadata": {
        "id": "hpiYzluCnLGu"
      },
      "execution_count": null,
      "outputs": []
    },
    {
      "cell_type": "code",
      "source": [
        "Arr3 = tensor1.detach().numpy()\n",
        "Arry11 = np.asarray(Arr3).astype(np.float32)\n",
        "\n",
        "Arr4 = tensor2.detach().numpy()\n",
        "Arry12 = np.asarray(Arr3).astype(np.float32)"
      ],
      "metadata": {
        "id": "AkHNdM9ng0qm"
      },
      "execution_count": null,
      "outputs": []
    },
    {
      "cell_type": "code",
      "source": [
        "(x,y,z) = (Arry11.shape)\n",
        "y"
      ],
      "metadata": {
        "id": "gD8KvIJnp0Uy"
      },
      "execution_count": null,
      "outputs": []
    },
    {
      "cell_type": "code",
      "source": [
        "Arry3 = np.reshape(Arry11,(354, 768))"
      ],
      "metadata": {
        "id": "d0UUHBouphDl"
      },
      "execution_count": null,
      "outputs": []
    },
    {
      "cell_type": "code",
      "source": [
        "Arry4 = np.reshape(Arry12,(354, 768))"
      ],
      "metadata": {
        "id": "pCdroXO-pqn0"
      },
      "execution_count": null,
      "outputs": []
    },
    {
      "cell_type": "code",
      "source": [
        "\n",
        "\n",
        "Arr3100 = sliceArraybyIndex(100, Arry3)\n",
        "print(Arr3100.shape)\n",
        "\n",
        "\n",
        "\n",
        "\n",
        "\n",
        "\n"
      ],
      "metadata": {
        "id": "VgZf_vQERlG8"
      },
      "execution_count": null,
      "outputs": []
    },
    {
      "cell_type": "code",
      "source": [
        "from sklearn.metrics.pairwise import cosine_similarity\n",
        "print(np.mean(cosine_similarity(Arry3, Arry4)))"
      ],
      "metadata": {
        "id": "PUQ4EJeFgkO4"
      },
      "execution_count": null,
      "outputs": []
    },
    {
      "cell_type": "code",
      "source": [
        "df1 =pd.DataFrame(feature078)\n",
        "\n",
        "df1.columns =['Name', 'Code', 'Age', 'Weight']\n",
        "df1"
      ],
      "metadata": {
        "id": "9-7vxVtZfH6B"
      },
      "execution_count": null,
      "outputs": []
    },
    {
      "cell_type": "code",
      "source": [
        "finalFeatures = feature078"
      ],
      "metadata": {
        "id": "RA7MSuflhzr5"
      },
      "execution_count": null,
      "outputs": []
    },
    {
      "cell_type": "code",
      "source": [
        "directory762 = '/content/drive/MyDrive/Thesis/CWE-762'\n",
        "feature762 = code2Tensor(directory762,'CWE-762','C++','.cpp')\n"
      ],
      "metadata": {
        "id": "zCviAIE4hFsJ"
      },
      "execution_count": null,
      "outputs": []
    },
    {
      "cell_type": "code",
      "source": [
        "finalFeatures.append(feature762)"
      ],
      "metadata": {
        "id": "xR15pX3Yh9sH"
      },
      "execution_count": null,
      "outputs": []
    },
    {
      "cell_type": "code",
      "source": [
        "import numpy as np\n",
        "import pandas as pd"
      ],
      "metadata": {
        "id": "NYzrnn0slxG-"
      },
      "execution_count": null,
      "outputs": []
    },
    {
      "cell_type": "code",
      "source": [
        "pd.DataFrame(feature762)"
      ],
      "metadata": {
        "id": "zre4tKdoiTk-"
      },
      "execution_count": null,
      "outputs": []
    },
    {
      "cell_type": "code",
      "source": [
        "featureList = feature762 + featu\n"
      ],
      "metadata": {
        "id": "R1adZcq4gkZ4"
      },
      "execution_count": null,
      "outputs": []
    },
    {
      "cell_type": "code",
      "source": [
        "directory415 = '/content/drive/MyDrive/Thesis/CWE415'\n",
        "feature415 = code2Tensor(directory415,'CWE-078','C++','.cpp')\n"
      ],
      "metadata": {
        "id": "W61VHhWlfATp"
      },
      "execution_count": null,
      "outputs": []
    },
    {
      "cell_type": "code",
      "source": [
        "directory195 = '/content/drive/MyDrive/Thesis/CWE195'\n",
        "feature195 = code2Tensor(directory195,'CWE-078','C++','.cpp')\n"
      ],
      "metadata": {
        "id": "bEdOyNPKhlrf"
      },
      "execution_count": null,
      "outputs": []
    },
    {
      "cell_type": "code",
      "source": [
        "type(feature078)"
      ],
      "metadata": {
        "id": "f9WE_KoujdBX"
      },
      "execution_count": null,
      "outputs": []
    },
    {
      "cell_type": "code",
      "source": [
        "!pip install transformers\n"
      ],
      "metadata": {
        "id": "MSlliIRMvN0x"
      },
      "execution_count": null,
      "outputs": []
    },
    {
      "cell_type": "code",
      "source": [
        "output = open(\"/content/drive/MyDrive/Thesis/output.txt\", \"a\")\n"
      ],
      "metadata": {
        "id": "4RRLOiTs4cB5"
      },
      "execution_count": null,
      "outputs": []
    },
    {
      "cell_type": "code",
      "source": [
        "!pip install transformers\n",
        "import numpy as np\n",
        "\n",
        "def sliceArraybyIndex(xIndex,yIndex,Array):\n",
        "  newArray= []\n",
        "  for i in range(xIndex):\n",
        "    tempArray = Array[i][0:yIndex]\n",
        "    newArray.append(tempArray)\n",
        "  return np.array(newArray)\n",
        "\n",
        "#@title ##Converting all files into numpy array of tokens and tensors\n",
        "#@markdown ####function Code2Tensor\n",
        "def code2Tensor(directory,vulnerability,programmingLanguage,fileExtension, vulCode):\n",
        "  \n",
        "  #@markdown #####necessary imports\n",
        "  from pathlib import Path\n",
        "  from transformers import AutoTokenizer, AutoModel\n",
        "  from transformers import GPT2Tokenizer\n",
        "  import torch\n",
        "  import os\n",
        "  import re\n",
        "\n",
        "  #creating tokenizers\n",
        "  tokenizerGPT = GPT2Tokenizer.from_pretrained(\"gpt2\")\n",
        "  tokenizerAuto = AutoTokenizer.from_pretrained(\"microsoft/codebert-base\")\n",
        "\n",
        "  #creating codeBERT model\n",
        "  modelBERT = AutoModel.from_pretrained(\"microsoft/codebert-base\")\n",
        "\n",
        " \n",
        "  #Regex for C++ files\n",
        "   \n",
        "  pat = \"\\/\\*(.|\\n)*?\\*/\" #@param Regex for comment removal\n",
        "  pat1 =\"\\s\" #@param Regex for space removal\n",
        "\n",
        "  features = []\n",
        "\n",
        "  count = 0\n",
        "\n",
        "  files = Path(directory).glob('*.cpp')\n",
        "  for file in files:\n",
        "    print(count,\")\",file)\n",
        "    # if(count == 30):\n",
        "    #       break\n",
        "    f = file.as_posix()\n",
        "\n",
        "\n",
        "\n",
        "    CODE = None\n",
        "    with open(f, 'r') as f:\n",
        "      CODE = f.read() \n",
        "\n",
        "      #Regex operation\n",
        "      CODE1 = re.sub(pat, \"\", CODE)\n",
        "      CODE2 = re.sub(pat1,\"\",CODE1)\n",
        "\n",
        "            # Tokenization \n",
        "      tokensForBert= tokenizerAuto.tokenize(CODE2) #@param for codeBERT\n",
        "      tokensForGPT = tokenizerGPT.tokenize(CODE) #@param to Store\n",
        "\n",
        "\n",
        "\n",
        "      if(len(tokensForGPT) < 510):\n",
        "\n",
        "        # # Convert tokens to ids\n",
        "        tokens_ids=tokenizerAuto.convert_tokens_to_ids(tokensForGPT)\n",
        "        Tensors=modelBERT(torch.tensor(tokens_ids)[None,:])[0]\n",
        "        Arr3D = Tensors.detach().numpy()\n",
        "        Arr = np.asarray(Arr3D).astype(np.float32)\n",
        "        shape = (Arr.shape)\n",
        "        (x,y,z) = shape\n",
        "        Arr2D = Arr.reshape(x*y,z)\n",
        "        finArray = sliceArraybyIndex(32,32, Arr2D )\n",
        "        reshaped = finArray.shape\n",
        "\n",
        "\n",
        "        \n",
        "        tempFeatures= [programmingLanguage,vulnerability, tokensForBert,finArray, reshaped, vulCode]\n",
        "        features.append(tempFeatures) \n",
        "        \n",
        "  print(\"*****Complete**********\")\n",
        "  return(features)\n",
        "\n",
        "\n",
        "\n",
        "\n",
        "\n",
        "\n",
        "\n",
        "\n",
        "featureTable = []\n",
        "\n",
        "from pathlib import Path\n",
        "parent_dir = '/content/drive/MyDrive/Thesis/DataSet'\n",
        "featureTable = []\n",
        "files = Path(parent_dir).glob('*')\n",
        "num = 0\n",
        "for file in files:\n",
        "  num_token = np.array([num])\n",
        "  num = num +1\n",
        "  vul = str(file)\n",
        "  print (vul)\n",
        "  features = code2Tensor(file,vul,'C++','.cpp',num_token)\n",
        "  featureTable = featureTable + features\n",
        "\n",
        "    "
      ],
      "metadata": {
        "id": "1CDJCaeDm7gX",
        "colab": {
          "base_uri": "https://localhost:8080/"
        },
        "outputId": "65f52714-fce1-4e19-cb8d-cd4c3a2c2ccf",
        "cellView": "code"
      },
      "execution_count": 10,
      "outputs": [
        {
          "output_type": "stream",
          "name": "stdout",
          "text": [
            "Requirement already satisfied: transformers in /usr/local/lib/python3.7/dist-packages (4.19.0)\n",
            "Requirement already satisfied: filelock in /usr/local/lib/python3.7/dist-packages (from transformers) (3.6.0)\n",
            "Requirement already satisfied: requests in /usr/local/lib/python3.7/dist-packages (from transformers) (2.23.0)\n",
            "Requirement already satisfied: regex!=2019.12.17 in /usr/local/lib/python3.7/dist-packages (from transformers) (2019.12.20)\n",
            "Requirement already satisfied: pyyaml>=5.1 in /usr/local/lib/python3.7/dist-packages (from transformers) (6.0)\n",
            "Requirement already satisfied: tqdm>=4.27 in /usr/local/lib/python3.7/dist-packages (from transformers) (4.64.0)\n",
            "Requirement already satisfied: huggingface-hub<1.0,>=0.1.0 in /usr/local/lib/python3.7/dist-packages (from transformers) (0.6.0)\n",
            "Requirement already satisfied: importlib-metadata in /usr/local/lib/python3.7/dist-packages (from transformers) (4.11.3)\n",
            "Requirement already satisfied: packaging>=20.0 in /usr/local/lib/python3.7/dist-packages (from transformers) (21.3)\n",
            "Requirement already satisfied: numpy>=1.17 in /usr/local/lib/python3.7/dist-packages (from transformers) (1.21.6)\n",
            "Requirement already satisfied: tokenizers!=0.11.3,<0.13,>=0.11.1 in /usr/local/lib/python3.7/dist-packages (from transformers) (0.12.1)\n",
            "Requirement already satisfied: typing-extensions>=3.7.4.3 in /usr/local/lib/python3.7/dist-packages (from huggingface-hub<1.0,>=0.1.0->transformers) (4.2.0)\n",
            "Requirement already satisfied: pyparsing!=3.0.5,>=2.0.2 in /usr/local/lib/python3.7/dist-packages (from packaging>=20.0->transformers) (3.0.8)\n",
            "Requirement already satisfied: zipp>=0.5 in /usr/local/lib/python3.7/dist-packages (from importlib-metadata->transformers) (3.8.0)\n",
            "Requirement already satisfied: idna<3,>=2.5 in /usr/local/lib/python3.7/dist-packages (from requests->transformers) (2.10)\n",
            "Requirement already satisfied: urllib3!=1.25.0,!=1.25.1,<1.26,>=1.21.1 in /usr/local/lib/python3.7/dist-packages (from requests->transformers) (1.24.3)\n",
            "Requirement already satisfied: chardet<4,>=3.0.2 in /usr/local/lib/python3.7/dist-packages (from requests->transformers) (3.0.4)\n",
            "Requirement already satisfied: certifi>=2017.4.17 in /usr/local/lib/python3.7/dist-packages (from requests->transformers) (2021.10.8)\n",
            "/content/drive/MyDrive/Thesis/DataSet/CWE-762\n"
          ]
        },
        {
          "output_type": "stream",
          "name": "stderr",
          "text": [
            "Token indices sequence length is longer than the specified maximum sequence length for this model (538 > 512). Running this sequence through the model will result in indexing errors\n"
          ]
        },
        {
          "output_type": "stream",
          "name": "stdout",
          "text": [
            "0 ) /content/drive/MyDrive/Thesis/DataSet/CWE-762/CWE762_Mismatched_Memory_Management_Routines__new_free_wchar_t_44.cpp\n",
            "0 ) /content/drive/MyDrive/Thesis/DataSet/CWE-762/CWE762_Mismatched_Memory_Management_Routines__new_free_wchar_t_81a.cpp\n",
            "0 ) /content/drive/MyDrive/Thesis/DataSet/CWE-762/CWE762_Mismatched_Memory_Management_Routines__realloc_delete_array_01_good1.cpp\n",
            "0 ) /content/drive/MyDrive/Thesis/DataSet/CWE-762/CWE762_Mismatched_Memory_Management_Routines__new_free_wchar_t_34.cpp\n",
            "0 ) /content/drive/MyDrive/Thesis/DataSet/CWE-762/CWE762_Mismatched_Memory_Management_Routines__new_free_wchar_t_81_goodB2G.cpp\n",
            "0 ) /content/drive/MyDrive/Thesis/DataSet/CWE-762/CWE762_Mismatched_Memory_Management_Routines__new_free_wchar_t_45.cpp\n",
            "0 ) /content/drive/MyDrive/Thesis/DataSet/CWE-762/CWE762_Mismatched_Memory_Management_Routines__new_free_wchar_t_82_goodG2B.cpp\n",
            "0 ) /content/drive/MyDrive/Thesis/DataSet/CWE-762/CWE762_Mismatched_Memory_Management_Routines__new_free_wchar_t_81_goodG2B.cpp\n",
            "0 ) /content/drive/MyDrive/Thesis/DataSet/CWE-762/CWE762_Mismatched_Memory_Management_Routines__new_free_wchar_t_62b.cpp\n",
            "0 ) /content/drive/MyDrive/Thesis/DataSet/CWE-762/CWE762_Mismatched_Memory_Management_Routines__realloc_delete_01_good1.cpp\n",
            "0 ) /content/drive/MyDrive/Thesis/DataSet/CWE-762/CWE762_Mismatched_Memory_Management_Routines__new_free_wchar_t_41.cpp\n",
            "0 ) /content/drive/MyDrive/Thesis/DataSet/CWE-762/CWE762_Mismatched_Memory_Management_Routines__new_free_wchar_t_61a.cpp\n",
            "0 ) /content/drive/MyDrive/Thesis/DataSet/CWE-762/CWE762_Mismatched_Memory_Management_Routines__realloc_delete_array_01_bad.cpp\n",
            "0 ) /content/drive/MyDrive/Thesis/DataSet/CWE-762/CWE762_Mismatched_Memory_Management_Routines__new_free_wchar_t_42.cpp\n",
            "0 ) /content/drive/MyDrive/Thesis/DataSet/CWE-762/CWE762_Mismatched_Memory_Management_Routines__new_free_wchar_t_82_goodB2G.cpp\n",
            "0 ) /content/drive/MyDrive/Thesis/DataSet/CWE-762/CWE762_Mismatched_Memory_Management_Routines__new_free_wchar_t_31.cpp\n",
            "0 ) /content/drive/MyDrive/Thesis/DataSet/CWE-762/CWE762_Mismatched_Memory_Management_Routines__new_free_wchar_t_82a.cpp\n",
            "0 ) /content/drive/MyDrive/Thesis/DataSet/CWE-762/CWE762_Mismatched_Memory_Management_Routines__new_free_wchar_t_43.cpp\n",
            "0 ) /content/drive/MyDrive/Thesis/DataSet/CWE-762/CWE762_Mismatched_Memory_Management_Routines__new_free_wchar_t_81_bad.cpp\n",
            "0 ) /content/drive/MyDrive/Thesis/DataSet/CWE-762/CWE762_Mismatched_Memory_Management_Routines__new_free_wchar_t_61b.cpp\n",
            "0 ) /content/drive/MyDrive/Thesis/DataSet/CWE-762/CWE762_Mismatched_Memory_Management_Routines__realloc_delete_01_bad.cpp\n",
            "0 ) /content/drive/MyDrive/Thesis/DataSet/CWE-762/CWE762_Mismatched_Memory_Management_Routines__new_free_wchar_t_82_bad.cpp\n",
            "0 ) /content/drive/MyDrive/Thesis/DataSet/CWE-762/CWE762_Mismatched_Memory_Management_Routines__new_free_wchar_t_15.cpp\n",
            "0 ) /content/drive/MyDrive/Thesis/DataSet/CWE-762/CWE762_Mismatched_Memory_Management_Routines__new_free_wchar_t_18.cpp\n",
            "0 ) /content/drive/MyDrive/Thesis/DataSet/CWE-762/CWE762_Mismatched_Memory_Management_Routines__new_free_wchar_t_21.cpp\n",
            "0 ) /content/drive/MyDrive/Thesis/DataSet/CWE-762/CWE762_Mismatched_Memory_Management_Routines__new_free_wchar_t_32.cpp\n",
            "0 ) /content/drive/MyDrive/Thesis/DataSet/CWE-762/CWE762_Mismatched_Memory_Management_Routines__new_free_wchar_t_17.cpp\n",
            "0 ) /content/drive/MyDrive/Thesis/DataSet/CWE-762/CWE762_Mismatched_Memory_Management_Routines__new_free_wchar_t_33.cpp\n",
            "0 ) /content/drive/MyDrive/Thesis/DataSet/CWE-762/CWE762_Mismatched_Memory_Management_Routines__new_free_wchar_t_62a.cpp\n",
            "0 ) /content/drive/MyDrive/Thesis/DataSet/CWE-762/CWE762_Mismatched_Memory_Management_Routines__new_free_wchar_t_16.cpp\n",
            "*****Complete**********\n",
            "/content/drive/MyDrive/Thesis/DataSet/CWE-078\n",
            "0 ) /content/drive/MyDrive/Thesis/DataSet/CWE-078/Copy of CWE78_OS_Command_Injection__wchar_t_listen_socket_execlp_83_goodG2B.cpp\n",
            "0 ) /content/drive/MyDrive/Thesis/DataSet/CWE-078/Copy of CWE78_OS_Command_Injection__wchar_t_listen_socket_execlp_83a.cpp\n",
            "0 ) /content/drive/MyDrive/Thesis/DataSet/CWE-078/Copy of CWE78_OS_Command_Injection__wchar_t_listen_socket_execl_83_goodG2B.cpp\n",
            "0 ) /content/drive/MyDrive/Thesis/DataSet/CWE-078/CWE78_OS_Command_Injection__wchar_t_listen_socket_w32_spawnvp_84a.cpp\n",
            "0 ) /content/drive/MyDrive/Thesis/DataSet/CWE-078/Copy of CWE78_OS_Command_Injection__wchar_t_listen_socket_execl_82_goodG2B.cpp\n"
          ]
        },
        {
          "output_type": "stream",
          "name": "stderr",
          "text": [
            "Token indices sequence length is longer than the specified maximum sequence length for this model (1236 > 512). Running this sequence through the model will result in indexing errors\n"
          ]
        },
        {
          "output_type": "stream",
          "name": "stdout",
          "text": [
            "0 ) /content/drive/MyDrive/Thesis/DataSet/CWE-078/CWE78_OS_Command_Injection__wchar_t_listen_socket_w32_spawnvp_73a.cpp\n",
            "0 ) /content/drive/MyDrive/Thesis/DataSet/CWE-078/CWE78_OS_Command_Injection__wchar_t_listen_socket_w32_spawnvp_81a.cpp\n",
            "0 ) /content/drive/MyDrive/Thesis/DataSet/CWE-078/Copy of CWE78_OS_Command_Injection__wchar_t_listen_socket_execl_84_goodG2B.cpp\n",
            "0 ) /content/drive/MyDrive/Thesis/DataSet/CWE-078/Copy of CWE78_OS_Command_Injection__wchar_t_listen_socket_execl_33.cpp\n",
            "0 ) /content/drive/MyDrive/Thesis/DataSet/CWE-078/Copy of CWE78_OS_Command_Injection__wchar_t_listen_socket_execlp_74a.cpp\n",
            "0 ) /content/drive/MyDrive/Thesis/DataSet/CWE-078/Copy of CWE78_OS_Command_Injection__wchar_t_listen_socket_execlp_82_goodG2B.cpp\n",
            "0 ) /content/drive/MyDrive/Thesis/DataSet/CWE-078/Copy of CWE78_OS_Command_Injection__wchar_t_listen_socket_execl_73b.cpp\n",
            "0 ) /content/drive/MyDrive/Thesis/DataSet/CWE-078/Copy of CWE78_OS_Command_Injection__wchar_t_listen_socket_execlp_62a.cpp\n",
            "0 ) /content/drive/MyDrive/Thesis/DataSet/CWE-078/CWE78_OS_Command_Injection__wchar_t_file_w32spawnl_83_bad.cpp\n",
            "0 ) /content/drive/MyDrive/Thesis/DataSet/CWE-078/Copy of CWE78_OS_Command_Injection__wchar_t_listen_socket_execl_81_bad.cpp\n",
            "0 ) /content/drive/MyDrive/Thesis/DataSet/CWE-078/Copy of CWE78_OS_Command_Injection__wchar_t_listen_socket_execl_73a.cpp\n",
            "0 ) /content/drive/MyDrive/Thesis/DataSet/CWE-078/CWE78_OS_Command_Injection__wchar_t_listen_socket_w32_spawnvp_83a.cpp\n",
            "0 ) /content/drive/MyDrive/Thesis/DataSet/CWE-078/Copy of CWE78_OS_Command_Injection__wchar_t_file_w32spawnl_83_goodG2B.cpp\n",
            "0 ) /content/drive/MyDrive/Thesis/DataSet/CWE-078/Copy of CWE78_OS_Command_Injection__wchar_t_listen_socket_execlp_72b.cpp\n",
            "0 ) /content/drive/MyDrive/Thesis/DataSet/CWE-078/Copy of CWE78_OS_Command_Injection__wchar_t_listen_socket_execlp_81_bad.cpp\n",
            "0 ) /content/drive/MyDrive/Thesis/DataSet/CWE-078/Copy of CWE78_OS_Command_Injection__wchar_t_listen_socket_execlp_84_bad.cpp\n",
            "0 ) /content/drive/MyDrive/Thesis/DataSet/CWE-078/Copy of CWE78_OS_Command_Injection__wchar_t_file_w32spawnl_84_goodG2B.cpp\n",
            "0 ) /content/drive/MyDrive/Thesis/DataSet/CWE-078/Copy of CWE78_OS_Command_Injection__wchar_t_listen_socket_execl_62a.cpp\n",
            "0 ) /content/drive/MyDrive/Thesis/DataSet/CWE-078/Copy of CWE78_OS_Command_Injection__wchar_t_listen_socket_execl_72a.cpp\n",
            "0 ) /content/drive/MyDrive/Thesis/DataSet/CWE-078/Copy of CWE78_OS_Command_Injection__wchar_t_listen_socket_execl_82a.cpp\n",
            "0 ) /content/drive/MyDrive/Thesis/DataSet/CWE-078/Copy of CWE78_OS_Command_Injection__wchar_t_listen_socket_execl_74b.cpp\n",
            "0 ) /content/drive/MyDrive/Thesis/DataSet/CWE-078/Copy of CWE78_OS_Command_Injection__wchar_t_listen_socket_execl_83_bad.cpp\n",
            "0 ) /content/drive/MyDrive/Thesis/DataSet/CWE-078/Copy of CWE78_OS_Command_Injection__wchar_t_file_w32spawnl_84a.cpp\n",
            "0 ) /content/drive/MyDrive/Thesis/DataSet/CWE-078/Copy of CWE78_OS_Command_Injection__wchar_t_listen_socket_execlp_33.cpp\n",
            "0 ) /content/drive/MyDrive/Thesis/DataSet/CWE-078/Copy of CWE78_OS_Command_Injection__wchar_t_file_w32spawnl_83a.cpp\n",
            "0 ) /content/drive/MyDrive/Thesis/DataSet/CWE-078/Copy of CWE78_OS_Command_Injection__wchar_t_listen_socket_execl_83a.cpp\n",
            "0 ) /content/drive/MyDrive/Thesis/DataSet/CWE-078/Copy of CWE78_OS_Command_Injection__wchar_t_listen_socket_execl_74a.cpp\n",
            "0 ) /content/drive/MyDrive/Thesis/DataSet/CWE-078/Copy of CWE78_OS_Command_Injection__wchar_t_listen_socket_execl_84a.cpp\n",
            "0 ) /content/drive/MyDrive/Thesis/DataSet/CWE-078/Copy of CWE78_OS_Command_Injection__wchar_t_listen_socket_execl_84_bad.cpp\n",
            "0 ) /content/drive/MyDrive/Thesis/DataSet/CWE-078/Copy of CWE78_OS_Command_Injection__wchar_t_listen_socket_execlp_43.cpp\n",
            "0 ) /content/drive/MyDrive/Thesis/DataSet/CWE-078/Copy of CWE78_OS_Command_Injection__wchar_t_listen_socket_execl_72b.cpp\n",
            "0 ) /content/drive/MyDrive/Thesis/DataSet/CWE-078/CWE78_OS_Command_Injection__wchar_t_listen_socket_w32_spawnvp_81_bad.cpp\n",
            "0 ) /content/drive/MyDrive/Thesis/DataSet/CWE-078/Copy of CWE78_OS_Command_Injection__wchar_t_listen_socket_execlp_82a.cpp\n",
            "0 ) /content/drive/MyDrive/Thesis/DataSet/CWE-078/Copy of CWE78_OS_Command_Injection__wchar_t_listen_socket_execl_81a.cpp\n",
            "0 ) /content/drive/MyDrive/Thesis/DataSet/CWE-078/Copy of CWE78_OS_Command_Injection__wchar_t_listen_socket_execl_43.cpp\n",
            "0 ) /content/drive/MyDrive/Thesis/DataSet/CWE-078/Copy of CWE78_OS_Command_Injection__wchar_t_listen_socket_execlp_73b.cpp\n",
            "0 ) /content/drive/MyDrive/Thesis/DataSet/CWE-078/Copy of CWE78_OS_Command_Injection__wchar_t_listen_socket_execlp_73a.cpp\n",
            "0 ) /content/drive/MyDrive/Thesis/DataSet/CWE-078/Copy of CWE78_OS_Command_Injection__wchar_t_listen_socket_execlp_84a.cpp\n",
            "0 ) /content/drive/MyDrive/Thesis/DataSet/CWE-078/Copy of CWE78_OS_Command_Injection__wchar_t_listen_socket_execlp_81a.cpp\n",
            "0 ) /content/drive/MyDrive/Thesis/DataSet/CWE-078/Copy of CWE78_OS_Command_Injection__wchar_t_listen_socket_execlp_82_bad.cpp\n",
            "0 ) /content/drive/MyDrive/Thesis/DataSet/CWE-078/Copy of CWE78_OS_Command_Injection__wchar_t_listen_socket_execl_82_bad.cpp\n",
            "0 ) /content/drive/MyDrive/Thesis/DataSet/CWE-078/Copy of CWE78_OS_Command_Injection__wchar_t_listen_socket_execlp_83_bad.cpp\n",
            "0 ) /content/drive/MyDrive/Thesis/DataSet/CWE-078/Copy of CWE78_OS_Command_Injection__wchar_t_listen_socket_execl_62b.cpp\n",
            "0 ) /content/drive/MyDrive/Thesis/DataSet/CWE-078/Copy of CWE78_OS_Command_Injection__wchar_t_listen_socket_execlp_84_goodG2B.cpp\n",
            "0 ) /content/drive/MyDrive/Thesis/DataSet/CWE-078/Copy of CWE78_OS_Command_Injection__wchar_t_file_w32spawnl_83_bad.cpp\n",
            "0 ) /content/drive/MyDrive/Thesis/DataSet/CWE-078/CWE78_OS_Command_Injection__wchar_t_listen_socket_w32_spawnvp_82_goodG2B.cpp\n",
            "0 ) /content/drive/MyDrive/Thesis/DataSet/CWE-078/CWE78_OS_Command_Injection__wchar_t_listen_socket_w32_spawnvp_72a.cpp\n",
            "0 ) /content/drive/MyDrive/Thesis/DataSet/CWE-078/CWE78_OS_Command_Injection__wchar_t_listen_socket_w32_spawnvp_62b.cpp\n",
            "0 ) /content/drive/MyDrive/Thesis/DataSet/CWE-078/Copy of CWE78_OS_Command_Injection__wchar_t_listen_socket_execlp_74b.cpp\n",
            "0 ) /content/drive/MyDrive/Thesis/DataSet/CWE-078/CWE78_OS_Command_Injection__wchar_t_listen_socket_w32_spawnvp_82a.cpp\n",
            "0 ) /content/drive/MyDrive/Thesis/DataSet/CWE-078/Copy of CWE78_OS_Command_Injection__wchar_t_listen_socket_execlp_72a.cpp\n",
            "0 ) /content/drive/MyDrive/Thesis/DataSet/CWE-078/CWE78_OS_Command_Injection__wchar_t_listen_socket_w32_execv_84a.cpp\n",
            "0 ) /content/drive/MyDrive/Thesis/DataSet/CWE-078/CWE78_OS_Command_Injection__wchar_t_listen_socket_w32spawnl_83_goodG2B.cpp\n",
            "0 ) /content/drive/MyDrive/Thesis/DataSet/CWE-078/CWE78_OS_Command_Injection__wchar_t_listen_socket_w32_spawnlp_74b.cpp\n",
            "0 ) /content/drive/MyDrive/Thesis/DataSet/CWE-078/CWE78_OS_Command_Injection__wchar_t_listen_socket_w32_spawnvp_83_bad.cpp\n",
            "0 ) /content/drive/MyDrive/Thesis/DataSet/CWE-078/CWE78_OS_Command_Injection__wchar_t_listen_socket_w32_spawnlp_81_goodG2B.cpp\n",
            "0 ) /content/drive/MyDrive/Thesis/DataSet/CWE-078/CWE78_OS_Command_Injection__wchar_t_listen_socket_w32_spawnv_83_goodG2B.cpp\n",
            "0 ) /content/drive/MyDrive/Thesis/DataSet/CWE-078/CWE78_OS_Command_Injection__wchar_t_listen_socket_w32_spawnlp_82a.cpp\n",
            "0 ) /content/drive/MyDrive/Thesis/DataSet/CWE-078/CWE78_OS_Command_Injection__wchar_t_listen_socket_w32_execv_81_goodG2B.cpp\n",
            "0 ) /content/drive/MyDrive/Thesis/DataSet/CWE-078/CWE78_OS_Command_Injection__wchar_t_listen_socket_w32_spawnv_82_goodG2B.cpp\n",
            "0 ) /content/drive/MyDrive/Thesis/DataSet/CWE-078/CWE78_OS_Command_Injection__wchar_t_listen_socket_w32_spawnvp_83_goodG2B.cpp\n",
            "0 ) /content/drive/MyDrive/Thesis/DataSet/CWE-078/CWE78_OS_Command_Injection__wchar_t_listen_socket_w32_spawnv_73b.cpp\n",
            "0 ) /content/drive/MyDrive/Thesis/DataSet/CWE-078/CWE78_OS_Command_Injection__wchar_t_listen_socket_w32_execv_82a.cpp\n",
            "0 ) /content/drive/MyDrive/Thesis/DataSet/CWE-078/CWE78_OS_Command_Injection__wchar_t_listen_socket_w32_spawnv_33.cpp\n",
            "0 ) /content/drive/MyDrive/Thesis/DataSet/CWE-078/CWE78_OS_Command_Injection__wchar_t_listen_socket_w32_spawnvp_73b.cpp\n",
            "0 ) /content/drive/MyDrive/Thesis/DataSet/CWE-078/CWE78_OS_Command_Injection__wchar_t_listen_socket_w32_execv_82_goodG2B.cpp\n",
            "0 ) /content/drive/MyDrive/Thesis/DataSet/CWE-078/CWE78_OS_Command_Injection__wchar_t_listen_socket_w32_spawnvp_84_goodG2B.cpp\n",
            "0 ) /content/drive/MyDrive/Thesis/DataSet/CWE-078/CWE78_OS_Command_Injection__wchar_t_listen_socket_w32_spawnv_72b.cpp\n",
            "0 ) /content/drive/MyDrive/Thesis/DataSet/CWE-078/CWE78_OS_Command_Injection__wchar_t_listen_socket_w32_spawnlp_83_bad.cpp\n",
            "0 ) /content/drive/MyDrive/Thesis/DataSet/CWE-078/CWE78_OS_Command_Injection__wchar_t_listen_socket_w32_spawnv_83a.cpp\n",
            "0 ) /content/drive/MyDrive/Thesis/DataSet/CWE-078/CWE78_OS_Command_Injection__wchar_t_listen_socket_w32_spawnlp_82_goodG2B.cpp\n",
            "0 ) /content/drive/MyDrive/Thesis/DataSet/CWE-078/CWE78_OS_Command_Injection__wchar_t_listen_socket_w32_spawnv_81_bad.cpp\n",
            "0 ) /content/drive/MyDrive/Thesis/DataSet/CWE-078/CWE78_OS_Command_Injection__wchar_t_listen_socket_w32_execv_33.cpp\n",
            "0 ) /content/drive/MyDrive/Thesis/DataSet/CWE-078/CWE78_OS_Command_Injection__wchar_t_listen_socket_w32_spawnv_82_bad.cpp\n",
            "0 ) /content/drive/MyDrive/Thesis/DataSet/CWE-078/CWE78_OS_Command_Injection__wchar_t_listen_socket_w32_spawnv_84_bad.cpp\n",
            "0 ) /content/drive/MyDrive/Thesis/DataSet/CWE-078/CWE78_OS_Command_Injection__wchar_t_listen_socket_w32_spawnvp_84_bad.cpp\n",
            "0 ) /content/drive/MyDrive/Thesis/DataSet/CWE-078/CWE78_OS_Command_Injection__wchar_t_listen_socket_w32_spawnv_82a.cpp\n",
            "0 ) /content/drive/MyDrive/Thesis/DataSet/CWE-078/CWE78_OS_Command_Injection__wchar_t_listen_socket_w32_spawnlp_83_goodG2B.cpp\n",
            "0 ) /content/drive/MyDrive/Thesis/DataSet/CWE-078/CWE78_OS_Command_Injection__wchar_t_listen_socket_w32_spawnlp_84a.cpp\n",
            "0 ) /content/drive/MyDrive/Thesis/DataSet/CWE-078/CWE78_OS_Command_Injection__wchar_t_listen_socket_w32_spawnv_84a.cpp\n",
            "0 ) /content/drive/MyDrive/Thesis/DataSet/CWE-078/CWE78_OS_Command_Injection__wchar_t_listen_socket_w32_spawnlp_84_bad.cpp\n",
            "0 ) /content/drive/MyDrive/Thesis/DataSet/CWE-078/CWE78_OS_Command_Injection__wchar_t_listen_socket_w32_spawnlp_62a.cpp\n",
            "0 ) /content/drive/MyDrive/Thesis/DataSet/CWE-078/CWE78_OS_Command_Injection__wchar_t_listen_socket_w32_spawnv_74a.cpp\n",
            "0 ) /content/drive/MyDrive/Thesis/DataSet/CWE-078/CWE78_OS_Command_Injection__wchar_t_listen_socket_w32_execv_43.cpp\n",
            "0 ) /content/drive/MyDrive/Thesis/DataSet/CWE-078/CWE78_OS_Command_Injection__wchar_t_listen_socket_w32_spawnv_43.cpp\n",
            "0 ) /content/drive/MyDrive/Thesis/DataSet/CWE-078/CWE78_OS_Command_Injection__wchar_t_listen_socket_w32_spawnlp_82_bad.cpp\n",
            "0 ) /content/drive/MyDrive/Thesis/DataSet/CWE-078/CWE78_OS_Command_Injection__wchar_t_listen_socket_w32_spawnlp_81_bad.cpp\n",
            "0 ) /content/drive/MyDrive/Thesis/DataSet/CWE-078/CWE78_OS_Command_Injection__wchar_t_listen_socket_w32_spawnv_72a.cpp\n",
            "0 ) /content/drive/MyDrive/Thesis/DataSet/CWE-078/CWE78_OS_Command_Injection__wchar_t_listen_socket_w32_execv_82_bad.cpp\n",
            "0 ) /content/drive/MyDrive/Thesis/DataSet/CWE-078/CWE78_OS_Command_Injection__wchar_t_listen_socket_w32_spawnvp_43.cpp\n",
            "0 ) /content/drive/MyDrive/Thesis/DataSet/CWE-078/CWE78_OS_Command_Injection__wchar_t_listen_socket_w32_spawnv_84_goodG2B.cpp\n",
            "0 ) /content/drive/MyDrive/Thesis/DataSet/CWE-078/CWE78_OS_Command_Injection__wchar_t_listen_socket_w32_spawnlp_84_goodG2B.cpp\n",
            "0 ) /content/drive/MyDrive/Thesis/DataSet/CWE-078/CWE78_OS_Command_Injection__wchar_t_listen_socket_w32_spawnv_74b.cpp\n",
            "0 ) /content/drive/MyDrive/Thesis/DataSet/CWE-078/CWE78_OS_Command_Injection__wchar_t_listen_socket_w32_spawnlp_81a.cpp\n",
            "0 ) /content/drive/MyDrive/Thesis/DataSet/CWE-078/CWE78_OS_Command_Injection__wchar_t_listen_socket_w32_execv_72b.cpp\n",
            "0 ) /content/drive/MyDrive/Thesis/DataSet/CWE-078/CWE78_OS_Command_Injection__wchar_t_listen_socket_w32_spawnvp_74b.cpp\n",
            "0 ) /content/drive/MyDrive/Thesis/DataSet/CWE-078/CWE78_OS_Command_Injection__wchar_t_listen_socket_w32_spawnvp_33.cpp\n",
            "0 ) /content/drive/MyDrive/Thesis/DataSet/CWE-078/CWE78_OS_Command_Injection__wchar_t_listen_socket_w32_spawnvp_81_goodG2B.cpp\n",
            "0 ) /content/drive/MyDrive/Thesis/DataSet/CWE-078/CWE78_OS_Command_Injection__wchar_t_listen_socket_w32_spawnvp_82_bad.cpp\n",
            "0 ) /content/drive/MyDrive/Thesis/DataSet/CWE-078/CWE78_OS_Command_Injection__wchar_t_listen_socket_w32_spawnlp_33.cpp\n",
            "0 ) /content/drive/MyDrive/Thesis/DataSet/CWE-078/CWE78_OS_Command_Injection__wchar_t_listen_socket_w32_spawnv_83_bad.cpp\n",
            "0 ) /content/drive/MyDrive/Thesis/DataSet/CWE-078/CWE78_OS_Command_Injection__wchar_t_listen_socket_w32_spawnv_62a.cpp\n",
            "0 ) /content/drive/MyDrive/Thesis/DataSet/CWE-078/CWE78_OS_Command_Injection__wchar_t_listen_socket_w32_spawnlp_83a.cpp\n",
            "0 ) /content/drive/MyDrive/Thesis/DataSet/CWE-078/CWE78_OS_Command_Injection__wchar_t_listen_socket_w32_spawnv_73a.cpp\n",
            "0 ) /content/drive/MyDrive/Thesis/DataSet/CWE-078/CWE78_OS_Command_Injection__wchar_t_listen_socket_w32_spawnvp_72b.cpp\n",
            "0 ) /content/drive/MyDrive/Thesis/DataSet/CWE-078/CWE78_OS_Command_Injection__wchar_t_listen_socket_w32_spawnv_81_goodG2B.cpp\n",
            "0 ) /content/drive/MyDrive/Thesis/DataSet/CWE-078/CWE78_OS_Command_Injection__wchar_t_listen_socket_w32_execvp_33.cpp\n",
            "0 ) /content/drive/MyDrive/Thesis/DataSet/CWE-078/CWE78_OS_Command_Injection__wchar_t_listen_socket_w32_execv_73a.cpp\n",
            "0 ) /content/drive/MyDrive/Thesis/DataSet/CWE-078/CWE78_OS_Command_Injection__wchar_t_listen_socket_w32spawnl_84_bad.cpp\n",
            "0 ) /content/drive/MyDrive/Thesis/DataSet/CWE-078/CWE78_OS_Command_Injection__wchar_t_listen_socket_w32spawnl_84a.cpp\n",
            "0 ) /content/drive/MyDrive/Thesis/DataSet/CWE-078/CWE78_OS_Command_Injection__wchar_t_listen_socket_w32spawnl_81_bad.cpp\n",
            "0 ) /content/drive/MyDrive/Thesis/DataSet/CWE-078/CWE78_OS_Command_Injection__wchar_t_listen_socket_w32spawnl_81_goodG2B.cpp\n",
            "0 ) /content/drive/MyDrive/Thesis/DataSet/CWE-078/CWE78_OS_Command_Injection__wchar_t_listen_socket_system_74a.cpp\n",
            "0 ) /content/drive/MyDrive/Thesis/DataSet/CWE-078/Copy of CWE78_OS_Command_Injection__wchar_t_listen_socket_execlp_81_goodG2B.cpp\n",
            "0 ) /content/drive/MyDrive/Thesis/DataSet/CWE-078/CWE78_OS_Command_Injection__wchar_t_listen_socket_w32_execv_84_goodG2B.cpp\n",
            "0 ) /content/drive/MyDrive/Thesis/DataSet/CWE-078/CWE78_OS_Command_Injection__wchar_t_listen_socket_w32spawnl_82_goodG2B.cpp\n",
            "0 ) /content/drive/MyDrive/Thesis/DataSet/CWE-078/CWE78_OS_Command_Injection__wchar_t_listen_socket_w32_execv_83_goodG2B.cpp\n",
            "0 ) /content/drive/MyDrive/Thesis/DataSet/CWE-078/CWE78_OS_Command_Injection__wchar_t_listen_socket_w32_execv_83_bad.cpp\n",
            "0 ) /content/drive/MyDrive/Thesis/DataSet/CWE-078/CWE78_OS_Command_Injection__wchar_t_listen_socket_w32spawnl_83a.cpp\n",
            "0 ) /content/drive/MyDrive/Thesis/DataSet/CWE-078/CWE78_OS_Command_Injection__wchar_t_listen_socket_w32_execv_62a.cpp\n",
            "0 ) /content/drive/MyDrive/Thesis/DataSet/CWE-078/CWE78_OS_Command_Injection__wchar_t_listen_socket_w32_execvp_74a.cpp\n",
            "0 ) /content/drive/MyDrive/Thesis/DataSet/CWE-078/CWE78_OS_Command_Injection__wchar_t_listen_socket_w32_execv_84_bad.cpp\n",
            "0 ) /content/drive/MyDrive/Thesis/DataSet/CWE-078/CWE78_OS_Command_Injection__wchar_t_listen_socket_w32_execvp_84_goodG2B.cpp\n",
            "0 ) /content/drive/MyDrive/Thesis/DataSet/CWE-078/CWE78_OS_Command_Injection__wchar_t_listen_socket_w32_spawnlp_74a.cpp\n",
            "0 ) /content/drive/MyDrive/Thesis/DataSet/CWE-078/CWE78_OS_Command_Injection__wchar_t_listen_socket_w32spawnl_74b.cpp\n",
            "0 ) /content/drive/MyDrive/Thesis/DataSet/CWE-078/CWE78_OS_Command_Injection__wchar_t_listen_socket_w32_execv_62b.cpp\n",
            "0 ) /content/drive/MyDrive/Thesis/DataSet/CWE-078/CWE78_OS_Command_Injection__wchar_t_listen_socket_w32_execvp_82_bad.cpp\n",
            "0 ) /content/drive/MyDrive/Thesis/DataSet/CWE-078/CWE78_OS_Command_Injection__wchar_t_listen_socket_w32_execvp_84_bad.cpp\n",
            "0 ) /content/drive/MyDrive/Thesis/DataSet/CWE-078/CWE78_OS_Command_Injection__wchar_t_listen_socket_w32_execv_83a.cpp\n",
            "0 ) /content/drive/MyDrive/Thesis/DataSet/CWE-078/CWE78_OS_Command_Injection__wchar_t_listen_socket_w32_spawnlp_72a.cpp\n",
            "0 ) /content/drive/MyDrive/Thesis/DataSet/CWE-078/CWE78_OS_Command_Injection__wchar_t_listen_socket_system_74b.cpp\n",
            "0 ) /content/drive/MyDrive/Thesis/DataSet/CWE-078/CWE78_OS_Command_Injection__wchar_t_listen_socket_w32spawnl_33.cpp\n",
            "0 ) /content/drive/MyDrive/Thesis/DataSet/CWE-078/CWE78_OS_Command_Injection__wchar_t_listen_socket_w32_execvp_81_bad.cpp\n",
            "0 ) /content/drive/MyDrive/Thesis/DataSet/CWE-078/CWE78_OS_Command_Injection__wchar_t_listen_socket_w32_execvp_83_goodG2B.cpp\n",
            "0 ) /content/drive/MyDrive/Thesis/DataSet/CWE-078/CWE78_OS_Command_Injection__wchar_t_listen_socket_w32_execvp_73a.cpp\n",
            "0 ) /content/drive/MyDrive/Thesis/DataSet/CWE-078/CWE78_OS_Command_Injection__wchar_t_listen_socket_w32spawnl_74a.cpp\n",
            "0 ) /content/drive/MyDrive/Thesis/DataSet/CWE-078/CWE78_OS_Command_Injection__wchar_t_listen_socket_w32_spawnlp_73b.cpp\n",
            "0 ) /content/drive/MyDrive/Thesis/DataSet/CWE-078/CWE78_OS_Command_Injection__wchar_t_listen_socket_w32_spawnlp_62b.cpp\n",
            "0 ) /content/drive/MyDrive/Thesis/DataSet/CWE-078/CWE78_OS_Command_Injection__wchar_t_listen_socket_w32_spawnlp_73a.cpp\n",
            "0 ) /content/drive/MyDrive/Thesis/DataSet/CWE-078/CWE78_OS_Command_Injection__wchar_t_listen_socket_w32_execvp_72a.cpp\n",
            "0 ) /content/drive/MyDrive/Thesis/DataSet/CWE-078/CWE78_OS_Command_Injection__wchar_t_listen_socket_w32_execv_74b.cpp\n",
            "0 ) /content/drive/MyDrive/Thesis/DataSet/CWE-078/CWE78_OS_Command_Injection__wchar_t_listen_socket_w32spawnl_62b.cpp\n",
            "0 ) /content/drive/MyDrive/Thesis/DataSet/CWE-078/CWE78_OS_Command_Injection__wchar_t_listen_socket_w32spawnl_73b.cpp\n",
            "0 ) /content/drive/MyDrive/Thesis/DataSet/CWE-078/CWE78_OS_Command_Injection__wchar_t_listen_socket_w32spawnl_82a.cpp\n",
            "0 ) /content/drive/MyDrive/Thesis/DataSet/CWE-078/CWE78_OS_Command_Injection__wchar_t_listen_socket_w32spawnl_81a.cpp\n",
            "0 ) /content/drive/MyDrive/Thesis/DataSet/CWE-078/CWE78_OS_Command_Injection__wchar_t_listen_socket_w32spawnl_72a.cpp\n",
            "0 ) /content/drive/MyDrive/Thesis/DataSet/CWE-078/CWE78_OS_Command_Injection__wchar_t_listen_socket_w32_execvp_74b.cpp\n",
            "0 ) /content/drive/MyDrive/Thesis/DataSet/CWE-078/Copy of CWE78_OS_Command_Injection__wchar_t_listen_socket_execl_81_goodG2B.cpp\n",
            "0 ) /content/drive/MyDrive/Thesis/DataSet/CWE-078/CWE78_OS_Command_Injection__wchar_t_listen_socket_w32_execvp_82a.cpp\n",
            "0 ) /content/drive/MyDrive/Thesis/DataSet/CWE-078/CWE78_OS_Command_Injection__wchar_t_listen_socket_w32spawnl_62a.cpp\n",
            "0 ) /content/drive/MyDrive/Thesis/DataSet/CWE-078/CWE78_OS_Command_Injection__wchar_t_listen_socket_w32_execv_73b.cpp\n",
            "0 ) /content/drive/MyDrive/Thesis/DataSet/CWE-078/CWE78_OS_Command_Injection__wchar_t_listen_socket_w32_execvp_83_bad.cpp\n",
            "0 ) /content/drive/MyDrive/Thesis/DataSet/CWE-078/CWE78_OS_Command_Injection__wchar_t_listen_socket_w32spawnl_84_goodG2B.cpp\n",
            "0 ) /content/drive/MyDrive/Thesis/DataSet/CWE-078/CWE78_OS_Command_Injection__wchar_t_listen_socket_w32_execv_74a.cpp\n",
            "0 ) /content/drive/MyDrive/Thesis/DataSet/CWE-078/CWE78_OS_Command_Injection__wchar_t_listen_socket_w32_spawnlp_72b.cpp\n",
            "0 ) /content/drive/MyDrive/Thesis/DataSet/CWE-078/CWE78_OS_Command_Injection__wchar_t_listen_socket_w32_execv_72a.cpp\n",
            "0 ) /content/drive/MyDrive/Thesis/DataSet/CWE-078/CWE78_OS_Command_Injection__wchar_t_listen_socket_w32_execvp_81_goodG2B.cpp\n",
            "0 ) /content/drive/MyDrive/Thesis/DataSet/CWE-078/CWE78_OS_Command_Injection__wchar_t_listen_socket_w32_execvp_83a.cpp\n",
            "0 ) /content/drive/MyDrive/Thesis/DataSet/CWE-078/CWE78_OS_Command_Injection__wchar_t_listen_socket_w32_execvp_62a.cpp\n",
            "0 ) /content/drive/MyDrive/Thesis/DataSet/CWE-078/CWE78_OS_Command_Injection__wchar_t_listen_socket_w32spawnl_72b.cpp\n",
            "0 ) /content/drive/MyDrive/Thesis/DataSet/CWE-078/CWE78_OS_Command_Injection__wchar_t_listen_socket_w32_execvp_43.cpp\n",
            "0 ) /content/drive/MyDrive/Thesis/DataSet/CWE-078/CWE78_OS_Command_Injection__wchar_t_listen_socket_execl_73a.cpp\n",
            "0 ) /content/drive/MyDrive/Thesis/DataSet/CWE-078/CWE78_OS_Command_Injection__wchar_t_listen_socket_system_72b.cpp\n",
            "0 ) /content/drive/MyDrive/Thesis/DataSet/CWE-078/CWE78_OS_Command_Injection__wchar_t_listen_socket_popen_62b.cpp\n",
            "0 ) /content/drive/MyDrive/Thesis/DataSet/CWE-078/Copy of CWE78_OS_Command_Injection__wchar_t_listen_socket_execlp_62b.cpp\n",
            "0 ) /content/drive/MyDrive/Thesis/DataSet/CWE-078/CWE78_OS_Command_Injection__wchar_t_listen_socket_w32_execvp_84a.cpp\n",
            "0 ) /content/drive/MyDrive/Thesis/DataSet/CWE-078/CWE78_OS_Command_Injection__wchar_t_listen_socket_execlp_74b.cpp\n",
            "0 ) /content/drive/MyDrive/Thesis/DataSet/CWE-078/CWE78_OS_Command_Injection__wchar_t_listen_socket_execlp_81_goodG2B.cpp\n",
            "0 ) /content/drive/MyDrive/Thesis/DataSet/CWE-078/CWE78_OS_Command_Injection__wchar_t_listen_socket_w32_execvp_72b.cpp\n",
            "0 ) /content/drive/MyDrive/Thesis/DataSet/CWE-078/CWE78_OS_Command_Injection__wchar_t_listen_socket_execlp_62a.cpp\n",
            "0 ) /content/drive/MyDrive/Thesis/DataSet/CWE-078/CWE78_OS_Command_Injection__wchar_t_listen_socket_execl_84a.cpp\n",
            "0 ) /content/drive/MyDrive/Thesis/DataSet/CWE-078/CWE78_OS_Command_Injection__wchar_t_listen_socket_execlp_82_bad.cpp\n",
            "0 ) /content/drive/MyDrive/Thesis/DataSet/CWE-078/CWE78_OS_Command_Injection__wchar_t_listen_socket_execl_81_goodG2B.cpp\n",
            "0 ) /content/drive/MyDrive/Thesis/DataSet/CWE-078/CWE78_OS_Command_Injection__wchar_t_listen_socket_system_62b.cpp\n",
            "0 ) /content/drive/MyDrive/Thesis/DataSet/CWE-078/CWE78_OS_Command_Injection__wchar_t_listen_socket_execl_43.cpp\n",
            "0 ) /content/drive/MyDrive/Thesis/DataSet/CWE-078/CWE78_OS_Command_Injection__wchar_t_listen_socket_execlp_73a.cpp\n",
            "0 ) /content/drive/MyDrive/Thesis/DataSet/CWE-078/CWE78_OS_Command_Injection__wchar_t_listen_socket_w32_spawnvp_74a.cpp\n",
            "0 ) /content/drive/MyDrive/Thesis/DataSet/CWE-078/CWE78_OS_Command_Injection__wchar_t_listen_socket_execl_74a.cpp\n",
            "0 ) /content/drive/MyDrive/Thesis/DataSet/CWE-078/CWE78_OS_Command_Injection__wchar_t_listen_socket_execlp_82a.cpp\n",
            "0 ) /content/drive/MyDrive/Thesis/DataSet/CWE-078/CWE78_OS_Command_Injection__wchar_t_listen_socket_execl_83a.cpp\n",
            "0 ) /content/drive/MyDrive/Thesis/DataSet/CWE-078/CWE78_OS_Command_Injection__wchar_t_listen_socket_execl_62a.cpp\n",
            "0 ) /content/drive/MyDrive/Thesis/DataSet/CWE-078/CWE78_OS_Command_Injection__wchar_t_listen_socket_execl_74b.cpp\n",
            "0 ) /content/drive/MyDrive/Thesis/DataSet/CWE-078/CWE78_OS_Command_Injection__wchar_t_listen_socket_system_62a.cpp\n",
            "0 ) /content/drive/MyDrive/Thesis/DataSet/CWE-078/CWE78_OS_Command_Injection__wchar_t_listen_socket_execlp_43.cpp\n",
            "0 ) /content/drive/MyDrive/Thesis/DataSet/CWE-078/CWE78_OS_Command_Injection__wchar_t_listen_socket_popen_73b.cpp\n",
            "0 ) /content/drive/MyDrive/Thesis/DataSet/CWE-078/CWE78_OS_Command_Injection__wchar_t_listen_socket_execlp_74a.cpp\n",
            "0 ) /content/drive/MyDrive/Thesis/DataSet/CWE-078/CWE78_OS_Command_Injection__wchar_t_listen_socket_execlp_81a.cpp\n",
            "0 ) /content/drive/MyDrive/Thesis/DataSet/CWE-078/CWE78_OS_Command_Injection__wchar_t_listen_socket_execlp_81_bad.cpp\n",
            "0 ) /content/drive/MyDrive/Thesis/DataSet/CWE-078/CWE78_OS_Command_Injection__wchar_t_listen_socket_w32_execvp_81a.cpp\n",
            "0 ) /content/drive/MyDrive/Thesis/DataSet/CWE-078/CWE78_OS_Command_Injection__wchar_t_listen_socket_popen_62a.cpp\n",
            "0 ) /content/drive/MyDrive/Thesis/DataSet/CWE-078/CWE78_OS_Command_Injection__wchar_t_listen_socket_w32_spawnv_62b.cpp\n",
            "0 ) /content/drive/MyDrive/Thesis/DataSet/CWE-078/CWE78_OS_Command_Injection__wchar_t_listen_socket_system_72a.cpp\n",
            "0 ) /content/drive/MyDrive/Thesis/DataSet/CWE-078/CWE78_OS_Command_Injection__wchar_t_listen_socket_execlp_73b.cpp\n",
            "0 ) /content/drive/MyDrive/Thesis/DataSet/CWE-078/CWE78_OS_Command_Injection__wchar_t_listen_socket_execlp_82_goodG2B.cpp\n",
            "0 ) /content/drive/MyDrive/Thesis/DataSet/CWE-078/CWE78_OS_Command_Injection__wchar_t_listen_socket_execl_62b.cpp\n",
            "0 ) /content/drive/MyDrive/Thesis/DataSet/CWE-078/CWE78_OS_Command_Injection__wchar_t_listen_socket_popen_73a.cpp\n",
            "0 ) /content/drive/MyDrive/Thesis/DataSet/CWE-078/CWE78_OS_Command_Injection__wchar_t_listen_socket_execl_83_goodG2B.cpp\n",
            "0 ) /content/drive/MyDrive/Thesis/DataSet/CWE-078/CWE78_OS_Command_Injection__wchar_t_listen_socket_system_73a.cpp\n",
            "0 ) /content/drive/MyDrive/Thesis/DataSet/CWE-078/CWE78_OS_Command_Injection__wchar_t_listen_socket_execlp_62b.cpp\n",
            "0 ) /content/drive/MyDrive/Thesis/DataSet/CWE-078/CWE78_OS_Command_Injection__wchar_t_listen_socket_w32_spawnlp_43.cpp\n",
            "0 ) /content/drive/MyDrive/Thesis/DataSet/CWE-078/CWE78_OS_Command_Injection__wchar_t_listen_socket_system_43.cpp\n",
            "0 ) /content/drive/MyDrive/Thesis/DataSet/CWE-078/CWE78_OS_Command_Injection__wchar_t_listen_socket_execlp_83_bad.cpp\n",
            "0 ) /content/drive/MyDrive/Thesis/DataSet/CWE-078/CWE78_OS_Command_Injection__wchar_t_listen_socket_execlp_84_goodG2B.cpp\n",
            "0 ) /content/drive/MyDrive/Thesis/DataSet/CWE-078/CWE78_OS_Command_Injection__wchar_t_listen_socket_execl_83_bad.cpp\n",
            "0 ) /content/drive/MyDrive/Thesis/DataSet/CWE-078/CWE78_OS_Command_Injection__wchar_t_listen_socket_popen_74b.cpp\n",
            "0 ) /content/drive/MyDrive/Thesis/DataSet/CWE-078/CWE78_OS_Command_Injection__wchar_t_listen_socket_w32_execvp_62b.cpp\n",
            "0 ) /content/drive/MyDrive/Thesis/DataSet/CWE-078/CWE78_OS_Command_Injection__wchar_t_listen_socket_popen_74a.cpp\n",
            "0 ) /content/drive/MyDrive/Thesis/DataSet/CWE-078/CWE78_OS_Command_Injection__wchar_t_listen_socket_execlp_83a.cpp\n",
            "0 ) /content/drive/MyDrive/Thesis/DataSet/CWE-078/CWE78_OS_Command_Injection__wchar_t_listen_socket_execlp_83_goodG2B.cpp\n",
            "0 ) /content/drive/MyDrive/Thesis/DataSet/CWE-078/CWE78_OS_Command_Injection__wchar_t_listen_socket_execl_81_bad.cpp\n",
            "0 ) /content/drive/MyDrive/Thesis/DataSet/CWE-078/CWE78_OS_Command_Injection__wchar_t_listen_socket_execlp_72a.cpp\n",
            "0 ) /content/drive/MyDrive/Thesis/DataSet/CWE-078/CWE78_OS_Command_Injection__wchar_t_listen_socket_system_33.cpp\n",
            "0 ) /content/drive/MyDrive/Thesis/DataSet/CWE-078/CWE78_OS_Command_Injection__wchar_t_listen_socket_system_73b.cpp\n",
            "0 ) /content/drive/MyDrive/Thesis/DataSet/CWE-078/CWE78_OS_Command_Injection__wchar_t_file_w32spawnl_84_goodG2B.cpp\n",
            "0 ) /content/drive/MyDrive/Thesis/DataSet/CWE-078/CWE78_OS_Command_Injection__wchar_t_listen_socket_w32_execvp_82_goodG2B.cpp\n",
            "0 ) /content/drive/MyDrive/Thesis/DataSet/CWE-078/CWE78_OS_Command_Injection__wchar_t_listen_socket_popen_33.cpp\n",
            "0 ) /content/drive/MyDrive/Thesis/DataSet/CWE-078/CWE78_OS_Command_Injection__wchar_t_listen_socket_popen_43.cpp\n",
            "0 ) /content/drive/MyDrive/Thesis/DataSet/CWE-078/CWE78_OS_Command_Injection__wchar_t_listen_socket_w32_execvp_73b.cpp\n",
            "0 ) /content/drive/MyDrive/Thesis/DataSet/CWE-078/CWE78_OS_Command_Injection__wchar_t_listen_socket_w32_spawnv_81a.cpp\n",
            "0 ) /content/drive/MyDrive/Thesis/DataSet/CWE-078/CWE78_OS_Command_Injection__wchar_t_listen_socket_execl_72a.cpp\n",
            "0 ) /content/drive/MyDrive/Thesis/DataSet/CWE-078/CWE78_OS_Command_Injection__wchar_t_listen_socket_w32_spawnvp_62a.cpp\n",
            "0 ) /content/drive/MyDrive/Thesis/DataSet/CWE-078/CWE78_OS_Command_Injection__wchar_t_listen_socket_w32_execv_81a.cpp\n",
            "0 ) /content/drive/MyDrive/Thesis/DataSet/CWE-078/CWE78_OS_Command_Injection__wchar_t_listen_socket_execl_82_goodG2B.cpp\n",
            "0 ) /content/drive/MyDrive/Thesis/DataSet/CWE-078/CWE78_OS_Command_Injection__wchar_t_listen_socket_popen_72b.cpp\n",
            "0 ) /content/drive/MyDrive/Thesis/DataSet/CWE-078/CWE78_OS_Command_Injection__wchar_t_listen_socket_execl_82a.cpp\n",
            "0 ) /content/drive/MyDrive/Thesis/DataSet/CWE-078/CWE78_OS_Command_Injection__wchar_t_listen_socket_execlp_72b.cpp\n",
            "0 ) /content/drive/MyDrive/Thesis/DataSet/CWE-078/CWE78_OS_Command_Injection__wchar_t_listen_socket_execlp_84a.cpp\n",
            "0 ) /content/drive/MyDrive/Thesis/DataSet/CWE-078/CWE78_OS_Command_Injection__wchar_t_listen_socket_execl_72b.cpp\n",
            "0 ) /content/drive/MyDrive/Thesis/DataSet/CWE-078/CWE78_OS_Command_Injection__wchar_t_listen_socket_execlp_84_bad.cpp\n",
            "0 ) /content/drive/MyDrive/Thesis/DataSet/CWE-078/CWE78_OS_Command_Injection__wchar_t_listen_socket_w32spawnl_43.cpp\n",
            "0 ) /content/drive/MyDrive/Thesis/DataSet/CWE-078/CWE78_OS_Command_Injection__wchar_t_file_w32spawnl_84a.cpp\n",
            "0 ) /content/drive/MyDrive/Thesis/DataSet/CWE-078/CWE78_OS_Command_Injection__wchar_t_listen_socket_execl_82_bad.cpp\n",
            "0 ) /content/drive/MyDrive/Thesis/DataSet/CWE-078/CWE78_OS_Command_Injection__wchar_t_file_w32spawnl_83a.cpp\n",
            "0 ) /content/drive/MyDrive/Thesis/DataSet/CWE-078/CWE78_OS_Command_Injection__wchar_t_listen_socket_execl_33.cpp\n",
            "0 ) /content/drive/MyDrive/Thesis/DataSet/CWE-078/CWE78_OS_Command_Injection__wchar_t_listen_socket_w32spawnl_82_bad.cpp\n",
            "0 ) /content/drive/MyDrive/Thesis/DataSet/CWE-078/CWE78_OS_Command_Injection__wchar_t_listen_socket_popen_72a.cpp\n",
            "0 ) /content/drive/MyDrive/Thesis/DataSet/CWE-078/CWE78_OS_Command_Injection__wchar_t_listen_socket_w32_execv_81_bad.cpp\n",
            "0 ) /content/drive/MyDrive/Thesis/DataSet/CWE-078/CWE78_OS_Command_Injection__wchar_t_listen_socket_execl_81a.cpp\n",
            "0 ) /content/drive/MyDrive/Thesis/DataSet/CWE-078/Copy of CWE78_OS_Command_Injection__wchar_t_file_w32spawnl_84_bad.cpp\n",
            "0 ) /content/drive/MyDrive/Thesis/DataSet/CWE-078/CWE78_OS_Command_Injection__wchar_t_listen_socket_execl_84_bad.cpp\n",
            "0 ) /content/drive/MyDrive/Thesis/DataSet/CWE-078/CWE78_OS_Command_Injection__wchar_t_listen_socket_execl_73b.cpp\n",
            "0 ) /content/drive/MyDrive/Thesis/DataSet/CWE-078/CWE78_OS_Command_Injection__wchar_t_listen_socket_execlp_33.cpp\n",
            "0 ) /content/drive/MyDrive/Thesis/DataSet/CWE-078/CWE78_OS_Command_Injection__wchar_t_listen_socket_w32spawnl_83_bad.cpp\n",
            "0 ) /content/drive/MyDrive/Thesis/DataSet/CWE-078/CWE78_OS_Command_Injection__wchar_t_listen_socket_execl_84_goodG2B.cpp\n",
            "0 ) /content/drive/MyDrive/Thesis/DataSet/CWE-078/CWE78_OS_Command_Injection__wchar_t_file_w32spawnl_84_bad.cpp\n",
            "0 ) /content/drive/MyDrive/Thesis/DataSet/CWE-078/CWE78_OS_Command_Injection__wchar_t_listen_socket_w32spawnl_73a.cpp\n",
            "0 ) /content/drive/MyDrive/Thesis/DataSet/CWE-078/CWE78_OS_Command_Injection__wchar_t_file_w32spawnl_83_goodG2B.cpp\n",
            "*****Complete**********\n",
            "/content/drive/MyDrive/Thesis/DataSet/CWE-090\n"
          ]
        },
        {
          "output_type": "stream",
          "name": "stderr",
          "text": [
            "Token indices sequence length is longer than the specified maximum sequence length for this model (1493 > 512). Running this sequence through the model will result in indexing errors\n"
          ]
        },
        {
          "output_type": "stream",
          "name": "stdout",
          "text": [
            "0 ) /content/drive/MyDrive/Thesis/DataSet/CWE-090/CWE90_LDAP_Injection__w32_char_listen_socket_33.cpp\n",
            "0 ) /content/drive/MyDrive/Thesis/DataSet/CWE-090/CWE90_LDAP_Injection__w32_char_console_73b.cpp\n",
            "0 ) /content/drive/MyDrive/Thesis/DataSet/CWE-090/CWE90_LDAP_Injection__w32_char_file_74a.cpp\n",
            "0 ) /content/drive/MyDrive/Thesis/DataSet/CWE-090/CWE90_LDAP_Injection__w32_char_environment_72b.cpp\n",
            "0 ) /content/drive/MyDrive/Thesis/DataSet/CWE-090/CWE90_LDAP_Injection__w32_char_console_72b.cpp\n",
            "0 ) /content/drive/MyDrive/Thesis/DataSet/CWE-090/CWE90_LDAP_Injection__w32_char_file_72b.cpp\n",
            "0 ) /content/drive/MyDrive/Thesis/DataSet/CWE-090/CWE90_LDAP_Injection__w32_char_connect_socket_33.cpp\n",
            "0 ) /content/drive/MyDrive/Thesis/DataSet/CWE-090/CWE90_LDAP_Injection__w32_char_connect_socket_74b.cpp\n",
            "0 ) /content/drive/MyDrive/Thesis/DataSet/CWE-090/CWE90_LDAP_Injection__w32_char_file_74b.cpp\n",
            "0 ) /content/drive/MyDrive/Thesis/DataSet/CWE-090/CWE90_LDAP_Injection__w32_char_environment_33.cpp\n",
            "0 ) /content/drive/MyDrive/Thesis/DataSet/CWE-090/CWE90_LDAP_Injection__w32_char_console_43.cpp\n",
            "0 ) /content/drive/MyDrive/Thesis/DataSet/CWE-090/CWE90_LDAP_Injection__w32_char_file_33.cpp\n",
            "0 ) /content/drive/MyDrive/Thesis/DataSet/CWE-090/CWE90_LDAP_Injection__w32_char_console_33.cpp\n",
            "0 ) /content/drive/MyDrive/Thesis/DataSet/CWE-090/CWE90_LDAP_Injection__w32_char_console_73a.cpp\n",
            "0 ) /content/drive/MyDrive/Thesis/DataSet/CWE-090/CWE90_LDAP_Injection__w32_char_environment_74a.cpp\n",
            "0 ) /content/drive/MyDrive/Thesis/DataSet/CWE-090/CWE90_LDAP_Injection__w32_char_connect_socket_43.cpp\n",
            "0 ) /content/drive/MyDrive/Thesis/DataSet/CWE-090/CWE90_LDAP_Injection__w32_char_listen_socket_73a.cpp\n",
            "0 ) /content/drive/MyDrive/Thesis/DataSet/CWE-090/CWE90_LDAP_Injection__w32_char_connect_socket_72a.cpp\n",
            "0 ) /content/drive/MyDrive/Thesis/DataSet/CWE-090/CWE90_LDAP_Injection__w32_char_connect_socket_62a.cpp\n",
            "0 ) /content/drive/MyDrive/Thesis/DataSet/CWE-090/CWE90_LDAP_Injection__w32_char_console_74a.cpp\n",
            "0 ) /content/drive/MyDrive/Thesis/DataSet/CWE-090/CWE90_LDAP_Injection__w32_char_listen_socket_73b.cpp\n",
            "0 ) /content/drive/MyDrive/Thesis/DataSet/CWE-090/CWE90_LDAP_Injection__w32_char_listen_socket_43.cpp\n",
            "0 ) /content/drive/MyDrive/Thesis/DataSet/CWE-090/CWE90_LDAP_Injection__w32_char_connect_socket_73b.cpp\n",
            "0 ) /content/drive/MyDrive/Thesis/DataSet/CWE-090/CWE90_LDAP_Injection__w32_char_connect_socket_73a.cpp\n",
            "0 ) /content/drive/MyDrive/Thesis/DataSet/CWE-090/CWE90_LDAP_Injection__w32_char_environment_62b.cpp\n",
            "0 ) /content/drive/MyDrive/Thesis/DataSet/CWE-090/CWE90_LDAP_Injection__w32_wchar_t_connect_socket_33.cpp\n",
            "0 ) /content/drive/MyDrive/Thesis/DataSet/CWE-090/CWE90_LDAP_Injection__w32_char_console_74b.cpp\n",
            "0 ) /content/drive/MyDrive/Thesis/DataSet/CWE-090/CWE90_LDAP_Injection__w32_char_listen_socket_74b.cpp\n",
            "0 ) /content/drive/MyDrive/Thesis/DataSet/CWE-090/CWE90_LDAP_Injection__w32_char_file_43.cpp\n",
            "0 ) /content/drive/MyDrive/Thesis/DataSet/CWE-090/CWE90_LDAP_Injection__w32_char_file_73b.cpp\n",
            "0 ) /content/drive/MyDrive/Thesis/DataSet/CWE-090/CWE90_LDAP_Injection__w32_char_environment_73a.cpp\n",
            "0 ) /content/drive/MyDrive/Thesis/DataSet/CWE-090/CWE90_LDAP_Injection__w32_char_connect_socket_72b.cpp\n",
            "0 ) /content/drive/MyDrive/Thesis/DataSet/CWE-090/CWE90_LDAP_Injection__w32_char_console_62a.cpp\n",
            "0 ) /content/drive/MyDrive/Thesis/DataSet/CWE-090/CWE90_LDAP_Injection__w32_char_environment_62a.cpp\n",
            "0 ) /content/drive/MyDrive/Thesis/DataSet/CWE-090/CWE90_LDAP_Injection__w32_char_listen_socket_62b.cpp\n",
            "0 ) /content/drive/MyDrive/Thesis/DataSet/CWE-090/CWE90_LDAP_Injection__w32_char_environment_72a.cpp\n",
            "0 ) /content/drive/MyDrive/Thesis/DataSet/CWE-090/CWE90_LDAP_Injection__w32_char_environment_73b.cpp\n",
            "0 ) /content/drive/MyDrive/Thesis/DataSet/CWE-090/CWE90_LDAP_Injection__w32_char_file_62b.cpp\n",
            "0 ) /content/drive/MyDrive/Thesis/DataSet/CWE-090/CWE90_LDAP_Injection__w32_char_file_73a.cpp\n",
            "0 ) /content/drive/MyDrive/Thesis/DataSet/CWE-090/CWE90_LDAP_Injection__w32_char_file_62a.cpp\n",
            "0 ) /content/drive/MyDrive/Thesis/DataSet/CWE-090/CWE90_LDAP_Injection__w32_char_console_72a.cpp\n",
            "0 ) /content/drive/MyDrive/Thesis/DataSet/CWE-090/CWE90_LDAP_Injection__w32_char_listen_socket_72a.cpp\n",
            "0 ) /content/drive/MyDrive/Thesis/DataSet/CWE-090/CWE90_LDAP_Injection__w32_char_environment_74b.cpp\n",
            "0 ) /content/drive/MyDrive/Thesis/DataSet/CWE-090/CWE90_LDAP_Injection__w32_char_listen_socket_72b.cpp\n",
            "0 ) /content/drive/MyDrive/Thesis/DataSet/CWE-090/CWE90_LDAP_Injection__w32_char_listen_socket_62a.cpp\n",
            "0 ) /content/drive/MyDrive/Thesis/DataSet/CWE-090/CWE90_LDAP_Injection__w32_char_file_72a.cpp\n",
            "0 ) /content/drive/MyDrive/Thesis/DataSet/CWE-090/CWE90_LDAP_Injection__w32_char_listen_socket_74a.cpp\n",
            "0 ) /content/drive/MyDrive/Thesis/DataSet/CWE-090/CWE90_LDAP_Injection__w32_char_environment_43.cpp\n",
            "0 ) /content/drive/MyDrive/Thesis/DataSet/CWE-090/CWE90_LDAP_Injection__w32_char_connect_socket_74a.cpp\n",
            "0 ) /content/drive/MyDrive/Thesis/DataSet/CWE-090/CWE90_LDAP_Injection__w32_char_console_62b.cpp\n",
            "0 ) /content/drive/MyDrive/Thesis/DataSet/CWE-090/CWE90_LDAP_Injection__w32_char_connect_socket_62b.cpp\n",
            "0 ) /content/drive/MyDrive/Thesis/DataSet/CWE-090/CWE90_LDAP_Injection__w32_wchar_t_console_72a.cpp\n",
            "0 ) /content/drive/MyDrive/Thesis/DataSet/CWE-090/CWE90_LDAP_Injection__w32_wchar_t_environment_43.cpp\n",
            "0 ) /content/drive/MyDrive/Thesis/DataSet/CWE-090/CWE90_LDAP_Injection__w32_wchar_t_console_33.cpp\n",
            "0 ) /content/drive/MyDrive/Thesis/DataSet/CWE-090/CWE90_LDAP_Injection__w32_wchar_t_listen_socket_62b.cpp\n",
            "0 ) /content/drive/MyDrive/Thesis/DataSet/CWE-090/CWE90_LDAP_Injection__w32_wchar_t_environment_73a.cpp\n",
            "0 ) /content/drive/MyDrive/Thesis/DataSet/CWE-090/CWE90_LDAP_Injection__w32_wchar_t_file_74a.cpp\n",
            "0 ) /content/drive/MyDrive/Thesis/DataSet/CWE-090/CWE90_LDAP_Injection__w32_wchar_t_environment_33.cpp\n",
            "0 ) /content/drive/MyDrive/Thesis/DataSet/CWE-090/CWE90_LDAP_Injection__w32_wchar_t_listen_socket_62a.cpp\n",
            "0 ) /content/drive/MyDrive/Thesis/DataSet/CWE-090/CWE90_LDAP_Injection__w32_wchar_t_console_74a.cpp\n",
            "0 ) /content/drive/MyDrive/Thesis/DataSet/CWE-090/CWE90_LDAP_Injection__w32_wchar_t_connect_socket_74b.cpp\n",
            "0 ) /content/drive/MyDrive/Thesis/DataSet/CWE-090/CWE90_LDAP_Injection__w32_wchar_t_listen_socket_43.cpp\n",
            "0 ) /content/drive/MyDrive/Thesis/DataSet/CWE-090/CWE90_LDAP_Injection__w32_wchar_t_connect_socket_74a.cpp\n",
            "0 ) /content/drive/MyDrive/Thesis/DataSet/CWE-090/CWE90_LDAP_Injection__w32_wchar_t_connect_socket_73b.cpp\n",
            "0 ) /content/drive/MyDrive/Thesis/DataSet/CWE-090/CWE90_LDAP_Injection__w32_wchar_t_connect_socket_72b.cpp\n",
            "0 ) /content/drive/MyDrive/Thesis/DataSet/CWE-090/CWE90_LDAP_Injection__w32_wchar_t_console_62b.cpp\n",
            "0 ) /content/drive/MyDrive/Thesis/DataSet/CWE-090/CWE90_LDAP_Injection__w32_wchar_t_console_74b.cpp\n",
            "0 ) /content/drive/MyDrive/Thesis/DataSet/CWE-090/CWE90_LDAP_Injection__w32_wchar_t_connect_socket_62b.cpp\n",
            "0 ) /content/drive/MyDrive/Thesis/DataSet/CWE-090/CWE90_LDAP_Injection__w32_wchar_t_environment_62b.cpp\n",
            "0 ) /content/drive/MyDrive/Thesis/DataSet/CWE-090/CWE90_LDAP_Injection__w32_wchar_t_file_74b.cpp\n",
            "0 ) /content/drive/MyDrive/Thesis/DataSet/CWE-090/CWE90_LDAP_Injection__w32_wchar_t_file_73b.cpp\n",
            "0 ) /content/drive/MyDrive/Thesis/DataSet/CWE-090/CWE90_LDAP_Injection__w32_wchar_t_console_73a.cpp\n",
            "0 ) /content/drive/MyDrive/Thesis/DataSet/CWE-090/CWE90_LDAP_Injection__w32_wchar_t_listen_socket_74a.cpp\n",
            "0 ) /content/drive/MyDrive/Thesis/DataSet/CWE-090/CWE90_LDAP_Injection__w32_wchar_t_file_62a.cpp\n",
            "0 ) /content/drive/MyDrive/Thesis/DataSet/CWE-090/CWE90_LDAP_Injection__w32_wchar_t_console_72b.cpp\n",
            "0 ) /content/drive/MyDrive/Thesis/DataSet/CWE-090/CWE90_LDAP_Injection__w32_wchar_t_listen_socket_72b.cpp\n",
            "0 ) /content/drive/MyDrive/Thesis/DataSet/CWE-090/CWE90_LDAP_Injection__w32_wchar_t_environment_74a.cpp\n",
            "0 ) /content/drive/MyDrive/Thesis/DataSet/CWE-090/CWE90_LDAP_Injection__w32_wchar_t_listen_socket_33.cpp\n",
            "0 ) /content/drive/MyDrive/Thesis/DataSet/CWE-090/CWE90_LDAP_Injection__w32_wchar_t_file_73a.cpp\n",
            "0 ) /content/drive/MyDrive/Thesis/DataSet/CWE-090/CWE90_LDAP_Injection__w32_wchar_t_file_33.cpp\n",
            "0 ) /content/drive/MyDrive/Thesis/DataSet/CWE-090/CWE90_LDAP_Injection__w32_wchar_t_listen_socket_72a.cpp\n",
            "0 ) /content/drive/MyDrive/Thesis/DataSet/CWE-090/CWE90_LDAP_Injection__w32_wchar_t_file_72b.cpp\n",
            "0 ) /content/drive/MyDrive/Thesis/DataSet/CWE-090/CWE90_LDAP_Injection__w32_wchar_t_environment_73b.cpp\n",
            "0 ) /content/drive/MyDrive/Thesis/DataSet/CWE-090/CWE90_LDAP_Injection__w32_wchar_t_environment_72b.cpp\n",
            "0 ) /content/drive/MyDrive/Thesis/DataSet/CWE-090/CWE90_LDAP_Injection__w32_wchar_t_console_43.cpp\n",
            "0 ) /content/drive/MyDrive/Thesis/DataSet/CWE-090/CWE90_LDAP_Injection__w32_wchar_t_environment_72a.cpp\n",
            "0 ) /content/drive/MyDrive/Thesis/DataSet/CWE-090/CWE90_LDAP_Injection__w32_wchar_t_connect_socket_72a.cpp\n",
            "0 ) /content/drive/MyDrive/Thesis/DataSet/CWE-090/CWE90_LDAP_Injection__w32_wchar_t_file_72a.cpp\n",
            "0 ) /content/drive/MyDrive/Thesis/DataSet/CWE-090/CWE90_LDAP_Injection__w32_wchar_t_connect_socket_43.cpp\n",
            "0 ) /content/drive/MyDrive/Thesis/DataSet/CWE-090/CWE90_LDAP_Injection__w32_wchar_t_console_73b.cpp\n",
            "0 ) /content/drive/MyDrive/Thesis/DataSet/CWE-090/CWE90_LDAP_Injection__w32_wchar_t_listen_socket_74b.cpp\n",
            "0 ) /content/drive/MyDrive/Thesis/DataSet/CWE-090/CWE90_LDAP_Injection__w32_wchar_t_environment_74b.cpp\n",
            "0 ) /content/drive/MyDrive/Thesis/DataSet/CWE-090/CWE90_LDAP_Injection__w32_wchar_t_console_62a.cpp\n",
            "0 ) /content/drive/MyDrive/Thesis/DataSet/CWE-090/CWE90_LDAP_Injection__w32_wchar_t_connect_socket_73a.cpp\n",
            "0 ) /content/drive/MyDrive/Thesis/DataSet/CWE-090/CWE90_LDAP_Injection__w32_wchar_t_file_62b.cpp\n",
            "0 ) /content/drive/MyDrive/Thesis/DataSet/CWE-090/CWE90_LDAP_Injection__w32_wchar_t_connect_socket_62a.cpp\n",
            "0 ) /content/drive/MyDrive/Thesis/DataSet/CWE-090/CWE90_LDAP_Injection__w32_wchar_t_environment_62a.cpp\n",
            "0 ) /content/drive/MyDrive/Thesis/DataSet/CWE-090/CWE90_LDAP_Injection__w32_wchar_t_listen_socket_73b.cpp\n",
            "0 ) /content/drive/MyDrive/Thesis/DataSet/CWE-090/CWE90_LDAP_Injection__w32_wchar_t_listen_socket_73a.cpp\n",
            "0 ) /content/drive/MyDrive/Thesis/DataSet/CWE-090/CWE90_LDAP_Injection__w32_wchar_t_file_43.cpp\n",
            "*****Complete**********\n",
            "/content/drive/MyDrive/Thesis/DataSet/CWE-195\n"
          ]
        },
        {
          "output_type": "stream",
          "name": "stderr",
          "text": [
            "Token indices sequence length is longer than the specified maximum sequence length for this model (987 > 512). Running this sequence through the model will result in indexing errors\n"
          ]
        },
        {
          "output_type": "stream",
          "name": "stdout",
          "text": [
            "0 ) /content/drive/MyDrive/Thesis/DataSet/CWE-195/CWE195_Signed_to_Unsigned_Conversion_Error__listen_socket_malloc_33.cpp\n",
            "0 ) /content/drive/MyDrive/Thesis/DataSet/CWE-195/CWE195_Signed_to_Unsigned_Conversion_Error__listen_socket_malloc_72a.cpp\n",
            "0 ) /content/drive/MyDrive/Thesis/DataSet/CWE-195/CWE195_Signed_to_Unsigned_Conversion_Error__listen_socket_malloc_72b.cpp\n",
            "0 ) /content/drive/MyDrive/Thesis/DataSet/CWE-195/CWE195_Signed_to_Unsigned_Conversion_Error__rand_malloc_73a.cpp\n",
            "0 ) /content/drive/MyDrive/Thesis/DataSet/CWE-195/CWE195_Signed_to_Unsigned_Conversion_Error__negative_malloc_74a.cpp\n",
            "0 ) /content/drive/MyDrive/Thesis/DataSet/CWE-195/CWE195_Signed_to_Unsigned_Conversion_Error__rand_malloc_72a.cpp\n",
            "0 ) /content/drive/MyDrive/Thesis/DataSet/CWE-195/CWE195_Signed_to_Unsigned_Conversion_Error__listen_socket_malloc_73b.cpp\n",
            "0 ) /content/drive/MyDrive/Thesis/DataSet/CWE-195/CWE195_Signed_to_Unsigned_Conversion_Error__negative_malloc_73b.cpp\n",
            "0 ) /content/drive/MyDrive/Thesis/DataSet/CWE-195/CWE195_Signed_to_Unsigned_Conversion_Error__fscanf_malloc_73b.cpp\n",
            "0 ) /content/drive/MyDrive/Thesis/DataSet/CWE-195/CWE195_Signed_to_Unsigned_Conversion_Error__fscanf_malloc_74a.cpp\n",
            "0 ) /content/drive/MyDrive/Thesis/DataSet/CWE-195/CWE195_Signed_to_Unsigned_Conversion_Error__negative_malloc_43.cpp\n",
            "0 ) /content/drive/MyDrive/Thesis/DataSet/CWE-195/CWE195_Signed_to_Unsigned_Conversion_Error__listen_socket_malloc_73a.cpp\n",
            "0 ) /content/drive/MyDrive/Thesis/DataSet/CWE-195/CWE195_Signed_to_Unsigned_Conversion_Error__negative_malloc_72a.cpp\n",
            "0 ) /content/drive/MyDrive/Thesis/DataSet/CWE-195/CWE195_Signed_to_Unsigned_Conversion_Error__fscanf_malloc_74b.cpp\n",
            "0 ) /content/drive/MyDrive/Thesis/DataSet/CWE-195/CWE195_Signed_to_Unsigned_Conversion_Error__fscanf_malloc_73a.cpp\n",
            "0 ) /content/drive/MyDrive/Thesis/DataSet/CWE-195/CWE195_Signed_to_Unsigned_Conversion_Error__fscanf_malloc_33.cpp\n",
            "0 ) /content/drive/MyDrive/Thesis/DataSet/CWE-195/CWE195_Signed_to_Unsigned_Conversion_Error__rand_malloc_33.cpp\n",
            "0 ) /content/drive/MyDrive/Thesis/DataSet/CWE-195/CWE195_Signed_to_Unsigned_Conversion_Error__rand_malloc_73b.cpp\n",
            "0 ) /content/drive/MyDrive/Thesis/DataSet/CWE-195/CWE195_Signed_to_Unsigned_Conversion_Error__negative_malloc_33.cpp\n",
            "0 ) /content/drive/MyDrive/Thesis/DataSet/CWE-195/CWE195_Signed_to_Unsigned_Conversion_Error__negative_malloc_72b.cpp\n",
            "0 ) /content/drive/MyDrive/Thesis/DataSet/CWE-195/CWE195_Signed_to_Unsigned_Conversion_Error__listen_socket_malloc_74b.cpp\n",
            "0 ) /content/drive/MyDrive/Thesis/DataSet/CWE-195/CWE195_Signed_to_Unsigned_Conversion_Error__negative_malloc_73a.cpp\n",
            "0 ) /content/drive/MyDrive/Thesis/DataSet/CWE-195/CWE195_Signed_to_Unsigned_Conversion_Error__listen_socket_malloc_43.cpp\n",
            "0 ) /content/drive/MyDrive/Thesis/DataSet/CWE-195/CWE195_Signed_to_Unsigned_Conversion_Error__rand_malloc_72b.cpp\n",
            "0 ) /content/drive/MyDrive/Thesis/DataSet/CWE-195/CWE195_Signed_to_Unsigned_Conversion_Error__listen_socket_malloc_74a.cpp\n",
            "0 ) /content/drive/MyDrive/Thesis/DataSet/CWE-195/CWE195_Signed_to_Unsigned_Conversion_Error__rand_malloc_43.cpp\n",
            "0 ) /content/drive/MyDrive/Thesis/DataSet/CWE-195/CWE195_Signed_to_Unsigned_Conversion_Error__fscanf_malloc_43.cpp\n",
            "0 ) /content/drive/MyDrive/Thesis/DataSet/CWE-195/CWE195_Signed_to_Unsigned_Conversion_Error__fscanf_malloc_72b.cpp\n",
            "0 ) /content/drive/MyDrive/Thesis/DataSet/CWE-195/CWE195_Signed_to_Unsigned_Conversion_Error__negative_malloc_74b.cpp\n",
            "0 ) /content/drive/MyDrive/Thesis/DataSet/CWE-195/CWE195_Signed_to_Unsigned_Conversion_Error__rand_malloc_74b.cpp\n",
            "0 ) /content/drive/MyDrive/Thesis/DataSet/CWE-195/CWE195_Signed_to_Unsigned_Conversion_Error__rand_malloc_74a.cpp\n",
            "0 ) /content/drive/MyDrive/Thesis/DataSet/CWE-195/CWE195_Signed_to_Unsigned_Conversion_Error__fscanf_malloc_72a.cpp\n",
            "*****Complete**********\n",
            "/content/drive/MyDrive/Thesis/DataSet/.ipynb_checkpoints\n",
            "*****Complete**********\n",
            "/content/drive/MyDrive/Thesis/DataSet/CWE-415\n",
            "0 ) /content/drive/MyDrive/Thesis/DataSet/CWE-415/CWE415_Double_Free__new_delete_class_54b.cpp\n",
            "0 ) /content/drive/MyDrive/Thesis/DataSet/CWE-415/CWE415_Double_Free__new_delete_class_41.cpp\n",
            "0 ) /content/drive/MyDrive/Thesis/DataSet/CWE-415/CWE415_Double_Free__new_delete_class_53b.cpp\n",
            "0 ) /content/drive/MyDrive/Thesis/DataSet/CWE-415/CWE415_Double_Free__new_delete_class_52c.cpp\n",
            "0 ) /content/drive/MyDrive/Thesis/DataSet/CWE-415/CWE415_Double_Free__new_delete_class_66b.cpp\n",
            "0 ) /content/drive/MyDrive/Thesis/DataSet/CWE-415/CWE415_Double_Free__new_delete_class_31.cpp\n",
            "0 ) /content/drive/MyDrive/Thesis/DataSet/CWE-415/CWE415_Double_Free__new_delete_class_52b.cpp\n",
            "0 ) /content/drive/MyDrive/Thesis/DataSet/CWE-415/CWE415_Double_Free__new_delete_class_52a.cpp\n",
            "0 ) /content/drive/MyDrive/Thesis/DataSet/CWE-415/CWE415_Double_Free__new_delete_class_54c.cpp\n",
            "0 ) /content/drive/MyDrive/Thesis/DataSet/CWE-415/CWE415_Double_Free__new_delete_class_45.cpp\n",
            "0 ) /content/drive/MyDrive/Thesis/DataSet/CWE-415/CWE415_Double_Free__new_delete_class_64a.cpp\n",
            "0 ) /content/drive/MyDrive/Thesis/DataSet/CWE-415/CWE415_Double_Free__new_delete_class_62a.cpp\n",
            "0 ) /content/drive/MyDrive/Thesis/DataSet/CWE-415/CWE415_Double_Free__new_delete_class_54e.cpp\n",
            "0 ) /content/drive/MyDrive/Thesis/DataSet/CWE-415/CWE415_Double_Free__new_delete_class_22b.cpp\n",
            "0 ) /content/drive/MyDrive/Thesis/DataSet/CWE-415/CWE415_Double_Free__new_delete_class_64b.cpp\n",
            "0 ) /content/drive/MyDrive/Thesis/DataSet/CWE-415/CWE415_Double_Free__new_delete_class_61b.cpp\n",
            "0 ) /content/drive/MyDrive/Thesis/DataSet/CWE-415/CWE415_Double_Free__new_delete_class_65a.cpp\n",
            "0 ) /content/drive/MyDrive/Thesis/DataSet/CWE-415/CWE415_Double_Free__new_delete_class_51a.cpp\n",
            "0 ) /content/drive/MyDrive/Thesis/DataSet/CWE-415/CWE415_Double_Free__new_delete_class_63a.cpp\n",
            "0 ) /content/drive/MyDrive/Thesis/DataSet/CWE-415/CWE415_Double_Free__new_delete_class_43.cpp\n",
            "0 ) /content/drive/MyDrive/Thesis/DataSet/CWE-415/CWE415_Double_Free__new_delete_class_44.cpp\n",
            "0 ) /content/drive/MyDrive/Thesis/DataSet/CWE-415/CWE415_Double_Free__new_delete_class_53a.cpp\n",
            "0 ) /content/drive/MyDrive/Thesis/DataSet/CWE-415/CWE415_Double_Free__new_delete_class_62b.cpp\n",
            "0 ) /content/drive/MyDrive/Thesis/DataSet/CWE-415/CWE415_Double_Free__new_delete_class_63b.cpp\n",
            "0 ) /content/drive/MyDrive/Thesis/DataSet/CWE-415/CWE415_Double_Free__new_delete_class_54a.cpp\n",
            "0 ) /content/drive/MyDrive/Thesis/DataSet/CWE-415/CWE415_Double_Free__new_delete_class_42.cpp\n",
            "0 ) /content/drive/MyDrive/Thesis/DataSet/CWE-415/CWE415_Double_Free__new_delete_class_51b.cpp\n",
            "0 ) /content/drive/MyDrive/Thesis/DataSet/CWE-415/CWE415_Double_Free__new_delete_class_34.cpp\n",
            "0 ) /content/drive/MyDrive/Thesis/DataSet/CWE-415/CWE415_Double_Free__new_delete_class_66a.cpp\n",
            "0 ) /content/drive/MyDrive/Thesis/DataSet/CWE-415/CWE415_Double_Free__new_delete_class_54d.cpp\n",
            "0 ) /content/drive/MyDrive/Thesis/DataSet/CWE-415/CWE415_Double_Free__new_delete_class_61a.cpp\n",
            "0 ) /content/drive/MyDrive/Thesis/DataSet/CWE-415/CWE415_Double_Free__new_delete_class_53c.cpp\n",
            "0 ) /content/drive/MyDrive/Thesis/DataSet/CWE-415/CWE415_Double_Free__new_delete_class_22a.cpp\n",
            "0 ) /content/drive/MyDrive/Thesis/DataSet/CWE-415/CWE415_Double_Free__new_delete_class_32.cpp\n",
            "0 ) /content/drive/MyDrive/Thesis/DataSet/CWE-415/CWE415_Double_Free__new_delete_class_65b.cpp\n",
            "0 ) /content/drive/MyDrive/Thesis/DataSet/CWE-415/CWE415_Double_Free__new_delete_class_53d.cpp\n",
            "0 ) /content/drive/MyDrive/Thesis/DataSet/CWE-415/CWE415_Double_Free__new_delete_class_33.cpp\n",
            "*****Complete**********\n"
          ]
        }
      ]
    },
    {
      "cell_type": "code",
      "source": [
        "import numpy as np\n",
        "import pandas as pd"
      ],
      "metadata": {
        "id": "OtX_E9FuAqXU"
      },
      "execution_count": 3,
      "outputs": []
    },
    {
      "cell_type": "code",
      "source": [
        "df_vul = pd.DataFrame(featureTable)\n",
        "col_names =[\"programmingLanguage\", \"directory\",\"tokensForStorage\",\"TensorsArrays\", \"reshaped\", \"vulCode\"]\n",
        "df_vul.columns = col_names\n",
        "df_vul['cve'] = df_vul['directory'].str.split('/content/drive/MyDrive/Thesis/DataSet/CWE-', expand=True)[1]\n"
      ],
      "metadata": {
        "id": "B5X7w2DyvZz-"
      },
      "execution_count": 11,
      "outputs": []
    },
    {
      "cell_type": "code",
      "source": [
        "df_vul = df_vul.drop(columns=['directory'])\n"
      ],
      "metadata": {
        "id": "BRYnoj4sKzpv"
      },
      "execution_count": 12,
      "outputs": []
    },
    {
      "cell_type": "code",
      "source": [
        "df_vul['cve'] = df_vul['cve'].astype(int)\n"
      ],
      "metadata": {
        "id": "vXqkj0rkw19d"
      },
      "execution_count": 13,
      "outputs": []
    },
    {
      "cell_type": "code",
      "source": [
        "df_vul['cve'] = df_vul['cve'].to_list()"
      ],
      "metadata": {
        "id": "bmXnWVTjyNe7"
      },
      "execution_count": 14,
      "outputs": []
    },
    {
      "cell_type": "code",
      "source": [
        " df_vul['cve'] = np.asarray(df_vul['cve'])"
      ],
      "metadata": {
        "id": "ZUhyoTzwyX99"
      },
      "execution_count": 15,
      "outputs": []
    },
    {
      "cell_type": "code",
      "source": [
        "df_vul"
      ],
      "metadata": {
        "colab": {
          "base_uri": "https://localhost:8080/",
          "height": 1000
        },
        "id": "0YeL2ojzwh_T",
        "outputId": "32dc6758-f1b4-44e9-cabf-e98d51614645"
      },
      "execution_count": 16,
      "outputs": [
        {
          "output_type": "execute_result",
          "data": {
            "text/plain": [
              "   programmingLanguage                                   tokensForStorage  \\\n",
              "0                  C++  [#, if, nd, ef, OM, IT, GO, OD, #, include, \",...   \n",
              "1                  C++  [#, if, nd, ef, OM, IT, GO, OD, #, include, \",...   \n",
              "2                  C++  [#, if, nd, ef, OM, IT, GO, OD, #, include, \",...   \n",
              "3                  C++  [#, if, nd, ef, OM, IT, GO, OD, #, include, \",...   \n",
              "4                  C++  [#, if, nd, ef, OM, IT, B, AD, #, include, \", ...   \n",
              "5                  C++  [#, if, nd, ef, OM, IT, B, AD, #, include, \", ...   \n",
              "6                  C++  [#, if, nd, ef, OM, IT, GO, OD, #, include, \",...   \n",
              "7                  C++  [#, if, nd, ef, OM, IT, GO, OD, #, include, \",...   \n",
              "8                  C++  [#, if, nd, ef, OM, IT, B, AD, #, include, \", ...   \n",
              "9                  C++  [#, if, nd, ef, OM, IT, B, AD, #, include, \", ...   \n",
              "10                 C++  [#, if, nd, ef, OM, IT, B, AD, #, include, \", ...   \n",
              "11                 C++  [#, if, nd, ef, OM, IT, B, AD, #, include, \", ...   \n",
              "12                 C++  [#, if, nd, ef, OM, IT, B, AD, #, include, \", ...   \n",
              "13                 C++  [#, if, nd, ef, OM, IT, GO, OD, #, include, \",...   \n",
              "14                 C++  [#, if, nd, ef, OM, IT, GO, OD, #, include, \",...   \n",
              "15                 C++  [#, if, nd, ef, OM, IT, GO, OD, #, include, \",...   \n",
              "16                 C++  [#, if, nd, ef, OM, IT, GO, OD, #, include, \",...   \n",
              "17                 C++  [#, if, nd, ef, OM, IT, GO, OD, #, include, \",...   \n",
              "18                 C++  [#, if, nd, ef, OM, IT, GO, OD, #, include, \",...   \n",
              "19                 C++  [#, if, nd, ef, OM, IT, B, AD, #, include, \", ...   \n",
              "20                 C++  [#, if, nd, ef, OM, IT, B, AD, #, include, \", ...   \n",
              "21                 C++  [#, if, nd, ef, OM, IT, B, AD, #, include, \", ...   \n",
              "22                 C++  [#, if, nd, ef, OM, IT, B, AD, #, include, \", ...   \n",
              "23                 C++  [#, if, nd, ef, OM, IT, B, AD, #, include, \", ...   \n",
              "24                 C++  [#, if, nd, ef, OM, IT, GO, OD, #, include, \",...   \n",
              "25                 C++  [#, if, nd, ef, OM, IT, B, AD, #, include, \", ...   \n",
              "26                 C++  [#, if, nd, ef, OM, IT, GO, OD, #, include, \",...   \n",
              "27                 C++  [#, if, nd, ef, OM, IT, B, AD, #, include, \", ...   \n",
              "28                 C++  [#, if, nd, ef, OM, IT, GO, OD, #, include, \",...   \n",
              "29                 C++  [#, if, nd, ef, OM, IT, GO, OD, #, include, \",...   \n",
              "30                 C++  [#, if, nd, ef, OM, IT, GO, OD, #, include, \",...   \n",
              "31                 C++  [#, if, nd, ef, OM, IT, B, AD, #, include, \", ...   \n",
              "32                 C++  [#, if, nd, ef, OM, IT, B, AD, #, include, \", ...   \n",
              "33                 C++  [#, if, nd, ef, OM, IT, GO, OD, #, include, \",...   \n",
              "34                 C++  [#, if, nd, ef, OM, IT, GO, OD, #, include, \",...   \n",
              "35                 C++  [#, if, nd, ef, OM, IT, GO, OD, #, include, \",...   \n",
              "36                 C++  [#, if, nd, ef, OM, IT, B, AD, #, include, \", ...   \n",
              "37                 C++  [#, if, nd, ef, OM, IT, GO, OD, #, include, \",...   \n",
              "38                 C++  [#, if, nd, ef, OM, IT, B, AD, #, include, \", ...   \n",
              "39                 C++  [#, if, nd, ef, OM, IT, GO, OD, #, include, \",...   \n",
              "40                 C++  [#, if, nd, ef, OM, IT, B, AD, #, include, \", ...   \n",
              "41                 C++  [#, if, nd, ef, OM, IT, GO, OD, #, include, \",...   \n",
              "42                 C++  [#, if, nd, ef, OM, IT, GO, OD, #, include, \",...   \n",
              "43                 C++  [#, if, nd, ef, OM, IT, B, AD, #, include, \", ...   \n",
              "44                 C++  [#, if, nd, ef, OM, IT, B, AD, #, include, \", ...   \n",
              "45                 C++  [#, if, nd, ef, OM, IT, B, AD, #, include, \", ...   \n",
              "46                 C++  [#, include, \", std, _, test, case, ., h, \", #...   \n",
              "47                 C++  [#, include, \", std, _, test, case, ., h, \", #...   \n",
              "48                 C++  [#, include, \", std, _, test, case, ., h, \", #...   \n",
              "49                 C++  [#, include, \", std, _, test, case, ., h, \", #...   \n",
              "50                 C++  [#, include, \", std, _, test, case, ., h, \", #...   \n",
              "51                 C++  [#, include, \", std, _, test, case, ., h, \", #...   \n",
              "52                 C++  [#, include, \", std, _, test, case, ., h, \", #...   \n",
              "53                 C++  [#, include, \", std, _, test, case, ., h, \", #...   \n",
              "54                 C++  [#, include, \", std, _, test, case, ., h, \", #...   \n",
              "55                 C++  [#, include, \", std, _, test, case, ., h, \", #...   \n",
              "56                 C++  [#, include, \", std, _, test, case, ., h, \", #...   \n",
              "57                 C++  [#, include, \", std, _, test, case, ., h, \", #...   \n",
              "58                 C++  [#, include, \", std, _, test, case, ., h, \", #...   \n",
              "59                 C++  [#, include, \", std, _, test, case, ., h, \", #...   \n",
              "\n",
              "                                        TensorsArrays  reshaped vulCode  cve  \n",
              "0   [[-0.092076294, -0.004570827, -0.12751421, 0.2...  (32, 32)     [0]  762  \n",
              "1   [[-0.08689322, 0.015925698, -0.11392149, 0.231...  (32, 32)     [0]  762  \n",
              "2   [[-0.09013606, 0.005485289, -0.1367512, 0.2398...  (32, 32)     [0]  762  \n",
              "3   [[-0.09886316, -0.01898697, -0.11873086, 0.256...  (32, 32)     [0]  762  \n",
              "4   [[-0.07239028, 0.0044452026, -0.12762626, 0.24...  (32, 32)     [0]  762  \n",
              "5   [[-0.07992219, -0.03227803, -0.13118385, 0.255...  (32, 32)     [0]  762  \n",
              "6   [[-0.06167583, -0.014606506, -0.0807226, 0.368...  (32, 32)     [1]   78  \n",
              "7   [[-0.06635376, -0.007411815, -0.08527582, 0.36...  (32, 32)     [1]   78  \n",
              "8   [[-0.06637017, -0.00039388984, -0.08135007, 0....  (32, 32)     [1]   78  \n",
              "9   [[-0.071631126, 0.006057352, -0.0815859, 0.369...  (32, 32)     [1]   78  \n",
              "10  [[-0.08194322, -0.015632235, -0.09122094, 0.35...  (32, 32)     [1]   78  \n",
              "11  [[-0.0723551, -0.004985228, -0.07066669, 0.382...  (32, 32)     [1]   78  \n",
              "12  [[-0.062099718, -0.01595147, -0.069332205, 0.3...  (32, 32)     [1]   78  \n",
              "13  [[-0.07696689, 0.008649327, -0.08133147, 0.344...  (32, 32)     [1]   78  \n",
              "14  [[-0.113681205, 0.004541777, -0.10673331, 0.36...  (32, 32)     [1]   78  \n",
              "15  [[-0.066870965, 0.020629883, -0.08359968, 0.33...  (32, 32)     [1]   78  \n",
              "16  [[-0.059973143, -0.0015006736, -0.08692161, 0....  (32, 32)     [1]   78  \n",
              "17  [[-0.076197155, 0.024141684, -0.07872703, 0.33...  (32, 32)     [1]   78  \n",
              "18  [[-0.1113467, -0.008310899, -0.09868653, 0.367...  (32, 32)     [1]   78  \n",
              "19  [[-0.056441613, 0.002633527, -0.093557894, 0.3...  (32, 32)     [1]   78  \n",
              "20  [[-0.04923527, -0.0050793216, -0.08598286, 0.3...  (32, 32)     [1]   78  \n",
              "21  [[-0.07477897, -0.02906806, -0.09294647, 0.376...  (32, 32)     [1]   78  \n",
              "22  [[-0.06232377, 0.0076628253, -0.10196249, 0.36...  (32, 32)     [1]   78  \n",
              "23  [[-0.048421226, 0.01855886, -0.08012288, 0.322...  (32, 32)     [1]   78  \n",
              "24  [[-0.0792209, 0.01631631, -0.08344048, 0.34570...  (32, 32)     [1]   78  \n",
              "25  [[-0.07900604, -0.022904627, -0.08422882, 0.35...  (32, 32)     [1]   78  \n",
              "26  [[-0.07902231, -0.014069222, -0.0986675, 0.322...  (32, 32)     [1]   78  \n",
              "27  [[-0.062211685, 0.010128468, -0.08974352, 0.33...  (32, 32)     [1]   78  \n",
              "28  [[-0.047661982, -0.004019089, -0.08518973, 0.3...  (32, 32)     [1]   78  \n",
              "29  [[-0.0671723, 0.0025077239, -0.08624076, 0.368...  (32, 32)     [1]   78  \n",
              "30  [[-0.064058386, -0.04493898, -0.09009847, 0.34...  (32, 32)     [1]   78  \n",
              "31  [[-0.09322981, 0.00011827052, -0.088058725, 0....  (32, 32)     [1]   78  \n",
              "32  [[-0.09265361, 0.0056647584, -0.093903854, 0.3...  (32, 32)     [1]   78  \n",
              "33  [[-0.06874896, -0.0012479052, -0.088671386, 0....  (32, 32)     [1]   78  \n",
              "34  [[-0.093612425, 0.006422654, -0.096018806, 0.3...  (32, 32)     [1]   78  \n",
              "35  [[-0.0671723, 0.0025077239, -0.08624076, 0.368...  (32, 32)     [1]   78  \n",
              "36  [[-0.0723551, -0.004985228, -0.07066669, 0.382...  (32, 32)     [1]   78  \n",
              "37  [[-0.06874896, -0.0012479052, -0.088671386, 0....  (32, 32)     [1]   78  \n",
              "38  [[-0.071631126, 0.006057352, -0.0815859, 0.369...  (32, 32)     [1]   78  \n",
              "39  [[-0.06635376, -0.007411815, -0.08527582, 0.36...  (32, 32)     [1]   78  \n",
              "40  [[-0.06637017, -0.00039388984, -0.08135007, 0....  (32, 32)     [1]   78  \n",
              "41  [[-0.078079335, 0.027486153, -0.08104938, 0.35...  (32, 32)     [1]   78  \n",
              "42  [[-0.06167583, -0.014606506, -0.0807226, 0.368...  (32, 32)     [1]   78  \n",
              "43  [[-0.062099718, -0.01595147, -0.069332205, 0.3...  (32, 32)     [1]   78  \n",
              "44  [[-0.054187723, -0.0050674826, -0.08577905, 0....  (32, 32)     [1]   78  \n",
              "45  [[-0.044779085, 0.022082739, -0.08376454, 0.32...  (32, 32)     [1]   78  \n",
              "46  [[-0.14094436, -0.05096604, -0.14821784, 0.229...  (32, 32)     [5]  415  \n",
              "47  [[-0.14362124, -0.046980098, -0.14739054, 0.22...  (32, 32)     [5]  415  \n",
              "48  [[-0.17578876, -0.00526274, -0.13148877, 0.264...  (32, 32)     [5]  415  \n",
              "49  [[-0.18234408, -0.026594445, -0.116030484, 0.2...  (32, 32)     [5]  415  \n",
              "50  [[-0.1406003, -0.022233337, -0.14081535, 0.228...  (32, 32)     [5]  415  \n",
              "51  [[-0.13932282, -0.048548147, -0.14723128, 0.22...  (32, 32)     [5]  415  \n",
              "52  [[-0.13042521, 0.011447638, -0.13129908, 0.247...  (32, 32)     [5]  415  \n",
              "53  [[-0.13760442, -0.05105108, -0.14100355, 0.205...  (32, 32)     [5]  415  \n",
              "54  [[-0.12755021, 0.0039265975, -0.11647619, 0.23...  (32, 32)     [5]  415  \n",
              "55  [[-0.14165366, 0.0017908067, -0.10346189, 0.26...  (32, 32)     [5]  415  \n",
              "56  [[-0.14351195, -0.05696675, -0.14932671, 0.228...  (32, 32)     [5]  415  \n",
              "57  [[-0.14164579, -0.0447333, -0.14666963, 0.2214...  (32, 32)     [5]  415  \n",
              "58  [[-0.1471357, -0.020716742, -0.1258973, 0.2613...  (32, 32)     [5]  415  \n",
              "59  [[-0.13056701, 0.020941705, -0.12323336, 0.244...  (32, 32)     [5]  415  "
            ],
            "text/html": [
              "\n",
              "  <div id=\"df-315fbf12-df6d-4aa2-bc38-a09b2dad60b0\">\n",
              "    <div class=\"colab-df-container\">\n",
              "      <div>\n",
              "<style scoped>\n",
              "    .dataframe tbody tr th:only-of-type {\n",
              "        vertical-align: middle;\n",
              "    }\n",
              "\n",
              "    .dataframe tbody tr th {\n",
              "        vertical-align: top;\n",
              "    }\n",
              "\n",
              "    .dataframe thead th {\n",
              "        text-align: right;\n",
              "    }\n",
              "</style>\n",
              "<table border=\"1\" class=\"dataframe\">\n",
              "  <thead>\n",
              "    <tr style=\"text-align: right;\">\n",
              "      <th></th>\n",
              "      <th>programmingLanguage</th>\n",
              "      <th>tokensForStorage</th>\n",
              "      <th>TensorsArrays</th>\n",
              "      <th>reshaped</th>\n",
              "      <th>vulCode</th>\n",
              "      <th>cve</th>\n",
              "    </tr>\n",
              "  </thead>\n",
              "  <tbody>\n",
              "    <tr>\n",
              "      <th>0</th>\n",
              "      <td>C++</td>\n",
              "      <td>[#, if, nd, ef, OM, IT, GO, OD, #, include, \",...</td>\n",
              "      <td>[[-0.092076294, -0.004570827, -0.12751421, 0.2...</td>\n",
              "      <td>(32, 32)</td>\n",
              "      <td>[0]</td>\n",
              "      <td>762</td>\n",
              "    </tr>\n",
              "    <tr>\n",
              "      <th>1</th>\n",
              "      <td>C++</td>\n",
              "      <td>[#, if, nd, ef, OM, IT, GO, OD, #, include, \",...</td>\n",
              "      <td>[[-0.08689322, 0.015925698, -0.11392149, 0.231...</td>\n",
              "      <td>(32, 32)</td>\n",
              "      <td>[0]</td>\n",
              "      <td>762</td>\n",
              "    </tr>\n",
              "    <tr>\n",
              "      <th>2</th>\n",
              "      <td>C++</td>\n",
              "      <td>[#, if, nd, ef, OM, IT, GO, OD, #, include, \",...</td>\n",
              "      <td>[[-0.09013606, 0.005485289, -0.1367512, 0.2398...</td>\n",
              "      <td>(32, 32)</td>\n",
              "      <td>[0]</td>\n",
              "      <td>762</td>\n",
              "    </tr>\n",
              "    <tr>\n",
              "      <th>3</th>\n",
              "      <td>C++</td>\n",
              "      <td>[#, if, nd, ef, OM, IT, GO, OD, #, include, \",...</td>\n",
              "      <td>[[-0.09886316, -0.01898697, -0.11873086, 0.256...</td>\n",
              "      <td>(32, 32)</td>\n",
              "      <td>[0]</td>\n",
              "      <td>762</td>\n",
              "    </tr>\n",
              "    <tr>\n",
              "      <th>4</th>\n",
              "      <td>C++</td>\n",
              "      <td>[#, if, nd, ef, OM, IT, B, AD, #, include, \", ...</td>\n",
              "      <td>[[-0.07239028, 0.0044452026, -0.12762626, 0.24...</td>\n",
              "      <td>(32, 32)</td>\n",
              "      <td>[0]</td>\n",
              "      <td>762</td>\n",
              "    </tr>\n",
              "    <tr>\n",
              "      <th>5</th>\n",
              "      <td>C++</td>\n",
              "      <td>[#, if, nd, ef, OM, IT, B, AD, #, include, \", ...</td>\n",
              "      <td>[[-0.07992219, -0.03227803, -0.13118385, 0.255...</td>\n",
              "      <td>(32, 32)</td>\n",
              "      <td>[0]</td>\n",
              "      <td>762</td>\n",
              "    </tr>\n",
              "    <tr>\n",
              "      <th>6</th>\n",
              "      <td>C++</td>\n",
              "      <td>[#, if, nd, ef, OM, IT, GO, OD, #, include, \",...</td>\n",
              "      <td>[[-0.06167583, -0.014606506, -0.0807226, 0.368...</td>\n",
              "      <td>(32, 32)</td>\n",
              "      <td>[1]</td>\n",
              "      <td>78</td>\n",
              "    </tr>\n",
              "    <tr>\n",
              "      <th>7</th>\n",
              "      <td>C++</td>\n",
              "      <td>[#, if, nd, ef, OM, IT, GO, OD, #, include, \",...</td>\n",
              "      <td>[[-0.06635376, -0.007411815, -0.08527582, 0.36...</td>\n",
              "      <td>(32, 32)</td>\n",
              "      <td>[1]</td>\n",
              "      <td>78</td>\n",
              "    </tr>\n",
              "    <tr>\n",
              "      <th>8</th>\n",
              "      <td>C++</td>\n",
              "      <td>[#, if, nd, ef, OM, IT, B, AD, #, include, \", ...</td>\n",
              "      <td>[[-0.06637017, -0.00039388984, -0.08135007, 0....</td>\n",
              "      <td>(32, 32)</td>\n",
              "      <td>[1]</td>\n",
              "      <td>78</td>\n",
              "    </tr>\n",
              "    <tr>\n",
              "      <th>9</th>\n",
              "      <td>C++</td>\n",
              "      <td>[#, if, nd, ef, OM, IT, B, AD, #, include, \", ...</td>\n",
              "      <td>[[-0.071631126, 0.006057352, -0.0815859, 0.369...</td>\n",
              "      <td>(32, 32)</td>\n",
              "      <td>[1]</td>\n",
              "      <td>78</td>\n",
              "    </tr>\n",
              "    <tr>\n",
              "      <th>10</th>\n",
              "      <td>C++</td>\n",
              "      <td>[#, if, nd, ef, OM, IT, B, AD, #, include, \", ...</td>\n",
              "      <td>[[-0.08194322, -0.015632235, -0.09122094, 0.35...</td>\n",
              "      <td>(32, 32)</td>\n",
              "      <td>[1]</td>\n",
              "      <td>78</td>\n",
              "    </tr>\n",
              "    <tr>\n",
              "      <th>11</th>\n",
              "      <td>C++</td>\n",
              "      <td>[#, if, nd, ef, OM, IT, B, AD, #, include, \", ...</td>\n",
              "      <td>[[-0.0723551, -0.004985228, -0.07066669, 0.382...</td>\n",
              "      <td>(32, 32)</td>\n",
              "      <td>[1]</td>\n",
              "      <td>78</td>\n",
              "    </tr>\n",
              "    <tr>\n",
              "      <th>12</th>\n",
              "      <td>C++</td>\n",
              "      <td>[#, if, nd, ef, OM, IT, B, AD, #, include, \", ...</td>\n",
              "      <td>[[-0.062099718, -0.01595147, -0.069332205, 0.3...</td>\n",
              "      <td>(32, 32)</td>\n",
              "      <td>[1]</td>\n",
              "      <td>78</td>\n",
              "    </tr>\n",
              "    <tr>\n",
              "      <th>13</th>\n",
              "      <td>C++</td>\n",
              "      <td>[#, if, nd, ef, OM, IT, GO, OD, #, include, \",...</td>\n",
              "      <td>[[-0.07696689, 0.008649327, -0.08133147, 0.344...</td>\n",
              "      <td>(32, 32)</td>\n",
              "      <td>[1]</td>\n",
              "      <td>78</td>\n",
              "    </tr>\n",
              "    <tr>\n",
              "      <th>14</th>\n",
              "      <td>C++</td>\n",
              "      <td>[#, if, nd, ef, OM, IT, GO, OD, #, include, \",...</td>\n",
              "      <td>[[-0.113681205, 0.004541777, -0.10673331, 0.36...</td>\n",
              "      <td>(32, 32)</td>\n",
              "      <td>[1]</td>\n",
              "      <td>78</td>\n",
              "    </tr>\n",
              "    <tr>\n",
              "      <th>15</th>\n",
              "      <td>C++</td>\n",
              "      <td>[#, if, nd, ef, OM, IT, GO, OD, #, include, \",...</td>\n",
              "      <td>[[-0.066870965, 0.020629883, -0.08359968, 0.33...</td>\n",
              "      <td>(32, 32)</td>\n",
              "      <td>[1]</td>\n",
              "      <td>78</td>\n",
              "    </tr>\n",
              "    <tr>\n",
              "      <th>16</th>\n",
              "      <td>C++</td>\n",
              "      <td>[#, if, nd, ef, OM, IT, GO, OD, #, include, \",...</td>\n",
              "      <td>[[-0.059973143, -0.0015006736, -0.08692161, 0....</td>\n",
              "      <td>(32, 32)</td>\n",
              "      <td>[1]</td>\n",
              "      <td>78</td>\n",
              "    </tr>\n",
              "    <tr>\n",
              "      <th>17</th>\n",
              "      <td>C++</td>\n",
              "      <td>[#, if, nd, ef, OM, IT, GO, OD, #, include, \",...</td>\n",
              "      <td>[[-0.076197155, 0.024141684, -0.07872703, 0.33...</td>\n",
              "      <td>(32, 32)</td>\n",
              "      <td>[1]</td>\n",
              "      <td>78</td>\n",
              "    </tr>\n",
              "    <tr>\n",
              "      <th>18</th>\n",
              "      <td>C++</td>\n",
              "      <td>[#, if, nd, ef, OM, IT, GO, OD, #, include, \",...</td>\n",
              "      <td>[[-0.1113467, -0.008310899, -0.09868653, 0.367...</td>\n",
              "      <td>(32, 32)</td>\n",
              "      <td>[1]</td>\n",
              "      <td>78</td>\n",
              "    </tr>\n",
              "    <tr>\n",
              "      <th>19</th>\n",
              "      <td>C++</td>\n",
              "      <td>[#, if, nd, ef, OM, IT, B, AD, #, include, \", ...</td>\n",
              "      <td>[[-0.056441613, 0.002633527, -0.093557894, 0.3...</td>\n",
              "      <td>(32, 32)</td>\n",
              "      <td>[1]</td>\n",
              "      <td>78</td>\n",
              "    </tr>\n",
              "    <tr>\n",
              "      <th>20</th>\n",
              "      <td>C++</td>\n",
              "      <td>[#, if, nd, ef, OM, IT, B, AD, #, include, \", ...</td>\n",
              "      <td>[[-0.04923527, -0.0050793216, -0.08598286, 0.3...</td>\n",
              "      <td>(32, 32)</td>\n",
              "      <td>[1]</td>\n",
              "      <td>78</td>\n",
              "    </tr>\n",
              "    <tr>\n",
              "      <th>21</th>\n",
              "      <td>C++</td>\n",
              "      <td>[#, if, nd, ef, OM, IT, B, AD, #, include, \", ...</td>\n",
              "      <td>[[-0.07477897, -0.02906806, -0.09294647, 0.376...</td>\n",
              "      <td>(32, 32)</td>\n",
              "      <td>[1]</td>\n",
              "      <td>78</td>\n",
              "    </tr>\n",
              "    <tr>\n",
              "      <th>22</th>\n",
              "      <td>C++</td>\n",
              "      <td>[#, if, nd, ef, OM, IT, B, AD, #, include, \", ...</td>\n",
              "      <td>[[-0.06232377, 0.0076628253, -0.10196249, 0.36...</td>\n",
              "      <td>(32, 32)</td>\n",
              "      <td>[1]</td>\n",
              "      <td>78</td>\n",
              "    </tr>\n",
              "    <tr>\n",
              "      <th>23</th>\n",
              "      <td>C++</td>\n",
              "      <td>[#, if, nd, ef, OM, IT, B, AD, #, include, \", ...</td>\n",
              "      <td>[[-0.048421226, 0.01855886, -0.08012288, 0.322...</td>\n",
              "      <td>(32, 32)</td>\n",
              "      <td>[1]</td>\n",
              "      <td>78</td>\n",
              "    </tr>\n",
              "    <tr>\n",
              "      <th>24</th>\n",
              "      <td>C++</td>\n",
              "      <td>[#, if, nd, ef, OM, IT, GO, OD, #, include, \",...</td>\n",
              "      <td>[[-0.0792209, 0.01631631, -0.08344048, 0.34570...</td>\n",
              "      <td>(32, 32)</td>\n",
              "      <td>[1]</td>\n",
              "      <td>78</td>\n",
              "    </tr>\n",
              "    <tr>\n",
              "      <th>25</th>\n",
              "      <td>C++</td>\n",
              "      <td>[#, if, nd, ef, OM, IT, B, AD, #, include, \", ...</td>\n",
              "      <td>[[-0.07900604, -0.022904627, -0.08422882, 0.35...</td>\n",
              "      <td>(32, 32)</td>\n",
              "      <td>[1]</td>\n",
              "      <td>78</td>\n",
              "    </tr>\n",
              "    <tr>\n",
              "      <th>26</th>\n",
              "      <td>C++</td>\n",
              "      <td>[#, if, nd, ef, OM, IT, GO, OD, #, include, \",...</td>\n",
              "      <td>[[-0.07902231, -0.014069222, -0.0986675, 0.322...</td>\n",
              "      <td>(32, 32)</td>\n",
              "      <td>[1]</td>\n",
              "      <td>78</td>\n",
              "    </tr>\n",
              "    <tr>\n",
              "      <th>27</th>\n",
              "      <td>C++</td>\n",
              "      <td>[#, if, nd, ef, OM, IT, B, AD, #, include, \", ...</td>\n",
              "      <td>[[-0.062211685, 0.010128468, -0.08974352, 0.33...</td>\n",
              "      <td>(32, 32)</td>\n",
              "      <td>[1]</td>\n",
              "      <td>78</td>\n",
              "    </tr>\n",
              "    <tr>\n",
              "      <th>28</th>\n",
              "      <td>C++</td>\n",
              "      <td>[#, if, nd, ef, OM, IT, GO, OD, #, include, \",...</td>\n",
              "      <td>[[-0.047661982, -0.004019089, -0.08518973, 0.3...</td>\n",
              "      <td>(32, 32)</td>\n",
              "      <td>[1]</td>\n",
              "      <td>78</td>\n",
              "    </tr>\n",
              "    <tr>\n",
              "      <th>29</th>\n",
              "      <td>C++</td>\n",
              "      <td>[#, if, nd, ef, OM, IT, GO, OD, #, include, \",...</td>\n",
              "      <td>[[-0.0671723, 0.0025077239, -0.08624076, 0.368...</td>\n",
              "      <td>(32, 32)</td>\n",
              "      <td>[1]</td>\n",
              "      <td>78</td>\n",
              "    </tr>\n",
              "    <tr>\n",
              "      <th>30</th>\n",
              "      <td>C++</td>\n",
              "      <td>[#, if, nd, ef, OM, IT, GO, OD, #, include, \",...</td>\n",
              "      <td>[[-0.064058386, -0.04493898, -0.09009847, 0.34...</td>\n",
              "      <td>(32, 32)</td>\n",
              "      <td>[1]</td>\n",
              "      <td>78</td>\n",
              "    </tr>\n",
              "    <tr>\n",
              "      <th>31</th>\n",
              "      <td>C++</td>\n",
              "      <td>[#, if, nd, ef, OM, IT, B, AD, #, include, \", ...</td>\n",
              "      <td>[[-0.09322981, 0.00011827052, -0.088058725, 0....</td>\n",
              "      <td>(32, 32)</td>\n",
              "      <td>[1]</td>\n",
              "      <td>78</td>\n",
              "    </tr>\n",
              "    <tr>\n",
              "      <th>32</th>\n",
              "      <td>C++</td>\n",
              "      <td>[#, if, nd, ef, OM, IT, B, AD, #, include, \", ...</td>\n",
              "      <td>[[-0.09265361, 0.0056647584, -0.093903854, 0.3...</td>\n",
              "      <td>(32, 32)</td>\n",
              "      <td>[1]</td>\n",
              "      <td>78</td>\n",
              "    </tr>\n",
              "    <tr>\n",
              "      <th>33</th>\n",
              "      <td>C++</td>\n",
              "      <td>[#, if, nd, ef, OM, IT, GO, OD, #, include, \",...</td>\n",
              "      <td>[[-0.06874896, -0.0012479052, -0.088671386, 0....</td>\n",
              "      <td>(32, 32)</td>\n",
              "      <td>[1]</td>\n",
              "      <td>78</td>\n",
              "    </tr>\n",
              "    <tr>\n",
              "      <th>34</th>\n",
              "      <td>C++</td>\n",
              "      <td>[#, if, nd, ef, OM, IT, GO, OD, #, include, \",...</td>\n",
              "      <td>[[-0.093612425, 0.006422654, -0.096018806, 0.3...</td>\n",
              "      <td>(32, 32)</td>\n",
              "      <td>[1]</td>\n",
              "      <td>78</td>\n",
              "    </tr>\n",
              "    <tr>\n",
              "      <th>35</th>\n",
              "      <td>C++</td>\n",
              "      <td>[#, if, nd, ef, OM, IT, GO, OD, #, include, \",...</td>\n",
              "      <td>[[-0.0671723, 0.0025077239, -0.08624076, 0.368...</td>\n",
              "      <td>(32, 32)</td>\n",
              "      <td>[1]</td>\n",
              "      <td>78</td>\n",
              "    </tr>\n",
              "    <tr>\n",
              "      <th>36</th>\n",
              "      <td>C++</td>\n",
              "      <td>[#, if, nd, ef, OM, IT, B, AD, #, include, \", ...</td>\n",
              "      <td>[[-0.0723551, -0.004985228, -0.07066669, 0.382...</td>\n",
              "      <td>(32, 32)</td>\n",
              "      <td>[1]</td>\n",
              "      <td>78</td>\n",
              "    </tr>\n",
              "    <tr>\n",
              "      <th>37</th>\n",
              "      <td>C++</td>\n",
              "      <td>[#, if, nd, ef, OM, IT, GO, OD, #, include, \",...</td>\n",
              "      <td>[[-0.06874896, -0.0012479052, -0.088671386, 0....</td>\n",
              "      <td>(32, 32)</td>\n",
              "      <td>[1]</td>\n",
              "      <td>78</td>\n",
              "    </tr>\n",
              "    <tr>\n",
              "      <th>38</th>\n",
              "      <td>C++</td>\n",
              "      <td>[#, if, nd, ef, OM, IT, B, AD, #, include, \", ...</td>\n",
              "      <td>[[-0.071631126, 0.006057352, -0.0815859, 0.369...</td>\n",
              "      <td>(32, 32)</td>\n",
              "      <td>[1]</td>\n",
              "      <td>78</td>\n",
              "    </tr>\n",
              "    <tr>\n",
              "      <th>39</th>\n",
              "      <td>C++</td>\n",
              "      <td>[#, if, nd, ef, OM, IT, GO, OD, #, include, \",...</td>\n",
              "      <td>[[-0.06635376, -0.007411815, -0.08527582, 0.36...</td>\n",
              "      <td>(32, 32)</td>\n",
              "      <td>[1]</td>\n",
              "      <td>78</td>\n",
              "    </tr>\n",
              "    <tr>\n",
              "      <th>40</th>\n",
              "      <td>C++</td>\n",
              "      <td>[#, if, nd, ef, OM, IT, B, AD, #, include, \", ...</td>\n",
              "      <td>[[-0.06637017, -0.00039388984, -0.08135007, 0....</td>\n",
              "      <td>(32, 32)</td>\n",
              "      <td>[1]</td>\n",
              "      <td>78</td>\n",
              "    </tr>\n",
              "    <tr>\n",
              "      <th>41</th>\n",
              "      <td>C++</td>\n",
              "      <td>[#, if, nd, ef, OM, IT, GO, OD, #, include, \",...</td>\n",
              "      <td>[[-0.078079335, 0.027486153, -0.08104938, 0.35...</td>\n",
              "      <td>(32, 32)</td>\n",
              "      <td>[1]</td>\n",
              "      <td>78</td>\n",
              "    </tr>\n",
              "    <tr>\n",
              "      <th>42</th>\n",
              "      <td>C++</td>\n",
              "      <td>[#, if, nd, ef, OM, IT, GO, OD, #, include, \",...</td>\n",
              "      <td>[[-0.06167583, -0.014606506, -0.0807226, 0.368...</td>\n",
              "      <td>(32, 32)</td>\n",
              "      <td>[1]</td>\n",
              "      <td>78</td>\n",
              "    </tr>\n",
              "    <tr>\n",
              "      <th>43</th>\n",
              "      <td>C++</td>\n",
              "      <td>[#, if, nd, ef, OM, IT, B, AD, #, include, \", ...</td>\n",
              "      <td>[[-0.062099718, -0.01595147, -0.069332205, 0.3...</td>\n",
              "      <td>(32, 32)</td>\n",
              "      <td>[1]</td>\n",
              "      <td>78</td>\n",
              "    </tr>\n",
              "    <tr>\n",
              "      <th>44</th>\n",
              "      <td>C++</td>\n",
              "      <td>[#, if, nd, ef, OM, IT, B, AD, #, include, \", ...</td>\n",
              "      <td>[[-0.054187723, -0.0050674826, -0.08577905, 0....</td>\n",
              "      <td>(32, 32)</td>\n",
              "      <td>[1]</td>\n",
              "      <td>78</td>\n",
              "    </tr>\n",
              "    <tr>\n",
              "      <th>45</th>\n",
              "      <td>C++</td>\n",
              "      <td>[#, if, nd, ef, OM, IT, B, AD, #, include, \", ...</td>\n",
              "      <td>[[-0.044779085, 0.022082739, -0.08376454, 0.32...</td>\n",
              "      <td>(32, 32)</td>\n",
              "      <td>[1]</td>\n",
              "      <td>78</td>\n",
              "    </tr>\n",
              "    <tr>\n",
              "      <th>46</th>\n",
              "      <td>C++</td>\n",
              "      <td>[#, include, \", std, _, test, case, ., h, \", #...</td>\n",
              "      <td>[[-0.14094436, -0.05096604, -0.14821784, 0.229...</td>\n",
              "      <td>(32, 32)</td>\n",
              "      <td>[5]</td>\n",
              "      <td>415</td>\n",
              "    </tr>\n",
              "    <tr>\n",
              "      <th>47</th>\n",
              "      <td>C++</td>\n",
              "      <td>[#, include, \", std, _, test, case, ., h, \", #...</td>\n",
              "      <td>[[-0.14362124, -0.046980098, -0.14739054, 0.22...</td>\n",
              "      <td>(32, 32)</td>\n",
              "      <td>[5]</td>\n",
              "      <td>415</td>\n",
              "    </tr>\n",
              "    <tr>\n",
              "      <th>48</th>\n",
              "      <td>C++</td>\n",
              "      <td>[#, include, \", std, _, test, case, ., h, \", #...</td>\n",
              "      <td>[[-0.17578876, -0.00526274, -0.13148877, 0.264...</td>\n",
              "      <td>(32, 32)</td>\n",
              "      <td>[5]</td>\n",
              "      <td>415</td>\n",
              "    </tr>\n",
              "    <tr>\n",
              "      <th>49</th>\n",
              "      <td>C++</td>\n",
              "      <td>[#, include, \", std, _, test, case, ., h, \", #...</td>\n",
              "      <td>[[-0.18234408, -0.026594445, -0.116030484, 0.2...</td>\n",
              "      <td>(32, 32)</td>\n",
              "      <td>[5]</td>\n",
              "      <td>415</td>\n",
              "    </tr>\n",
              "    <tr>\n",
              "      <th>50</th>\n",
              "      <td>C++</td>\n",
              "      <td>[#, include, \", std, _, test, case, ., h, \", #...</td>\n",
              "      <td>[[-0.1406003, -0.022233337, -0.14081535, 0.228...</td>\n",
              "      <td>(32, 32)</td>\n",
              "      <td>[5]</td>\n",
              "      <td>415</td>\n",
              "    </tr>\n",
              "    <tr>\n",
              "      <th>51</th>\n",
              "      <td>C++</td>\n",
              "      <td>[#, include, \", std, _, test, case, ., h, \", #...</td>\n",
              "      <td>[[-0.13932282, -0.048548147, -0.14723128, 0.22...</td>\n",
              "      <td>(32, 32)</td>\n",
              "      <td>[5]</td>\n",
              "      <td>415</td>\n",
              "    </tr>\n",
              "    <tr>\n",
              "      <th>52</th>\n",
              "      <td>C++</td>\n",
              "      <td>[#, include, \", std, _, test, case, ., h, \", #...</td>\n",
              "      <td>[[-0.13042521, 0.011447638, -0.13129908, 0.247...</td>\n",
              "      <td>(32, 32)</td>\n",
              "      <td>[5]</td>\n",
              "      <td>415</td>\n",
              "    </tr>\n",
              "    <tr>\n",
              "      <th>53</th>\n",
              "      <td>C++</td>\n",
              "      <td>[#, include, \", std, _, test, case, ., h, \", #...</td>\n",
              "      <td>[[-0.13760442, -0.05105108, -0.14100355, 0.205...</td>\n",
              "      <td>(32, 32)</td>\n",
              "      <td>[5]</td>\n",
              "      <td>415</td>\n",
              "    </tr>\n",
              "    <tr>\n",
              "      <th>54</th>\n",
              "      <td>C++</td>\n",
              "      <td>[#, include, \", std, _, test, case, ., h, \", #...</td>\n",
              "      <td>[[-0.12755021, 0.0039265975, -0.11647619, 0.23...</td>\n",
              "      <td>(32, 32)</td>\n",
              "      <td>[5]</td>\n",
              "      <td>415</td>\n",
              "    </tr>\n",
              "    <tr>\n",
              "      <th>55</th>\n",
              "      <td>C++</td>\n",
              "      <td>[#, include, \", std, _, test, case, ., h, \", #...</td>\n",
              "      <td>[[-0.14165366, 0.0017908067, -0.10346189, 0.26...</td>\n",
              "      <td>(32, 32)</td>\n",
              "      <td>[5]</td>\n",
              "      <td>415</td>\n",
              "    </tr>\n",
              "    <tr>\n",
              "      <th>56</th>\n",
              "      <td>C++</td>\n",
              "      <td>[#, include, \", std, _, test, case, ., h, \", #...</td>\n",
              "      <td>[[-0.14351195, -0.05696675, -0.14932671, 0.228...</td>\n",
              "      <td>(32, 32)</td>\n",
              "      <td>[5]</td>\n",
              "      <td>415</td>\n",
              "    </tr>\n",
              "    <tr>\n",
              "      <th>57</th>\n",
              "      <td>C++</td>\n",
              "      <td>[#, include, \", std, _, test, case, ., h, \", #...</td>\n",
              "      <td>[[-0.14164579, -0.0447333, -0.14666963, 0.2214...</td>\n",
              "      <td>(32, 32)</td>\n",
              "      <td>[5]</td>\n",
              "      <td>415</td>\n",
              "    </tr>\n",
              "    <tr>\n",
              "      <th>58</th>\n",
              "      <td>C++</td>\n",
              "      <td>[#, include, \", std, _, test, case, ., h, \", #...</td>\n",
              "      <td>[[-0.1471357, -0.020716742, -0.1258973, 0.2613...</td>\n",
              "      <td>(32, 32)</td>\n",
              "      <td>[5]</td>\n",
              "      <td>415</td>\n",
              "    </tr>\n",
              "    <tr>\n",
              "      <th>59</th>\n",
              "      <td>C++</td>\n",
              "      <td>[#, include, \", std, _, test, case, ., h, \", #...</td>\n",
              "      <td>[[-0.13056701, 0.020941705, -0.12323336, 0.244...</td>\n",
              "      <td>(32, 32)</td>\n",
              "      <td>[5]</td>\n",
              "      <td>415</td>\n",
              "    </tr>\n",
              "  </tbody>\n",
              "</table>\n",
              "</div>\n",
              "      <button class=\"colab-df-convert\" onclick=\"convertToInteractive('df-315fbf12-df6d-4aa2-bc38-a09b2dad60b0')\"\n",
              "              title=\"Convert this dataframe to an interactive table.\"\n",
              "              style=\"display:none;\">\n",
              "        \n",
              "  <svg xmlns=\"http://www.w3.org/2000/svg\" height=\"24px\"viewBox=\"0 0 24 24\"\n",
              "       width=\"24px\">\n",
              "    <path d=\"M0 0h24v24H0V0z\" fill=\"none\"/>\n",
              "    <path d=\"M18.56 5.44l.94 2.06.94-2.06 2.06-.94-2.06-.94-.94-2.06-.94 2.06-2.06.94zm-11 1L8.5 8.5l.94-2.06 2.06-.94-2.06-.94L8.5 2.5l-.94 2.06-2.06.94zm10 10l.94 2.06.94-2.06 2.06-.94-2.06-.94-.94-2.06-.94 2.06-2.06.94z\"/><path d=\"M17.41 7.96l-1.37-1.37c-.4-.4-.92-.59-1.43-.59-.52 0-1.04.2-1.43.59L10.3 9.45l-7.72 7.72c-.78.78-.78 2.05 0 2.83L4 21.41c.39.39.9.59 1.41.59.51 0 1.02-.2 1.41-.59l7.78-7.78 2.81-2.81c.8-.78.8-2.07 0-2.86zM5.41 20L4 18.59l7.72-7.72 1.47 1.35L5.41 20z\"/>\n",
              "  </svg>\n",
              "      </button>\n",
              "      \n",
              "  <style>\n",
              "    .colab-df-container {\n",
              "      display:flex;\n",
              "      flex-wrap:wrap;\n",
              "      gap: 12px;\n",
              "    }\n",
              "\n",
              "    .colab-df-convert {\n",
              "      background-color: #E8F0FE;\n",
              "      border: none;\n",
              "      border-radius: 50%;\n",
              "      cursor: pointer;\n",
              "      display: none;\n",
              "      fill: #1967D2;\n",
              "      height: 32px;\n",
              "      padding: 0 0 0 0;\n",
              "      width: 32px;\n",
              "    }\n",
              "\n",
              "    .colab-df-convert:hover {\n",
              "      background-color: #E2EBFA;\n",
              "      box-shadow: 0px 1px 2px rgba(60, 64, 67, 0.3), 0px 1px 3px 1px rgba(60, 64, 67, 0.15);\n",
              "      fill: #174EA6;\n",
              "    }\n",
              "\n",
              "    [theme=dark] .colab-df-convert {\n",
              "      background-color: #3B4455;\n",
              "      fill: #D2E3FC;\n",
              "    }\n",
              "\n",
              "    [theme=dark] .colab-df-convert:hover {\n",
              "      background-color: #434B5C;\n",
              "      box-shadow: 0px 1px 3px 1px rgba(0, 0, 0, 0.15);\n",
              "      filter: drop-shadow(0px 1px 2px rgba(0, 0, 0, 0.3));\n",
              "      fill: #FFFFFF;\n",
              "    }\n",
              "  </style>\n",
              "\n",
              "      <script>\n",
              "        const buttonEl =\n",
              "          document.querySelector('#df-315fbf12-df6d-4aa2-bc38-a09b2dad60b0 button.colab-df-convert');\n",
              "        buttonEl.style.display =\n",
              "          google.colab.kernel.accessAllowed ? 'block' : 'none';\n",
              "\n",
              "        async function convertToInteractive(key) {\n",
              "          const element = document.querySelector('#df-315fbf12-df6d-4aa2-bc38-a09b2dad60b0');\n",
              "          const dataTable =\n",
              "            await google.colab.kernel.invokeFunction('convertToInteractive',\n",
              "                                                     [key], {});\n",
              "          if (!dataTable) return;\n",
              "\n",
              "          const docLinkHtml = 'Like what you see? Visit the ' +\n",
              "            '<a target=\"_blank\" href=https://colab.research.google.com/notebooks/data_table.ipynb>data table notebook</a>'\n",
              "            + ' to learn more about interactive tables.';\n",
              "          element.innerHTML = '';\n",
              "          dataTable['output_type'] = 'display_data';\n",
              "          await google.colab.output.renderOutput(dataTable, element);\n",
              "          const docLink = document.createElement('div');\n",
              "          docLink.innerHTML = docLinkHtml;\n",
              "          element.appendChild(docLink);\n",
              "        }\n",
              "      </script>\n",
              "    </div>\n",
              "  </div>\n",
              "  "
            ]
          },
          "metadata": {},
          "execution_count": 16
        }
      ]
    },
    {
      "cell_type": "code",
      "source": [
        "data = df_vul.TensorsArrays.to_list()\n",
        "final = []\n",
        "for l in data:\n",
        "  final.append(l)"
      ],
      "metadata": {
        "id": "d63nGprXLFsI"
      },
      "execution_count": 17,
      "outputs": []
    },
    {
      "cell_type": "code",
      "source": [
        "import numpy as np\n",
        "arr1 = np.asarray(final)\n"
      ],
      "metadata": {
        "id": "G_sIKfWvr1ET"
      },
      "execution_count": 18,
      "outputs": []
    },
    {
      "cell_type": "code",
      "source": [
        "arr2 = arr1.reshape(60, 32, 32,1)"
      ],
      "metadata": {
        "id": "invhRXzUtbdc"
      },
      "execution_count": 20,
      "outputs": []
    },
    {
      "cell_type": "code",
      "source": [
        "labels = df_vul.cve.to_list()\n",
        "Labels = []\n",
        "for l in labels:\n",
        "  L =[l]\n",
        "  Labels.append(L)"
      ],
      "metadata": {
        "id": "xZWl0uimy7pb"
      },
      "execution_count": 21,
      "outputs": []
    },
    {
      "cell_type": "code",
      "source": [
        "labels1 = np.asarray(Labels)\n",
        "labels1.shape"
      ],
      "metadata": {
        "colab": {
          "base_uri": "https://localhost:8080/"
        },
        "id": "A41HdaKTzRkW",
        "outputId": "1fd4784e-fe1b-4e44-80d7-f60758bb3f03"
      },
      "execution_count": 22,
      "outputs": [
        {
          "output_type": "execute_result",
          "data": {
            "text/plain": [
              "(60, 1)"
            ]
          },
          "metadata": {},
          "execution_count": 22
        }
      ]
    },
    {
      "cell_type": "code",
      "source": [
        "Target = df_vul.vulCode.to_list()\n",
        "target = []\n",
        "for t in Target:\n",
        "  T =[t]\n",
        "  target.append(T)\n",
        "tgt = np.asarray(target)\n",
        "tgt.shape\n",
        "tgt.reshape(60,1)"
      ],
      "metadata": {
        "colab": {
          "base_uri": "https://localhost:8080/"
        },
        "id": "evRwf0h58eI7",
        "outputId": "03d5787e-2036-40f7-90c4-a15f4eac1317"
      },
      "execution_count": 23,
      "outputs": [
        {
          "output_type": "execute_result",
          "data": {
            "text/plain": [
              "array([[0],\n",
              "       [0],\n",
              "       [0],\n",
              "       [0],\n",
              "       [0],\n",
              "       [0],\n",
              "       [1],\n",
              "       [1],\n",
              "       [1],\n",
              "       [1],\n",
              "       [1],\n",
              "       [1],\n",
              "       [1],\n",
              "       [1],\n",
              "       [1],\n",
              "       [1],\n",
              "       [1],\n",
              "       [1],\n",
              "       [1],\n",
              "       [1],\n",
              "       [1],\n",
              "       [1],\n",
              "       [1],\n",
              "       [1],\n",
              "       [1],\n",
              "       [1],\n",
              "       [1],\n",
              "       [1],\n",
              "       [1],\n",
              "       [1],\n",
              "       [1],\n",
              "       [1],\n",
              "       [1],\n",
              "       [1],\n",
              "       [1],\n",
              "       [1],\n",
              "       [1],\n",
              "       [1],\n",
              "       [1],\n",
              "       [1],\n",
              "       [1],\n",
              "       [1],\n",
              "       [1],\n",
              "       [1],\n",
              "       [1],\n",
              "       [1],\n",
              "       [5],\n",
              "       [5],\n",
              "       [5],\n",
              "       [5],\n",
              "       [5],\n",
              "       [5],\n",
              "       [5],\n",
              "       [5],\n",
              "       [5],\n",
              "       [5],\n",
              "       [5],\n",
              "       [5],\n",
              "       [5],\n",
              "       [5]])"
            ]
          },
          "metadata": {},
          "execution_count": 23
        }
      ]
    },
    {
      "cell_type": "code",
      "source": [
        "output = open(\"/content/drive/MyDrive/Thesis/output.txt\", 'a')\n",
        "output.write(str(featureTable))\n",
        "df_vul.to_csv('/content/drive/MyDrive/Thesis/CSV-Repo/out.csv')\n",
        "df_vul.to_excel('/content/drive/MyDrive/Thesis/CSV-Repo/out.xlsx')"
      ],
      "metadata": {
        "id": "tZkN0WB9BY5I"
      },
      "execution_count": 24,
      "outputs": []
    },
    {
      "cell_type": "code",
      "source": [
        "X = arr2\n",
        "y = tgt"
      ],
      "metadata": {
        "id": "3HEWfO8j0JE8"
      },
      "execution_count": 25,
      "outputs": []
    },
    {
      "cell_type": "markdown",
      "source": [
        "#Convolutional Neural Network"
      ],
      "metadata": {
        "id": "s6KGJby7GQu4"
      }
    },
    {
      "cell_type": "code",
      "source": [
        "import tensorflow as tf\n",
        "from tensorflow.keras import datasets, layers, models\n",
        "import matplotlib.pyplot as plt"
      ],
      "metadata": {
        "id": "Pz0HZ7Y50ivA"
      },
      "execution_count": 45,
      "outputs": []
    },
    {
      "cell_type": "code",
      "source": [
        "model = models.Sequential()\n",
        "model.add(layers.Conv2D(32, (1, 1), activation='relu', input_shape=(32, 32, 1)))\n",
        "model.add(layers.MaxPooling2D((2, 2)))\n",
        "model.add(layers.Conv2D(64, (1, 1), activation='relu'))\n",
        "model.add(layers.MaxPooling2D((2, 2)))\n",
        "model.add(layers.Conv2D(64, (1, 1), activation='relu'))"
      ],
      "metadata": {
        "id": "L1Zd0ua10bqC"
      },
      "execution_count": 46,
      "outputs": []
    },
    {
      "cell_type": "code",
      "source": [
        "model.summary()"
      ],
      "metadata": {
        "colab": {
          "base_uri": "https://localhost:8080/"
        },
        "id": "W3WfOU-G0m36",
        "outputId": "ae090743-0c99-409c-a13b-b891becae398"
      },
      "execution_count": 47,
      "outputs": [
        {
          "output_type": "stream",
          "name": "stdout",
          "text": [
            "Model: \"sequential_1\"\n",
            "_________________________________________________________________\n",
            " Layer (type)                Output Shape              Param #   \n",
            "=================================================================\n",
            " conv2d_3 (Conv2D)           (None, 32, 32, 32)        64        \n",
            "                                                                 \n",
            " max_pooling2d_2 (MaxPooling  (None, 16, 16, 32)       0         \n",
            " 2D)                                                             \n",
            "                                                                 \n",
            " conv2d_4 (Conv2D)           (None, 16, 16, 64)        2112      \n",
            "                                                                 \n",
            " max_pooling2d_3 (MaxPooling  (None, 8, 8, 64)         0         \n",
            " 2D)                                                             \n",
            "                                                                 \n",
            " conv2d_5 (Conv2D)           (None, 8, 8, 64)          4160      \n",
            "                                                                 \n",
            "=================================================================\n",
            "Total params: 6,336\n",
            "Trainable params: 6,336\n",
            "Non-trainable params: 0\n",
            "_________________________________________________________________\n"
          ]
        }
      ]
    },
    {
      "cell_type": "code",
      "source": [
        "model.add(layers.Flatten())\n",
        "model.add(layers.Dense(10, activation='relu'))\n",
        "model.add(layers.Dense(10))\n"
      ],
      "metadata": {
        "id": "s9xwPt-J0rGD"
      },
      "execution_count": 48,
      "outputs": []
    },
    {
      "cell_type": "code",
      "source": [
        "from sklearn.model_selection import train_test_split\n",
        "X_train, X_test, y_train, y_test = train_test_split(X, y, test_size=0.33, random_state=42)"
      ],
      "metadata": {
        "id": "yMw_Vss40yLq"
      },
      "execution_count": 49,
      "outputs": []
    },
    {
      "cell_type": "code",
      "source": [
        "model.compile(optimizer='adam',\n",
        "              loss=tf.keras.losses.SparseCategoricalCrossentropy(from_logits=True),\n",
        "              metrics=['accuracy'])\n",
        "\n",
        "\n",
        "history = model.fit(X_train, y_train, epochs= 10, \n",
        "                    validation_data=(X_test, y_test))"
      ],
      "metadata": {
        "colab": {
          "base_uri": "https://localhost:8080/"
        },
        "id": "KbAlSpYp0w9y",
        "outputId": "eb1b3095-187f-4025-fff4-78fb0a796f41"
      },
      "execution_count": 50,
      "outputs": [
        {
          "output_type": "stream",
          "name": "stdout",
          "text": [
            "Epoch 1/10\n",
            "2/2 [==============================] - 1s 179ms/step - loss: 2.3425 - accuracy: 0.0000e+00 - val_loss: 2.3000 - val_accuracy: 0.5000\n",
            "Epoch 2/10\n",
            "2/2 [==============================] - 0s 31ms/step - loss: 2.2992 - accuracy: 0.6000 - val_loss: 2.2977 - val_accuracy: 0.5000\n",
            "Epoch 3/10\n",
            "2/2 [==============================] - 0s 37ms/step - loss: 2.2967 - accuracy: 0.7500 - val_loss: 2.2953 - val_accuracy: 0.5000\n",
            "Epoch 4/10\n",
            "2/2 [==============================] - 0s 39ms/step - loss: 2.2938 - accuracy: 0.7500 - val_loss: 2.2929 - val_accuracy: 0.5000\n",
            "Epoch 5/10\n",
            "2/2 [==============================] - 0s 39ms/step - loss: 2.2909 - accuracy: 0.7500 - val_loss: 2.2905 - val_accuracy: 0.5000\n",
            "Epoch 6/10\n",
            "2/2 [==============================] - 0s 39ms/step - loss: 2.2880 - accuracy: 0.7500 - val_loss: 2.2882 - val_accuracy: 0.5000\n",
            "Epoch 7/10\n",
            "2/2 [==============================] - 0s 39ms/step - loss: 2.2851 - accuracy: 0.7500 - val_loss: 2.2858 - val_accuracy: 0.5000\n",
            "Epoch 8/10\n",
            "2/2 [==============================] - 0s 38ms/step - loss: 2.2822 - accuracy: 0.7500 - val_loss: 2.2835 - val_accuracy: 0.5000\n",
            "Epoch 9/10\n",
            "2/2 [==============================] - 0s 40ms/step - loss: 2.2794 - accuracy: 0.7500 - val_loss: 2.2812 - val_accuracy: 0.5000\n",
            "Epoch 10/10\n",
            "2/2 [==============================] - 0s 39ms/step - loss: 2.2764 - accuracy: 0.7500 - val_loss: 2.2789 - val_accuracy: 0.5000\n"
          ]
        }
      ]
    },
    {
      "cell_type": "code",
      "source": [
        "plt.plot(history.history['accuracy'], label='accuracy')\n",
        "plt.plot(history.history['val_accuracy'], label = 'val_accuracy')\n",
        "plt.xlabel('Epoch')\n",
        "plt.ylabel('Accuracy')\n",
        "plt.ylim([0.5, 1])\n",
        "plt.legend(loc='lower right')\n",
        "\n",
        "test_loss, test_acc = model.evaluate(X_test, y_test, verbose=2)"
      ],
      "metadata": {
        "colab": {
          "base_uri": "https://localhost:8080/",
          "height": 301
        },
        "id": "yp0nxroc_nQj",
        "outputId": "15df0d8a-e832-4e0b-d919-b666c49aa38b"
      },
      "execution_count": 51,
      "outputs": [
        {
          "output_type": "stream",
          "name": "stdout",
          "text": [
            "1/1 - 0s - loss: 2.2789 - accuracy: 0.5000 - 27ms/epoch - 27ms/step\n"
          ]
        },
        {
          "output_type": "display_data",
          "data": {
            "text/plain": [
              "<Figure size 432x288 with 1 Axes>"
            ],
            "image/png": "[encoded data removed]"
          },
          "metadata": {
            "needs_background": "light"
          }
        }
      ]
    }
  ],
  "metadata": {
    "accelerator": "TPU",
    "colab": {
      "collapsed_sections": [],
      "name": "Thesis_CodeBERT.ipynb",
      "provenance": [],
      "machine_shape": "hm",
      "background_execution": "on",
      "mount_file_id": "1Cim3xmKWPMU55sH34cGhrXFIn30DGuTK",
      "authorship_tag": "ABX9TyOHGGVx3qQEuGFFpS76tryf",
      "include_colab_link": true
    },
    "kernelspec": {
      "display_name": "Python 3",
      "name": "python3"
    },
    "language_info": {
      "name": "python"
    },
    "widgets": {
      "application/vnd.jupyter.widget-state+json": {
        "18463621c3194b52b33297be66041542": {
          "model_module": "@jupyter-widgets/controls",
          "model_name": "HBoxModel",
          "model_module_version": "1.5.0",
          "state": {
            "_dom_classes": [],
            "_model_module": "@jupyter-widgets/controls",
            "_model_module_version": "1.5.0",
            "_model_name": "HBoxModel",
            "_view_count": null,
            "_view_module": "@jupyter-widgets/controls",
            "_view_module_version": "1.5.0",
            "_view_name": "HBoxView",
            "box_style": "",
            "children": [
              "IPY_MODEL_6a6f63de419646bba7f364b00e2226e2",
              "IPY_MODEL_ac57195d900a4f27ba5bd09bf8e9906e",
              "IPY_MODEL_4b5ace7fd8d64ad19af9bb26a5ab2140"
            ],
            "layout": "IPY_MODEL_841fc22ab55b4376a09f06343d36236a"
          }
        },
        "6a6f63de419646bba7f364b00e2226e2": {
          "model_module": "@jupyter-widgets/controls",
          "model_name": "HTMLModel",
          "model_module_version": "1.5.0",
          "state": {
            "_dom_classes": [],
            "_model_module": "@jupyter-widgets/controls",
            "_model_module_version": "1.5.0",
            "_model_name": "HTMLModel",
            "_view_count": null,
            "_view_module": "@jupyter-widgets/controls",
            "_view_module_version": "1.5.0",
            "_view_name": "HTMLView",
            "description": "",
            "description_tooltip": null,
            "layout": "IPY_MODEL_90ec35d76f2e43e38606a66afbe1fa3c",
            "placeholder": "​",
            "style": "IPY_MODEL_dcec961ab1164e09a054c98130c37f88",
            "value": "Downloading: 100%"
          }
        },
        "ac57195d900a4f27ba5bd09bf8e9906e": {
          "model_module": "@jupyter-widgets/controls",
          "model_name": "FloatProgressModel",
          "model_module_version": "1.5.0",
          "state": {
            "_dom_classes": [],
            "_model_module": "@jupyter-widgets/controls",
            "_model_module_version": "1.5.0",
            "_model_name": "FloatProgressModel",
            "_view_count": null,
            "_view_module": "@jupyter-widgets/controls",
            "_view_module_version": "1.5.0",
            "_view_name": "ProgressView",
            "bar_style": "success",
            "description": "",
            "description_tooltip": null,
            "layout": "IPY_MODEL_f2b8419004ef42f78ad29758f19b89a5",
            "max": 504,
            "min": 0,
            "orientation": "horizontal",
            "style": "IPY_MODEL_db5b91abac294f9b97be4bcfbadb2ae2",
            "value": 504
          }
        },
        "4b5ace7fd8d64ad19af9bb26a5ab2140": {
          "model_module": "@jupyter-widgets/controls",
          "model_name": "HTMLModel",
          "model_module_version": "1.5.0",
          "state": {
            "_dom_classes": [],
            "_model_module": "@jupyter-widgets/controls",
            "_model_module_version": "1.5.0",
            "_model_name": "HTMLModel",
            "_view_count": null,
            "_view_module": "@jupyter-widgets/controls",
            "_view_module_version": "1.5.0",
            "_view_name": "HTMLView",
            "description": "",
            "description_tooltip": null,
            "layout": "IPY_MODEL_519217aca08e4095b1674a7cec710f65",
            "placeholder": "​",
            "style": "IPY_MODEL_ccf0591da27e4eab99e9674f773a8f2e",
            "value": " 504/504 [00:00&lt;00:00, 18.5kB/s]"
          }
        },
        "841fc22ab55b4376a09f06343d36236a": {
          "model_module": "@jupyter-widgets/base",
          "model_name": "LayoutModel",
          "model_module_version": "1.2.0",
          "state": {
            "_model_module": "@jupyter-widgets/base",
            "_model_module_version": "1.2.0",
            "_model_name": "LayoutModel",
            "_view_count": null,
            "_view_module": "@jupyter-widgets/base",
            "_view_module_version": "1.2.0",
            "_view_name": "LayoutView",
            "align_content": null,
            "align_items": null,
            "align_self": null,
            "border": null,
            "bottom": null,
            "display": null,
            "flex": null,
            "flex_flow": null,
            "grid_area": null,
            "grid_auto_columns": null,
            "grid_auto_flow": null,
            "grid_auto_rows": null,
            "grid_column": null,
            "grid_gap": null,
            "grid_row": null,
            "grid_template_areas": null,
            "grid_template_columns": null,
            "grid_template_rows": null,
            "height": null,
            "justify_content": null,
            "justify_items": null,
            "left": null,
            "margin": null,
            "max_height": null,
            "max_width": null,
            "min_height": null,
            "min_width": null,
            "object_fit": null,
            "object_position": null,
            "order": null,
            "overflow": null,
            "overflow_x": null,
            "overflow_y": null,
            "padding": null,
            "right": null,
            "top": null,
            "visibility": null,
            "width": null
          }
        },
        "90ec35d76f2e43e38606a66afbe1fa3c": {
          "model_module": "@jupyter-widgets/base",
          "model_name": "LayoutModel",
          "model_module_version": "1.2.0",
          "state": {
            "_model_module": "@jupyter-widgets/base",
            "_model_module_version": "1.2.0",
            "_model_name": "LayoutModel",
            "_view_count": null,
            "_view_module": "@jupyter-widgets/base",
            "_view_module_version": "1.2.0",
            "_view_name": "LayoutView",
            "align_content": null,
            "align_items": null,
            "align_self": null,
            "border": null,
            "bottom": null,
            "display": null,
            "flex": null,
            "flex_flow": null,
            "grid_area": null,
            "grid_auto_columns": null,
            "grid_auto_flow": null,
            "grid_auto_rows": null,
            "grid_column": null,
            "grid_gap": null,
            "grid_row": null,
            "grid_template_areas": null,
            "grid_template_columns": null,
            "grid_template_rows": null,
            "height": null,
            "justify_content": null,
            "justify_items": null,
            "left": null,
            "margin": null,
            "max_height": null,
            "max_width": null,
            "min_height": null,
            "min_width": null,
            "object_fit": null,
            "object_position": null,
            "order": null,
            "overflow": null,
            "overflow_x": null,
            "overflow_y": null,
            "padding": null,
            "right": null,
            "top": null,
            "visibility": null,
            "width": null
          }
        },
        "dcec961ab1164e09a054c98130c37f88": {
          "model_module": "@jupyter-widgets/controls",
          "model_name": "DescriptionStyleModel",
          "model_module_version": "1.5.0",
          "state": {
            "_model_module": "@jupyter-widgets/controls",
            "_model_module_version": "1.5.0",
            "_model_name": "DescriptionStyleModel",
            "_view_count": null,
            "_view_module": "@jupyter-widgets/base",
            "_view_module_version": "1.2.0",
            "_view_name": "StyleView",
            "description_width": ""
          }
        },
        "f2b8419004ef42f78ad29758f19b89a5": {
          "model_module": "@jupyter-widgets/base",
          "model_name": "LayoutModel",
          "model_module_version": "1.2.0",
          "state": {
            "_model_module": "@jupyter-widgets/base",
            "_model_module_version": "1.2.0",
            "_model_name": "LayoutModel",
            "_view_count": null,
            "_view_module": "@jupyter-widgets/base",
            "_view_module_version": "1.2.0",
            "_view_name": "LayoutView",
            "align_content": null,
            "align_items": null,
            "align_self": null,
            "border": null,
            "bottom": null,
            "display": null,
            "flex": null,
            "flex_flow": null,
            "grid_area": null,
            "grid_auto_columns": null,
            "grid_auto_flow": null,
            "grid_auto_rows": null,
            "grid_column": null,
            "grid_gap": null,
            "grid_row": null,
            "grid_template_areas": null,
            "grid_template_columns": null,
            "grid_template_rows": null,
            "height": null,
            "justify_content": null,
            "justify_items": null,
            "left": null,
            "margin": null,
            "max_height": null,
            "max_width": null,
            "min_height": null,
            "min_width": null,
            "object_fit": null,
            "object_position": null,
            "order": null,
            "overflow": null,
            "overflow_x": null,
            "overflow_y": null,
            "padding": null,
            "right": null,
            "top": null,
            "visibility": null,
            "width": null
          }
        },
        "db5b91abac294f9b97be4bcfbadb2ae2": {
          "model_module": "@jupyter-widgets/controls",
          "model_name": "ProgressStyleModel",
          "model_module_version": "1.5.0",
          "state": {
            "_model_module": "@jupyter-widgets/controls",
            "_model_module_version": "1.5.0",
            "_model_name": "ProgressStyleModel",
            "_view_count": null,
            "_view_module": "@jupyter-widgets/base",
            "_view_module_version": "1.2.0",
            "_view_name": "StyleView",
            "bar_color": null,
            "description_width": ""
          }
        },
        "519217aca08e4095b1674a7cec710f65": {
          "model_module": "@jupyter-widgets/base",
          "model_name": "LayoutModel",
          "model_module_version": "1.2.0",
          "state": {
            "_model_module": "@jupyter-widgets/base",
            "_model_module_version": "1.2.0",
            "_model_name": "LayoutModel",
            "_view_count": null,
            "_view_module": "@jupyter-widgets/base",
            "_view_module_version": "1.2.0",
            "_view_name": "LayoutView",
            "align_content": null,
            "align_items": null,
            "align_self": null,
            "border": null,
            "bottom": null,
            "display": null,
            "flex": null,
            "flex_flow": null,
            "grid_area": null,
            "grid_auto_columns": null,
            "grid_auto_flow": null,
            "grid_auto_rows": null,
            "grid_column": null,
            "grid_gap": null,
            "grid_row": null,
            "grid_template_areas": null,
            "grid_template_columns": null,
            "grid_template_rows": null,
            "height": null,
            "justify_content": null,
            "justify_items": null,
            "left": null,
            "margin": null,
            "max_height": null,
            "max_width": null,
            "min_height": null,
            "min_width": null,
            "object_fit": null,
            "object_position": null,
            "order": null,
            "overflow": null,
            "overflow_x": null,
            "overflow_y": null,
            "padding": null,
            "right": null,
            "top": null,
            "visibility": null,
            "width": null
          }
        },
        "ccf0591da27e4eab99e9674f773a8f2e": {
          "model_module": "@jupyter-widgets/controls",
          "model_name": "DescriptionStyleModel",
          "model_module_version": "1.5.0",
          "state": {
            "_model_module": "@jupyter-widgets/controls",
            "_model_module_version": "1.5.0",
            "_model_name": "DescriptionStyleModel",
            "_view_count": null,
            "_view_module": "@jupyter-widgets/base",
            "_view_module_version": "1.2.0",
            "_view_name": "StyleView",
            "description_width": ""
          }
        },
        "e526c8f02da74089b10ef3e3b5b882fb": {
          "model_module": "@jupyter-widgets/controls",
          "model_name": "HBoxModel",
          "model_module_version": "1.5.0",
          "state": {
            "_dom_classes": [],
            "_model_module": "@jupyter-widgets/controls",
            "_model_module_version": "1.5.0",
            "_model_name": "HBoxModel",
            "_view_count": null,
            "_view_module": "@jupyter-widgets/controls",
            "_view_module_version": "1.5.0",
            "_view_name": "HBoxView",
            "box_style": "",
            "children": [
              "IPY_MODEL_f212af4d53ba4e11b8872421ce1e9e56",
              "IPY_MODEL_e1d118b4d2de40ff98486bca77cc6a53",
              "IPY_MODEL_cf4c9bce8f254502b20d54830373ac6a"
            ],
            "layout": "IPY_MODEL_460f8a59d6904ec7a1b0bc369742238e"
          }
        },
        "f212af4d53ba4e11b8872421ce1e9e56": {
          "model_module": "@jupyter-widgets/controls",
          "model_name": "HTMLModel",
          "model_module_version": "1.5.0",
          "state": {
            "_dom_classes": [],
            "_model_module": "@jupyter-widgets/controls",
            "_model_module_version": "1.5.0",
            "_model_name": "HTMLModel",
            "_view_count": null,
            "_view_module": "@jupyter-widgets/controls",
            "_view_module_version": "1.5.0",
            "_view_name": "HTMLView",
            "description": "",
            "description_tooltip": null,
            "layout": "IPY_MODEL_a66a8caba4dd442091753effa1d2b601",
            "placeholder": "​",
            "style": "IPY_MODEL_ee6e147b94af4fa5b6a8d5992cc40755",
            "value": "Downloading: 100%"
          }
        },
        "e1d118b4d2de40ff98486bca77cc6a53": {
          "model_module": "@jupyter-widgets/controls",
          "model_name": "FloatProgressModel",
          "model_module_version": "1.5.0",
          "state": {
            "_dom_classes": [],
            "_model_module": "@jupyter-widgets/controls",
            "_model_module_version": "1.5.0",
            "_model_name": "FloatProgressModel",
            "_view_count": null,
            "_view_module": "@jupyter-widgets/controls",
            "_view_module_version": "1.5.0",
            "_view_name": "ProgressView",
            "bar_style": "success",
            "description": "",
            "description_tooltip": null,
            "layout": "IPY_MODEL_ce672ef0d0fd4c0989a55abd5b48a8fd",
            "max": 501201999,
            "min": 0,
            "orientation": "horizontal",
            "style": "IPY_MODEL_7a953b04acb846439a0ae689ff09bfb0",
            "value": 501201999
          }
        },
        "cf4c9bce8f254502b20d54830373ac6a": {
          "model_module": "@jupyter-widgets/controls",
          "model_name": "HTMLModel",
          "model_module_version": "1.5.0",
          "state": {
            "_dom_classes": [],
            "_model_module": "@jupyter-widgets/controls",
            "_model_module_version": "1.5.0",
            "_model_name": "HTMLModel",
            "_view_count": null,
            "_view_module": "@jupyter-widgets/controls",
            "_view_module_version": "1.5.0",
            "_view_name": "HTMLView",
            "description": "",
            "description_tooltip": null,
            "layout": "IPY_MODEL_1a8226d81f874526a027855d4f2bfdf5",
            "placeholder": "​",
            "style": "IPY_MODEL_d71317c9150546e5a631801d857735f7",
            "value": " 478M/478M [00:14&lt;00:00, 27.9MB/s]"
          }
        },
        "460f8a59d6904ec7a1b0bc369742238e": {
          "model_module": "@jupyter-widgets/base",
          "model_name": "LayoutModel",
          "model_module_version": "1.2.0",
          "state": {
            "_model_module": "@jupyter-widgets/base",
            "_model_module_version": "1.2.0",
            "_model_name": "LayoutModel",
            "_view_count": null,
            "_view_module": "@jupyter-widgets/base",
            "_view_module_version": "1.2.0",
            "_view_name": "LayoutView",
            "align_content": null,
            "align_items": null,
            "align_self": null,
            "border": null,
            "bottom": null,
            "display": null,
            "flex": null,
            "flex_flow": null,
            "grid_area": null,
            "grid_auto_columns": null,
            "grid_auto_flow": null,
            "grid_auto_rows": null,
            "grid_column": null,
            "grid_gap": null,
            "grid_row": null,
            "grid_template_areas": null,
            "grid_template_columns": null,
            "grid_template_rows": null,
            "height": null,
            "justify_content": null,
            "justify_items": null,
            "left": null,
            "margin": null,
            "max_height": null,
            "max_width": null,
            "min_height": null,
            "min_width": null,
            "object_fit": null,
            "object_position": null,
            "order": null,
            "overflow": null,
            "overflow_x": null,
            "overflow_y": null,
            "padding": null,
            "right": null,
            "top": null,
            "visibility": null,
            "width": null
          }
        },
        "a66a8caba4dd442091753effa1d2b601": {
          "model_module": "@jupyter-widgets/base",
          "model_name": "LayoutModel",
          "model_module_version": "1.2.0",
          "state": {
            "_model_module": "@jupyter-widgets/base",
            "_model_module_version": "1.2.0",
            "_model_name": "LayoutModel",
            "_view_count": null,
            "_view_module": "@jupyter-widgets/base",
            "_view_module_version": "1.2.0",
            "_view_name": "LayoutView",
            "align_content": null,
            "align_items": null,
            "align_self": null,
            "border": null,
            "bottom": null,
            "display": null,
            "flex": null,
            "flex_flow": null,
            "grid_area": null,
            "grid_auto_columns": null,
            "grid_auto_flow": null,
            "grid_auto_rows": null,
            "grid_column": null,
            "grid_gap": null,
            "grid_row": null,
            "grid_template_areas": null,
            "grid_template_columns": null,
            "grid_template_rows": null,
            "height": null,
            "justify_content": null,
            "justify_items": null,
            "left": null,
            "margin": null,
            "max_height": null,
            "max_width": null,
            "min_height": null,
            "min_width": null,
            "object_fit": null,
            "object_position": null,
            "order": null,
            "overflow": null,
            "overflow_x": null,
            "overflow_y": null,
            "padding": null,
            "right": null,
            "top": null,
            "visibility": null,
            "width": null
          }
        },
        "ee6e147b94af4fa5b6a8d5992cc40755": {
          "model_module": "@jupyter-widgets/controls",
          "model_name": "DescriptionStyleModel",
          "model_module_version": "1.5.0",
          "state": {
            "_model_module": "@jupyter-widgets/controls",
            "_model_module_version": "1.5.0",
            "_model_name": "DescriptionStyleModel",
            "_view_count": null,
            "_view_module": "@jupyter-widgets/base",
            "_view_module_version": "1.2.0",
            "_view_name": "StyleView",
            "description_width": ""
          }
        },
        "ce672ef0d0fd4c0989a55abd5b48a8fd": {
          "model_module": "@jupyter-widgets/base",
          "model_name": "LayoutModel",
          "model_module_version": "1.2.0",
          "state": {
            "_model_module": "@jupyter-widgets/base",
            "_model_module_version": "1.2.0",
            "_model_name": "LayoutModel",
            "_view_count": null,
            "_view_module": "@jupyter-widgets/base",
            "_view_module_version": "1.2.0",
            "_view_name": "LayoutView",
            "align_content": null,
            "align_items": null,
            "align_self": null,
            "border": null,
            "bottom": null,
            "display": null,
            "flex": null,
            "flex_flow": null,
            "grid_area": null,
            "grid_auto_columns": null,
            "grid_auto_flow": null,
            "grid_auto_rows": null,
            "grid_column": null,
            "grid_gap": null,
            "grid_row": null,
            "grid_template_areas": null,
            "grid_template_columns": null,
            "grid_template_rows": null,
            "height": null,
            "justify_content": null,
            "justify_items": null,
            "left": null,
            "margin": null,
            "max_height": null,
            "max_width": null,
            "min_height": null,
            "min_width": null,
            "object_fit": null,
            "object_position": null,
            "order": null,
            "overflow": null,
            "overflow_x": null,
            "overflow_y": null,
            "padding": null,
            "right": null,
            "top": null,
            "visibility": null,
            "width": null
          }
        },
        "7a953b04acb846439a0ae689ff09bfb0": {
          "model_module": "@jupyter-widgets/controls",
          "model_name": "ProgressStyleModel",
          "model_module_version": "1.5.0",
          "state": {
            "_model_module": "@jupyter-widgets/controls",
            "_model_module_version": "1.5.0",
            "_model_name": "ProgressStyleModel",
            "_view_count": null,
            "_view_module": "@jupyter-widgets/base",
            "_view_module_version": "1.2.0",
            "_view_name": "StyleView",
            "bar_color": null,
            "description_width": ""
          }
        },
        "1a8226d81f874526a027855d4f2bfdf5": {
          "model_module": "@jupyter-widgets/base",
          "model_name": "LayoutModel",
          "model_module_version": "1.2.0",
          "state": {
            "_model_module": "@jupyter-widgets/base",
            "_model_module_version": "1.2.0",
            "_model_name": "LayoutModel",
            "_view_count": null,
            "_view_module": "@jupyter-widgets/base",
            "_view_module_version": "1.2.0",
            "_view_name": "LayoutView",
            "align_content": null,
            "align_items": null,
            "align_self": null,
            "border": null,
            "bottom": null,
            "display": null,
            "flex": null,
            "flex_flow": null,
            "grid_area": null,
            "grid_auto_columns": null,
            "grid_auto_flow": null,
            "grid_auto_rows": null,
            "grid_column": null,
            "grid_gap": null,
            "grid_row": null,
            "grid_template_areas": null,
            "grid_template_columns": null,
            "grid_template_rows": null,
            "height": null,
            "justify_content": null,
            "justify_items": null,
            "left": null,
            "margin": null,
            "max_height": null,
            "max_width": null,
            "min_height": null,
            "min_width": null,
            "object_fit": null,
            "object_position": null,
            "order": null,
            "overflow": null,
            "overflow_x": null,
            "overflow_y": null,
            "padding": null,
            "right": null,
            "top": null,
            "visibility": null,
            "width": null
          }
        },
        "d71317c9150546e5a631801d857735f7": {
          "model_module": "@jupyter-widgets/controls",
          "model_name": "DescriptionStyleModel",
          "model_module_version": "1.5.0",
          "state": {
            "_model_module": "@jupyter-widgets/controls",
            "_model_module_version": "1.5.0",
            "_model_name": "DescriptionStyleModel",
            "_view_count": null,
            "_view_module": "@jupyter-widgets/base",
            "_view_module_version": "1.2.0",
            "_view_name": "StyleView",
            "description_width": ""
          }
        },
        "d5de8cd695f845dfbfa3c641a00ac1bd": {
          "model_module": "@jupyter-widgets/controls",
          "model_name": "HBoxModel",
          "model_module_version": "1.5.0",
          "state": {
            "_dom_classes": [],
            "_model_module": "@jupyter-widgets/controls",
            "_model_module_version": "1.5.0",
            "_model_name": "HBoxModel",
            "_view_count": null,
            "_view_module": "@jupyter-widgets/controls",
            "_view_module_version": "1.5.0",
            "_view_name": "HBoxView",
            "box_style": "",
            "children": [
              "IPY_MODEL_f15dbea69fc342118f9a72280b71039b",
              "IPY_MODEL_76c196d052a84e1ca24cc8859c1e5237",
              "IPY_MODEL_2167bc12e40440a09feb87409ed15550"
            ],
            "layout": "IPY_MODEL_e18ef07a05074a9abdba79daa15f3a2a"
          }
        },
        "f15dbea69fc342118f9a72280b71039b": {
          "model_module": "@jupyter-widgets/controls",
          "model_name": "HTMLModel",
          "model_module_version": "1.5.0",
          "state": {
            "_dom_classes": [],
            "_model_module": "@jupyter-widgets/controls",
            "_model_module_version": "1.5.0",
            "_model_name": "HTMLModel",
            "_view_count": null,
            "_view_module": "@jupyter-widgets/controls",
            "_view_module_version": "1.5.0",
            "_view_name": "HTMLView",
            "description": "",
            "description_tooltip": null,
            "layout": "IPY_MODEL_34f105c0bbe74f4eade16de5d53e3a7f",
            "placeholder": "​",
            "style": "IPY_MODEL_cc019efab7824c80a016734a8fc75daa",
            "value": "Downloading: 100%"
          }
        },
        "76c196d052a84e1ca24cc8859c1e5237": {
          "model_module": "@jupyter-widgets/controls",
          "model_name": "FloatProgressModel",
          "model_module_version": "1.5.0",
          "state": {
            "_dom_classes": [],
            "_model_module": "@jupyter-widgets/controls",
            "_model_module_version": "1.5.0",
            "_model_name": "FloatProgressModel",
            "_view_count": null,
            "_view_module": "@jupyter-widgets/controls",
            "_view_module_version": "1.5.0",
            "_view_name": "ProgressView",
            "bar_style": "success",
            "description": "",
            "description_tooltip": null,
            "layout": "IPY_MODEL_76cf55c9d25f4b7c98fc0cf7ee4d0f89",
            "max": 898822,
            "min": 0,
            "orientation": "horizontal",
            "style": "IPY_MODEL_c282e47712d34639901f478390bb893b",
            "value": 898822
          }
        },
        "2167bc12e40440a09feb87409ed15550": {
          "model_module": "@jupyter-widgets/controls",
          "model_name": "HTMLModel",
          "model_module_version": "1.5.0",
          "state": {
            "_dom_classes": [],
            "_model_module": "@jupyter-widgets/controls",
            "_model_module_version": "1.5.0",
            "_model_name": "HTMLModel",
            "_view_count": null,
            "_view_module": "@jupyter-widgets/controls",
            "_view_module_version": "1.5.0",
            "_view_name": "HTMLView",
            "description": "",
            "description_tooltip": null,
            "layout": "IPY_MODEL_1d772b4b7e274641b62bde3a549e782f",
            "placeholder": "​",
            "style": "IPY_MODEL_a5e1fc03e6e64136bcee24e4a1922674",
            "value": " 878k/878k [00:00&lt;00:00, 1.77MB/s]"
          }
        },
        "e18ef07a05074a9abdba79daa15f3a2a": {
          "model_module": "@jupyter-widgets/base",
          "model_name": "LayoutModel",
          "model_module_version": "1.2.0",
          "state": {
            "_model_module": "@jupyter-widgets/base",
            "_model_module_version": "1.2.0",
            "_model_name": "LayoutModel",
            "_view_count": null,
            "_view_module": "@jupyter-widgets/base",
            "_view_module_version": "1.2.0",
            "_view_name": "LayoutView",
            "align_content": null,
            "align_items": null,
            "align_self": null,
            "border": null,
            "bottom": null,
            "display": null,
            "flex": null,
            "flex_flow": null,
            "grid_area": null,
            "grid_auto_columns": null,
            "grid_auto_flow": null,
            "grid_auto_rows": null,
            "grid_column": null,
            "grid_gap": null,
            "grid_row": null,
            "grid_template_areas": null,
            "grid_template_columns": null,
            "grid_template_rows": null,
            "height": null,
            "justify_content": null,
            "justify_items": null,
            "left": null,
            "margin": null,
            "max_height": null,
            "max_width": null,
            "min_height": null,
            "min_width": null,
            "object_fit": null,
            "object_position": null,
            "order": null,
            "overflow": null,
            "overflow_x": null,
            "overflow_y": null,
            "padding": null,
            "right": null,
            "top": null,
            "visibility": null,
            "width": null
          }
        },
        "34f105c0bbe74f4eade16de5d53e3a7f": {
          "model_module": "@jupyter-widgets/base",
          "model_name": "LayoutModel",
          "model_module_version": "1.2.0",
          "state": {
            "_model_module": "@jupyter-widgets/base",
            "_model_module_version": "1.2.0",
            "_model_name": "LayoutModel",
            "_view_count": null,
            "_view_module": "@jupyter-widgets/base",
            "_view_module_version": "1.2.0",
            "_view_name": "LayoutView",
            "align_content": null,
            "align_items": null,
            "align_self": null,
            "border": null,
            "bottom": null,
            "display": null,
            "flex": null,
            "flex_flow": null,
            "grid_area": null,
            "grid_auto_columns": null,
            "grid_auto_flow": null,
            "grid_auto_rows": null,
            "grid_column": null,
            "grid_gap": null,
            "grid_row": null,
            "grid_template_areas": null,
            "grid_template_columns": null,
            "grid_template_rows": null,
            "height": null,
            "justify_content": null,
            "justify_items": null,
            "left": null,
            "margin": null,
            "max_height": null,
            "max_width": null,
            "min_height": null,
            "min_width": null,
            "object_fit": null,
            "object_position": null,
            "order": null,
            "overflow": null,
            "overflow_x": null,
            "overflow_y": null,
            "padding": null,
            "right": null,
            "top": null,
            "visibility": null,
            "width": null
          }
        },
        "cc019efab7824c80a016734a8fc75daa": {
          "model_module": "@jupyter-widgets/controls",
          "model_name": "DescriptionStyleModel",
          "model_module_version": "1.5.0",
          "state": {
            "_model_module": "@jupyter-widgets/controls",
            "_model_module_version": "1.5.0",
            "_model_name": "DescriptionStyleModel",
            "_view_count": null,
            "_view_module": "@jupyter-widgets/base",
            "_view_module_version": "1.2.0",
            "_view_name": "StyleView",
            "description_width": ""
          }
        },
        "76cf55c9d25f4b7c98fc0cf7ee4d0f89": {
          "model_module": "@jupyter-widgets/base",
          "model_name": "LayoutModel",
          "model_module_version": "1.2.0",
          "state": {
            "_model_module": "@jupyter-widgets/base",
            "_model_module_version": "1.2.0",
            "_model_name": "LayoutModel",
            "_view_count": null,
            "_view_module": "@jupyter-widgets/base",
            "_view_module_version": "1.2.0",
            "_view_name": "LayoutView",
            "align_content": null,
            "align_items": null,
            "align_self": null,
            "border": null,
            "bottom": null,
            "display": null,
            "flex": null,
            "flex_flow": null,
            "grid_area": null,
            "grid_auto_columns": null,
            "grid_auto_flow": null,
            "grid_auto_rows": null,
            "grid_column": null,
            "grid_gap": null,
            "grid_row": null,
            "grid_template_areas": null,
            "grid_template_columns": null,
            "grid_template_rows": null,
            "height": null,
            "justify_content": null,
            "justify_items": null,
            "left": null,
            "margin": null,
            "max_height": null,
            "max_width": null,
            "min_height": null,
            "min_width": null,
            "object_fit": null,
            "object_position": null,
            "order": null,
            "overflow": null,
            "overflow_x": null,
            "overflow_y": null,
            "padding": null,
            "right": null,
            "top": null,
            "visibility": null,
            "width": null
          }
        },
        "c282e47712d34639901f478390bb893b": {
          "model_module": "@jupyter-widgets/controls",
          "model_name": "ProgressStyleModel",
          "model_module_version": "1.5.0",
          "state": {
            "_model_module": "@jupyter-widgets/controls",
            "_model_module_version": "1.5.0",
            "_model_name": "ProgressStyleModel",
            "_view_count": null,
            "_view_module": "@jupyter-widgets/base",
            "_view_module_version": "1.2.0",
            "_view_name": "StyleView",
            "bar_color": null,
            "description_width": ""
          }
        },
        "1d772b4b7e274641b62bde3a549e782f": {
          "model_module": "@jupyter-widgets/base",
          "model_name": "LayoutModel",
          "model_module_version": "1.2.0",
          "state": {
            "_model_module": "@jupyter-widgets/base",
            "_model_module_version": "1.2.0",
            "_model_name": "LayoutModel",
            "_view_count": null,
            "_view_module": "@jupyter-widgets/base",
            "_view_module_version": "1.2.0",
            "_view_name": "LayoutView",
            "align_content": null,
            "align_items": null,
            "align_self": null,
            "border": null,
            "bottom": null,
            "display": null,
            "flex": null,
            "flex_flow": null,
            "grid_area": null,
            "grid_auto_columns": null,
            "grid_auto_flow": null,
            "grid_auto_rows": null,
            "grid_column": null,
            "grid_gap": null,
            "grid_row": null,
            "grid_template_areas": null,
            "grid_template_columns": null,
            "grid_template_rows": null,
            "height": null,
            "justify_content": null,
            "justify_items": null,
            "left": null,
            "margin": null,
            "max_height": null,
            "max_width": null,
            "min_height": null,
            "min_width": null,
            "object_fit": null,
            "object_position": null,
            "order": null,
            "overflow": null,
            "overflow_x": null,
            "overflow_y": null,
            "padding": null,
            "right": null,
            "top": null,
            "visibility": null,
            "width": null
          }
        },
        "a5e1fc03e6e64136bcee24e4a1922674": {
          "model_module": "@jupyter-widgets/controls",
          "model_name": "DescriptionStyleModel",
          "model_module_version": "1.5.0",
          "state": {
            "_model_module": "@jupyter-widgets/controls",
            "_model_module_version": "1.5.0",
            "_model_name": "DescriptionStyleModel",
            "_view_count": null,
            "_view_module": "@jupyter-widgets/base",
            "_view_module_version": "1.2.0",
            "_view_name": "StyleView",
            "description_width": ""
          }
        },
        "01e8afb280b64b338d6e70d6995669e9": {
          "model_module": "@jupyter-widgets/controls",
          "model_name": "HBoxModel",
          "model_module_version": "1.5.0",
          "state": {
            "_dom_classes": [],
            "_model_module": "@jupyter-widgets/controls",
            "_model_module_version": "1.5.0",
            "_model_name": "HBoxModel",
            "_view_count": null,
            "_view_module": "@jupyter-widgets/controls",
            "_view_module_version": "1.5.0",
            "_view_name": "HBoxView",
            "box_style": "",
            "children": [
              "IPY_MODEL_5116f2e4000045abaa349fa71d4ffa92",
              "IPY_MODEL_57121159411741eba4ab986e5f506aac",
              "IPY_MODEL_6782ce8d396a46909cdd73a1e89c5b74"
            ],
            "layout": "IPY_MODEL_7a3204029b7948ddb351e769cac20267"
          }
        },
        "5116f2e4000045abaa349fa71d4ffa92": {
          "model_module": "@jupyter-widgets/controls",
          "model_name": "HTMLModel",
          "model_module_version": "1.5.0",
          "state": {
            "_dom_classes": [],
            "_model_module": "@jupyter-widgets/controls",
            "_model_module_version": "1.5.0",
            "_model_name": "HTMLModel",
            "_view_count": null,
            "_view_module": "@jupyter-widgets/controls",
            "_view_module_version": "1.5.0",
            "_view_name": "HTMLView",
            "description": "",
            "description_tooltip": null,
            "layout": "IPY_MODEL_fbac184bc1604b6b9e13a42a07aeac6f",
            "placeholder": "​",
            "style": "IPY_MODEL_355f280c5e9a4f83bff5a02360d8d3a0",
            "value": "Downloading: 100%"
          }
        },
        "57121159411741eba4ab986e5f506aac": {
          "model_module": "@jupyter-widgets/controls",
          "model_name": "FloatProgressModel",
          "model_module_version": "1.5.0",
          "state": {
            "_dom_classes": [],
            "_model_module": "@jupyter-widgets/controls",
            "_model_module_version": "1.5.0",
            "_model_name": "FloatProgressModel",
            "_view_count": null,
            "_view_module": "@jupyter-widgets/controls",
            "_view_module_version": "1.5.0",
            "_view_name": "ProgressView",
            "bar_style": "success",
            "description": "",
            "description_tooltip": null,
            "layout": "IPY_MODEL_02e8410fdb77422a8258f7b5eb1a0d63",
            "max": 456318,
            "min": 0,
            "orientation": "horizontal",
            "style": "IPY_MODEL_e44fa1bd18084fd39d798a72a24a5486",
            "value": 456318
          }
        },
        "6782ce8d396a46909cdd73a1e89c5b74": {
          "model_module": "@jupyter-widgets/controls",
          "model_name": "HTMLModel",
          "model_module_version": "1.5.0",
          "state": {
            "_dom_classes": [],
            "_model_module": "@jupyter-widgets/controls",
            "_model_module_version": "1.5.0",
            "_model_name": "HTMLModel",
            "_view_count": null,
            "_view_module": "@jupyter-widgets/controls",
            "_view_module_version": "1.5.0",
            "_view_name": "HTMLView",
            "description": "",
            "description_tooltip": null,
            "layout": "IPY_MODEL_38e4f2bbebc64ec497892dfdb5cdd02f",
            "placeholder": "​",
            "style": "IPY_MODEL_d1bfb7095d9e489ca7bd3b43766e7a23",
            "value": " 446k/446k [00:00&lt;00:00, 1.66MB/s]"
          }
        },
        "7a3204029b7948ddb351e769cac20267": {
          "model_module": "@jupyter-widgets/base",
          "model_name": "LayoutModel",
          "model_module_version": "1.2.0",
          "state": {
            "_model_module": "@jupyter-widgets/base",
            "_model_module_version": "1.2.0",
            "_model_name": "LayoutModel",
            "_view_count": null,
            "_view_module": "@jupyter-widgets/base",
            "_view_module_version": "1.2.0",
            "_view_name": "LayoutView",
            "align_content": null,
            "align_items": null,
            "align_self": null,
            "border": null,
            "bottom": null,
            "display": null,
            "flex": null,
            "flex_flow": null,
            "grid_area": null,
            "grid_auto_columns": null,
            "grid_auto_flow": null,
            "grid_auto_rows": null,
            "grid_column": null,
            "grid_gap": null,
            "grid_row": null,
            "grid_template_areas": null,
            "grid_template_columns": null,
            "grid_template_rows": null,
            "height": null,
            "justify_content": null,
            "justify_items": null,
            "left": null,
            "margin": null,
            "max_height": null,
            "max_width": null,
            "min_height": null,
            "min_width": null,
            "object_fit": null,
            "object_position": null,
            "order": null,
            "overflow": null,
            "overflow_x": null,
            "overflow_y": null,
            "padding": null,
            "right": null,
            "top": null,
            "visibility": null,
            "width": null
          }
        },
        "fbac184bc1604b6b9e13a42a07aeac6f": {
          "model_module": "@jupyter-widgets/base",
          "model_name": "LayoutModel",
          "model_module_version": "1.2.0",
          "state": {
            "_model_module": "@jupyter-widgets/base",
            "_model_module_version": "1.2.0",
            "_model_name": "LayoutModel",
            "_view_count": null,
            "_view_module": "@jupyter-widgets/base",
            "_view_module_version": "1.2.0",
            "_view_name": "LayoutView",
            "align_content": null,
            "align_items": null,
            "align_self": null,
            "border": null,
            "bottom": null,
            "display": null,
            "flex": null,
            "flex_flow": null,
            "grid_area": null,
            "grid_auto_columns": null,
            "grid_auto_flow": null,
            "grid_auto_rows": null,
            "grid_column": null,
            "grid_gap": null,
            "grid_row": null,
            "grid_template_areas": null,
            "grid_template_columns": null,
            "grid_template_rows": null,
            "height": null,
            "justify_content": null,
            "justify_items": null,
            "left": null,
            "margin": null,
            "max_height": null,
            "max_width": null,
            "min_height": null,
            "min_width": null,
            "object_fit": null,
            "object_position": null,
            "order": null,
            "overflow": null,
            "overflow_x": null,
            "overflow_y": null,
            "padding": null,
            "right": null,
            "top": null,
            "visibility": null,
            "width": null
          }
        },
        "355f280c5e9a4f83bff5a02360d8d3a0": {
          "model_module": "@jupyter-widgets/controls",
          "model_name": "DescriptionStyleModel",
          "model_module_version": "1.5.0",
          "state": {
            "_model_module": "@jupyter-widgets/controls",
            "_model_module_version": "1.5.0",
            "_model_name": "DescriptionStyleModel",
            "_view_count": null,
            "_view_module": "@jupyter-widgets/base",
            "_view_module_version": "1.2.0",
            "_view_name": "StyleView",
            "description_width": ""
          }
        },
        "02e8410fdb77422a8258f7b5eb1a0d63": {
          "model_module": "@jupyter-widgets/base",
          "model_name": "LayoutModel",
          "model_module_version": "1.2.0",
          "state": {
            "_model_module": "@jupyter-widgets/base",
            "_model_module_version": "1.2.0",
            "_model_name": "LayoutModel",
            "_view_count": null,
            "_view_module": "@jupyter-widgets/base",
            "_view_module_version": "1.2.0",
            "_view_name": "LayoutView",
            "align_content": null,
            "align_items": null,
            "align_self": null,
            "border": null,
            "bottom": null,
            "display": null,
            "flex": null,
            "flex_flow": null,
            "grid_area": null,
            "grid_auto_columns": null,
            "grid_auto_flow": null,
            "grid_auto_rows": null,
            "grid_column": null,
            "grid_gap": null,
            "grid_row": null,
            "grid_template_areas": null,
            "grid_template_columns": null,
            "grid_template_rows": null,
            "height": null,
            "justify_content": null,
            "justify_items": null,
            "left": null,
            "margin": null,
            "max_height": null,
            "max_width": null,
            "min_height": null,
            "min_width": null,
            "object_fit": null,
            "object_position": null,
            "order": null,
            "overflow": null,
            "overflow_x": null,
            "overflow_y": null,
            "padding": null,
            "right": null,
            "top": null,
            "visibility": null,
            "width": null
          }
        },
        "e44fa1bd18084fd39d798a72a24a5486": {
          "model_module": "@jupyter-widgets/controls",
          "model_name": "ProgressStyleModel",
          "model_module_version": "1.5.0",
          "state": {
            "_model_module": "@jupyter-widgets/controls",
            "_model_module_version": "1.5.0",
            "_model_name": "ProgressStyleModel",
            "_view_count": null,
            "_view_module": "@jupyter-widgets/base",
            "_view_module_version": "1.2.0",
            "_view_name": "StyleView",
            "bar_color": null,
            "description_width": ""
          }
        },
        "38e4f2bbebc64ec497892dfdb5cdd02f": {
          "model_module": "@jupyter-widgets/base",
          "model_name": "LayoutModel",
          "model_module_version": "1.2.0",
          "state": {
            "_model_module": "@jupyter-widgets/base",
            "_model_module_version": "1.2.0",
            "_model_name": "LayoutModel",
            "_view_count": null,
            "_view_module": "@jupyter-widgets/base",
            "_view_module_version": "1.2.0",
            "_view_name": "LayoutView",
            "align_content": null,
            "align_items": null,
            "align_self": null,
            "border": null,
            "bottom": null,
            "display": null,
            "flex": null,
            "flex_flow": null,
            "grid_area": null,
            "grid_auto_columns": null,
            "grid_auto_flow": null,
            "grid_auto_rows": null,
            "grid_column": null,
            "grid_gap": null,
            "grid_row": null,
            "grid_template_areas": null,
            "grid_template_columns": null,
            "grid_template_rows": null,
            "height": null,
            "justify_content": null,
            "justify_items": null,
            "left": null,
            "margin": null,
            "max_height": null,
            "max_width": null,
            "min_height": null,
            "min_width": null,
            "object_fit": null,
            "object_position": null,
            "order": null,
            "overflow": null,
            "overflow_x": null,
            "overflow_y": null,
            "padding": null,
            "right": null,
            "top": null,
            "visibility": null,
            "width": null
          }
        },
        "d1bfb7095d9e489ca7bd3b43766e7a23": {
          "model_module": "@jupyter-widgets/controls",
          "model_name": "DescriptionStyleModel",
          "model_module_version": "1.5.0",
          "state": {
            "_model_module": "@jupyter-widgets/controls",
            "_model_module_version": "1.5.0",
            "_model_name": "DescriptionStyleModel",
            "_view_count": null,
            "_view_module": "@jupyter-widgets/base",
            "_view_module_version": "1.2.0",
            "_view_name": "StyleView",
            "description_width": ""
          }
        },
        "915579ff95ec4516bc5757eff8410774": {
          "model_module": "@jupyter-widgets/controls",
          "model_name": "HBoxModel",
          "model_module_version": "1.5.0",
          "state": {
            "_dom_classes": [],
            "_model_module": "@jupyter-widgets/controls",
            "_model_module_version": "1.5.0",
            "_model_name": "HBoxModel",
            "_view_count": null,
            "_view_module": "@jupyter-widgets/controls",
            "_view_module_version": "1.5.0",
            "_view_name": "HBoxView",
            "box_style": "",
            "children": [
              "IPY_MODEL_322c9d8fe41441cc879afca5b2193be4",
              "IPY_MODEL_edd2501aaeae48c9a192676ee6b88fc6",
              "IPY_MODEL_7e9e2e033d9a4fac85fd303ee0ce47d1"
            ],
            "layout": "IPY_MODEL_9c4e71da41714e87b430b64e590a1c05"
          }
        },
        "322c9d8fe41441cc879afca5b2193be4": {
          "model_module": "@jupyter-widgets/controls",
          "model_name": "HTMLModel",
          "model_module_version": "1.5.0",
          "state": {
            "_dom_classes": [],
            "_model_module": "@jupyter-widgets/controls",
            "_model_module_version": "1.5.0",
            "_model_name": "HTMLModel",
            "_view_count": null,
            "_view_module": "@jupyter-widgets/controls",
            "_view_module_version": "1.5.0",
            "_view_name": "HTMLView",
            "description": "",
            "description_tooltip": null,
            "layout": "IPY_MODEL_63158586e7db42809c663fb7974706bc",
            "placeholder": "​",
            "style": "IPY_MODEL_c86a06cdc3c34d02b405940afd36cf90",
            "value": "Downloading: 100%"
          }
        },
        "edd2501aaeae48c9a192676ee6b88fc6": {
          "model_module": "@jupyter-widgets/controls",
          "model_name": "FloatProgressModel",
          "model_module_version": "1.5.0",
          "state": {
            "_dom_classes": [],
            "_model_module": "@jupyter-widgets/controls",
            "_model_module_version": "1.5.0",
            "_model_name": "FloatProgressModel",
            "_view_count": null,
            "_view_module": "@jupyter-widgets/controls",
            "_view_module_version": "1.5.0",
            "_view_name": "ProgressView",
            "bar_style": "success",
            "description": "",
            "description_tooltip": null,
            "layout": "IPY_MODEL_538c80c9a60541258c9451ad6d6be9e6",
            "max": 150,
            "min": 0,
            "orientation": "horizontal",
            "style": "IPY_MODEL_517bcc8fe7c14000af55d14710d5f266",
            "value": 150
          }
        },
        "7e9e2e033d9a4fac85fd303ee0ce47d1": {
          "model_module": "@jupyter-widgets/controls",
          "model_name": "HTMLModel",
          "model_module_version": "1.5.0",
          "state": {
            "_dom_classes": [],
            "_model_module": "@jupyter-widgets/controls",
            "_model_module_version": "1.5.0",
            "_model_name": "HTMLModel",
            "_view_count": null,
            "_view_module": "@jupyter-widgets/controls",
            "_view_module_version": "1.5.0",
            "_view_name": "HTMLView",
            "description": "",
            "description_tooltip": null,
            "layout": "IPY_MODEL_46546157bcf74c13a5d1543a766367c2",
            "placeholder": "​",
            "style": "IPY_MODEL_a6b79d4bd3c74115b88103020bce979e",
            "value": " 150/150 [00:00&lt;00:00, 5.51kB/s]"
          }
        },
        "9c4e71da41714e87b430b64e590a1c05": {
          "model_module": "@jupyter-widgets/base",
          "model_name": "LayoutModel",
          "model_module_version": "1.2.0",
          "state": {
            "_model_module": "@jupyter-widgets/base",
            "_model_module_version": "1.2.0",
            "_model_name": "LayoutModel",
            "_view_count": null,
            "_view_module": "@jupyter-widgets/base",
            "_view_module_version": "1.2.0",
            "_view_name": "LayoutView",
            "align_content": null,
            "align_items": null,
            "align_self": null,
            "border": null,
            "bottom": null,
            "display": null,
            "flex": null,
            "flex_flow": null,
            "grid_area": null,
            "grid_auto_columns": null,
            "grid_auto_flow": null,
            "grid_auto_rows": null,
            "grid_column": null,
            "grid_gap": null,
            "grid_row": null,
            "grid_template_areas": null,
            "grid_template_columns": null,
            "grid_template_rows": null,
            "height": null,
            "justify_content": null,
            "justify_items": null,
            "left": null,
            "margin": null,
            "max_height": null,
            "max_width": null,
            "min_height": null,
            "min_width": null,
            "object_fit": null,
            "object_position": null,
            "order": null,
            "overflow": null,
            "overflow_x": null,
            "overflow_y": null,
            "padding": null,
            "right": null,
            "top": null,
            "visibility": null,
            "width": null
          }
        },
        "63158586e7db42809c663fb7974706bc": {
          "model_module": "@jupyter-widgets/base",
          "model_name": "LayoutModel",
          "model_module_version": "1.2.0",
          "state": {
            "_model_module": "@jupyter-widgets/base",
            "_model_module_version": "1.2.0",
            "_model_name": "LayoutModel",
            "_view_count": null,
            "_view_module": "@jupyter-widgets/base",
            "_view_module_version": "1.2.0",
            "_view_name": "LayoutView",
            "align_content": null,
            "align_items": null,
            "align_self": null,
            "border": null,
            "bottom": null,
            "display": null,
            "flex": null,
            "flex_flow": null,
            "grid_area": null,
            "grid_auto_columns": null,
            "grid_auto_flow": null,
            "grid_auto_rows": null,
            "grid_column": null,
            "grid_gap": null,
            "grid_row": null,
            "grid_template_areas": null,
            "grid_template_columns": null,
            "grid_template_rows": null,
            "height": null,
            "justify_content": null,
            "justify_items": null,
            "left": null,
            "margin": null,
            "max_height": null,
            "max_width": null,
            "min_height": null,
            "min_width": null,
            "object_fit": null,
            "object_position": null,
            "order": null,
            "overflow": null,
            "overflow_x": null,
            "overflow_y": null,
            "padding": null,
            "right": null,
            "top": null,
            "visibility": null,
            "width": null
          }
        },
        "c86a06cdc3c34d02b405940afd36cf90": {
          "model_module": "@jupyter-widgets/controls",
          "model_name": "DescriptionStyleModel",
          "model_module_version": "1.5.0",
          "state": {
            "_model_module": "@jupyter-widgets/controls",
            "_model_module_version": "1.5.0",
            "_model_name": "DescriptionStyleModel",
            "_view_count": null,
            "_view_module": "@jupyter-widgets/base",
            "_view_module_version": "1.2.0",
            "_view_name": "StyleView",
            "description_width": ""
          }
        },
        "538c80c9a60541258c9451ad6d6be9e6": {
          "model_module": "@jupyter-widgets/base",
          "model_name": "LayoutModel",
          "model_module_version": "1.2.0",
          "state": {
            "_model_module": "@jupyter-widgets/base",
            "_model_module_version": "1.2.0",
            "_model_name": "LayoutModel",
            "_view_count": null,
            "_view_module": "@jupyter-widgets/base",
            "_view_module_version": "1.2.0",
            "_view_name": "LayoutView",
            "align_content": null,
            "align_items": null,
            "align_self": null,
            "border": null,
            "bottom": null,
            "display": null,
            "flex": null,
            "flex_flow": null,
            "grid_area": null,
            "grid_auto_columns": null,
            "grid_auto_flow": null,
            "grid_auto_rows": null,
            "grid_column": null,
            "grid_gap": null,
            "grid_row": null,
            "grid_template_areas": null,
            "grid_template_columns": null,
            "grid_template_rows": null,
            "height": null,
            "justify_content": null,
            "justify_items": null,
            "left": null,
            "margin": null,
            "max_height": null,
            "max_width": null,
            "min_height": null,
            "min_width": null,
            "object_fit": null,
            "object_position": null,
            "order": null,
            "overflow": null,
            "overflow_x": null,
            "overflow_y": null,
            "padding": null,
            "right": null,
            "top": null,
            "visibility": null,
            "width": null
          }
        },
        "517bcc8fe7c14000af55d14710d5f266": {
          "model_module": "@jupyter-widgets/controls",
          "model_name": "ProgressStyleModel",
          "model_module_version": "1.5.0",
          "state": {
            "_model_module": "@jupyter-widgets/controls",
            "_model_module_version": "1.5.0",
            "_model_name": "ProgressStyleModel",
            "_view_count": null,
            "_view_module": "@jupyter-widgets/base",
            "_view_module_version": "1.2.0",
            "_view_name": "StyleView",
            "bar_color": null,
            "description_width": ""
          }
        },
        "46546157bcf74c13a5d1543a766367c2": {
          "model_module": "@jupyter-widgets/base",
          "model_name": "LayoutModel",
          "model_module_version": "1.2.0",
          "state": {
            "_model_module": "@jupyter-widgets/base",
            "_model_module_version": "1.2.0",
            "_model_name": "LayoutModel",
            "_view_count": null,
            "_view_module": "@jupyter-widgets/base",
            "_view_module_version": "1.2.0",
            "_view_name": "LayoutView",
            "align_content": null,
            "align_items": null,
            "align_self": null,
            "border": null,
            "bottom": null,
            "display": null,
            "flex": null,
            "flex_flow": null,
            "grid_area": null,
            "grid_auto_columns": null,
            "grid_auto_flow": null,
            "grid_auto_rows": null,
            "grid_column": null,
            "grid_gap": null,
            "grid_row": null,
            "grid_template_areas": null,
            "grid_template_columns": null,
            "grid_template_rows": null,
            "height": null,
            "justify_content": null,
            "justify_items": null,
            "left": null,
            "margin": null,
            "max_height": null,
            "max_width": null,
            "min_height": null,
            "min_width": null,
            "object_fit": null,
            "object_position": null,
            "order": null,
            "overflow": null,
            "overflow_x": null,
            "overflow_y": null,
            "padding": null,
            "right": null,
            "top": null,
            "visibility": null,
            "width": null
          }
        },
        "a6b79d4bd3c74115b88103020bce979e": {
          "model_module": "@jupyter-widgets/controls",
          "model_name": "DescriptionStyleModel",
          "model_module_version": "1.5.0",
          "state": {
            "_model_module": "@jupyter-widgets/controls",
            "_model_module_version": "1.5.0",
            "_model_name": "DescriptionStyleModel",
            "_view_count": null,
            "_view_module": "@jupyter-widgets/base",
            "_view_module_version": "1.2.0",
            "_view_name": "StyleView",
            "description_width": ""
          }
        },
        "37171834d2a64865b489d60685a2ba51": {
          "model_module": "@jupyter-widgets/controls",
          "model_name": "HBoxModel",
          "model_module_version": "1.5.0",
          "state": {
            "_dom_classes": [],
            "_model_module": "@jupyter-widgets/controls",
            "_model_module_version": "1.5.0",
            "_model_name": "HBoxModel",
            "_view_count": null,
            "_view_module": "@jupyter-widgets/controls",
            "_view_module_version": "1.5.0",
            "_view_name": "HBoxView",
            "box_style": "",
            "children": [
              "IPY_MODEL_70a84d0d6f89497594d50f186d611f87",
              "IPY_MODEL_7835154fc85f4c5d89e44f058fcf23d3",
              "IPY_MODEL_5db833f92615426fa67c99314036abf8"
            ],
            "layout": "IPY_MODEL_71a853e5849c4f078a6afefa1ea6c706"
          }
        },
        "70a84d0d6f89497594d50f186d611f87": {
          "model_module": "@jupyter-widgets/controls",
          "model_name": "HTMLModel",
          "model_module_version": "1.5.0",
          "state": {
            "_dom_classes": [],
            "_model_module": "@jupyter-widgets/controls",
            "_model_module_version": "1.5.0",
            "_model_name": "HTMLModel",
            "_view_count": null,
            "_view_module": "@jupyter-widgets/controls",
            "_view_module_version": "1.5.0",
            "_view_name": "HTMLView",
            "description": "",
            "description_tooltip": null,
            "layout": "IPY_MODEL_ea877ce38b7f401294a8b1792c3a4192",
            "placeholder": "​",
            "style": "IPY_MODEL_935da6f3ef4345b8bd582658aa2e5cf8",
            "value": "Downloading: 100%"
          }
        },
        "7835154fc85f4c5d89e44f058fcf23d3": {
          "model_module": "@jupyter-widgets/controls",
          "model_name": "FloatProgressModel",
          "model_module_version": "1.5.0",
          "state": {
            "_dom_classes": [],
            "_model_module": "@jupyter-widgets/controls",
            "_model_module_version": "1.5.0",
            "_model_name": "FloatProgressModel",
            "_view_count": null,
            "_view_module": "@jupyter-widgets/controls",
            "_view_module_version": "1.5.0",
            "_view_name": "ProgressView",
            "bar_style": "success",
            "description": "",
            "description_tooltip": null,
            "layout": "IPY_MODEL_ab48ccd14ed94a71944b3b8676364ed6",
            "max": 25,
            "min": 0,
            "orientation": "horizontal",
            "style": "IPY_MODEL_9ad5d5d8a6e94f9ca416a65eaa0a4956",
            "value": 25
          }
        },
        "5db833f92615426fa67c99314036abf8": {
          "model_module": "@jupyter-widgets/controls",
          "model_name": "HTMLModel",
          "model_module_version": "1.5.0",
          "state": {
            "_dom_classes": [],
            "_model_module": "@jupyter-widgets/controls",
            "_model_module_version": "1.5.0",
            "_model_name": "HTMLModel",
            "_view_count": null,
            "_view_module": "@jupyter-widgets/controls",
            "_view_module_version": "1.5.0",
            "_view_name": "HTMLView",
            "description": "",
            "description_tooltip": null,
            "layout": "IPY_MODEL_071e2e508be545369e2fd114a14e139a",
            "placeholder": "​",
            "style": "IPY_MODEL_47dd1851f4ed4ad38a8a971f32cd6e4c",
            "value": " 25.0/25.0 [00:00&lt;00:00, 914B/s]"
          }
        },
        "71a853e5849c4f078a6afefa1ea6c706": {
          "model_module": "@jupyter-widgets/base",
          "model_name": "LayoutModel",
          "model_module_version": "1.2.0",
          "state": {
            "_model_module": "@jupyter-widgets/base",
            "_model_module_version": "1.2.0",
            "_model_name": "LayoutModel",
            "_view_count": null,
            "_view_module": "@jupyter-widgets/base",
            "_view_module_version": "1.2.0",
            "_view_name": "LayoutView",
            "align_content": null,
            "align_items": null,
            "align_self": null,
            "border": null,
            "bottom": null,
            "display": null,
            "flex": null,
            "flex_flow": null,
            "grid_area": null,
            "grid_auto_columns": null,
            "grid_auto_flow": null,
            "grid_auto_rows": null,
            "grid_column": null,
            "grid_gap": null,
            "grid_row": null,
            "grid_template_areas": null,
            "grid_template_columns": null,
            "grid_template_rows": null,
            "height": null,
            "justify_content": null,
            "justify_items": null,
            "left": null,
            "margin": null,
            "max_height": null,
            "max_width": null,
            "min_height": null,
            "min_width": null,
            "object_fit": null,
            "object_position": null,
            "order": null,
            "overflow": null,
            "overflow_x": null,
            "overflow_y": null,
            "padding": null,
            "right": null,
            "top": null,
            "visibility": null,
            "width": null
          }
        },
        "ea877ce38b7f401294a8b1792c3a4192": {
          "model_module": "@jupyter-widgets/base",
          "model_name": "LayoutModel",
          "model_module_version": "1.2.0",
          "state": {
            "_model_module": "@jupyter-widgets/base",
            "_model_module_version": "1.2.0",
            "_model_name": "LayoutModel",
            "_view_count": null,
            "_view_module": "@jupyter-widgets/base",
            "_view_module_version": "1.2.0",
            "_view_name": "LayoutView",
            "align_content": null,
            "align_items": null,
            "align_self": null,
            "border": null,
            "bottom": null,
            "display": null,
            "flex": null,
            "flex_flow": null,
            "grid_area": null,
            "grid_auto_columns": null,
            "grid_auto_flow": null,
            "grid_auto_rows": null,
            "grid_column": null,
            "grid_gap": null,
            "grid_row": null,
            "grid_template_areas": null,
            "grid_template_columns": null,
            "grid_template_rows": null,
            "height": null,
            "justify_content": null,
            "justify_items": null,
            "left": null,
            "margin": null,
            "max_height": null,
            "max_width": null,
            "min_height": null,
            "min_width": null,
            "object_fit": null,
            "object_position": null,
            "order": null,
            "overflow": null,
            "overflow_x": null,
            "overflow_y": null,
            "padding": null,
            "right": null,
            "top": null,
            "visibility": null,
            "width": null
          }
        },
        "935da6f3ef4345b8bd582658aa2e5cf8": {
          "model_module": "@jupyter-widgets/controls",
          "model_name": "DescriptionStyleModel",
          "model_module_version": "1.5.0",
          "state": {
            "_model_module": "@jupyter-widgets/controls",
            "_model_module_version": "1.5.0",
            "_model_name": "DescriptionStyleModel",
            "_view_count": null,
            "_view_module": "@jupyter-widgets/base",
            "_view_module_version": "1.2.0",
            "_view_name": "StyleView",
            "description_width": ""
          }
        },
        "ab48ccd14ed94a71944b3b8676364ed6": {
          "model_module": "@jupyter-widgets/base",
          "model_name": "LayoutModel",
          "model_module_version": "1.2.0",
          "state": {
            "_model_module": "@jupyter-widgets/base",
            "_model_module_version": "1.2.0",
            "_model_name": "LayoutModel",
            "_view_count": null,
            "_view_module": "@jupyter-widgets/base",
            "_view_module_version": "1.2.0",
            "_view_name": "LayoutView",
            "align_content": null,
            "align_items": null,
            "align_self": null,
            "border": null,
            "bottom": null,
            "display": null,
            "flex": null,
            "flex_flow": null,
            "grid_area": null,
            "grid_auto_columns": null,
            "grid_auto_flow": null,
            "grid_auto_rows": null,
            "grid_column": null,
            "grid_gap": null,
            "grid_row": null,
            "grid_template_areas": null,
            "grid_template_columns": null,
            "grid_template_rows": null,
            "height": null,
            "justify_content": null,
            "justify_items": null,
            "left": null,
            "margin": null,
            "max_height": null,
            "max_width": null,
            "min_height": null,
            "min_width": null,
            "object_fit": null,
            "object_position": null,
            "order": null,
            "overflow": null,
            "overflow_x": null,
            "overflow_y": null,
            "padding": null,
            "right": null,
            "top": null,
            "visibility": null,
            "width": null
          }
        },
        "9ad5d5d8a6e94f9ca416a65eaa0a4956": {
          "model_module": "@jupyter-widgets/controls",
          "model_name": "ProgressStyleModel",
          "model_module_version": "1.5.0",
          "state": {
            "_model_module": "@jupyter-widgets/controls",
            "_model_module_version": "1.5.0",
            "_model_name": "ProgressStyleModel",
            "_view_count": null,
            "_view_module": "@jupyter-widgets/base",
            "_view_module_version": "1.2.0",
            "_view_name": "StyleView",
            "bar_color": null,
            "description_width": ""
          }
        },
        "071e2e508be545369e2fd114a14e139a": {
          "model_module": "@jupyter-widgets/base",
          "model_name": "LayoutModel",
          "model_module_version": "1.2.0",
          "state": {
            "_model_module": "@jupyter-widgets/base",
            "_model_module_version": "1.2.0",
            "_model_name": "LayoutModel",
            "_view_count": null,
            "_view_module": "@jupyter-widgets/base",
            "_view_module_version": "1.2.0",
            "_view_name": "LayoutView",
            "align_content": null,
            "align_items": null,
            "align_self": null,
            "border": null,
            "bottom": null,
            "display": null,
            "flex": null,
            "flex_flow": null,
            "grid_area": null,
            "grid_auto_columns": null,
            "grid_auto_flow": null,
            "grid_auto_rows": null,
            "grid_column": null,
            "grid_gap": null,
            "grid_row": null,
            "grid_template_areas": null,
            "grid_template_columns": null,
            "grid_template_rows": null,
            "height": null,
            "justify_content": null,
            "justify_items": null,
            "left": null,
            "margin": null,
            "max_height": null,
            "max_width": null,
            "min_height": null,
            "min_width": null,
            "object_fit": null,
            "object_position": null,
            "order": null,
            "overflow": null,
            "overflow_x": null,
            "overflow_y": null,
            "padding": null,
            "right": null,
            "top": null,
            "visibility": null,
            "width": null
          }
        },
        "47dd1851f4ed4ad38a8a971f32cd6e4c": {
          "model_module": "@jupyter-widgets/controls",
          "model_name": "DescriptionStyleModel",
          "model_module_version": "1.5.0",
          "state": {
            "_model_module": "@jupyter-widgets/controls",
            "_model_module_version": "1.5.0",
            "_model_name": "DescriptionStyleModel",
            "_view_count": null,
            "_view_module": "@jupyter-widgets/base",
            "_view_module_version": "1.2.0",
            "_view_name": "StyleView",
            "description_width": ""
          }
        }
      }
    }
  },
  "nbformat": 4,
  "nbformat_minor": 0
}