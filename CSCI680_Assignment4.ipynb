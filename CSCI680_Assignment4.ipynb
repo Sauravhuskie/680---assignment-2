{
  "nbformat": 4,
  "nbformat_minor": 0,
  "metadata": {
    "colab": {
      "name": "CSCI680-Assignment4.ipynb",
      "provenance": [],
      "collapsed_sections": [],
      "toc_visible": true,
      "authorship_tag": "ABX9TyOlphb58GHgOOrNJmU4+dhe",
      "include_colab_link": true
    },
    "kernelspec": {
      "name": "python3",
      "display_name": "Python 3"
    },
    "language_info": {
      "name": "python"
    }
  },
  "cells": [
    {
      "cell_type": "markdown",
      "metadata": {
        "id": "view-in-github",
        "colab_type": "text"
      },
      "source": [
        "<a href=\"https://colab.research.google.com/github/Sauravhuskie/680---assignment-2/blob/main/CSCI680_Assignment4.ipynb\" target=\"_parent\"><img src=\"https://colab.research.google.com/assets/colab-badge.svg\" alt=\"Open In Colab\"/></a>"
      ]
    },
    {
      "cell_type": "markdown",
      "source": [
        "##References\n",
        "1. https://www.geeksforgeeks.org/how-to-convert-categorical-data-to-binary-data-in-python/\n",
        "\n",
        "2. https://scikit-learn.org/stable/modules/feature_selection.html\n",
        "\n"
      ],
      "metadata": {
        "id": "uUmzkoF1ARKY"
      }
    },
    {
      "cell_type": "markdown",
      "source": [
        "According to the World Health Organization (WHO), Stroke is the 2nd leading cause of\n",
        "death globally, responsible for approximately 11% of total deaths. In this assignment, we\n",
        "will work on the dataset that is used to predict whether a patient is likely to get stroke based\n",
        "on the input parameters like gender, age, various diseases, smoking status and others.\n",
        "The dataset is severely imbalanced with far more samples of negative class. Please see the\n",
        "attributes information below. You should handle missing values and categorical features\n",
        "accordingly.\n",
        "1) Id: Unique identifier\n",
        "2) Gender: \"Male\", \"Female\" or \"Other\"\n",
        "3) Age: Age of the patient\n",
        "4) Hypertension: 0 if the patient doesn't have hypertension, 1 if the patient has hypertension\n",
        "5) Heart_disease: 0 if the patient doesn't have any heart diseases, 1 if the patient has heart disease\n",
        "6) Ever_married: \"No\" or \"Yes\"\n",
        "7) Work_type: \"Children\", \"Govt_job\", \"Never_worked\", \"Private\" or \"Self-employed\"\n",
        "8) Residence_type: \"Rural\" or \"Urban\"\n",
        "9) Avg_glucose_level: Average glucose level in blood\n",
        "10) BMI: Body mass index\n",
        "11) Smoking_status: \"formerly smoked\", \"never smoked\", \"smokes\" or \"Unknown\"*\n",
        "12) Stroke: 1 if the patient had a stroke or 0 if not\n"
      ],
      "metadata": {
        "id": "jGh9dhtUykmu"
      }
    },
    {
      "cell_type": "markdown",
      "source": [
        "## Importing the data and creating the dataset"
      ],
      "metadata": {
        "id": "CzPRHvp1R9q9"
      }
    },
    {
      "cell_type": "code",
      "source": [
        "import numpy as np\n",
        "import pandas as pd\n",
        "from sklearn.model_selection import train_test_split\n",
        "from sklearn.metrics import average_precision_score\n",
        "import matplotlib.pyplot as plt\n",
        "from sklearn.metrics import precision_recall_curve"
      ],
      "metadata": {
        "id": "YloY99gGzQe1"
      },
      "execution_count": 140,
      "outputs": []
    },
    {
      "cell_type": "code",
      "execution_count": 141,
      "metadata": {
        "id": "FDnON_Y4yS99"
      },
      "outputs": [],
      "source": [
        "#importing the data\n",
        "datalink = \"https://raw.githubusercontent.com/Sauravhuskie/CSCI680---Assignment4/main/healthcare-dataset-stroke-data.csv\"\n",
        "stroke_data = pd.read_csv(datalink) \n",
        "\n"
      ]
    },
    {
      "cell_type": "code",
      "source": [
        "df = stroke_data\n",
        "#get all categorical columns\n",
        "cat_columns = df.select_dtypes(['object']).columns\n",
        "\n",
        "#convert all categorical columns to numeric\n",
        "df[cat_columns] = df[cat_columns].apply(lambda x: pd.factorize(x)[0])\n",
        "\n",
        "#view updated DataFrame\n",
        "df\n"
      ],
      "metadata": {
        "id": "NzvfVEj9CNhY",
        "colab": {
          "base_uri": "https://localhost:8080/",
          "height": 424
        },
        "outputId": "b31f2c4c-d52f-405b-81af-54fe3382af2c"
      },
      "execution_count": 142,
      "outputs": [
        {
          "output_type": "execute_result",
          "data": {
            "text/plain": [
              "         id  gender   age  hypertension  heart_disease  ever_married  \\\n",
              "0      9046       0  67.0             0              1             0   \n",
              "1     51676       1  61.0             0              0             0   \n",
              "2     31112       0  80.0             0              1             0   \n",
              "3     60182       1  49.0             0              0             0   \n",
              "4      1665       1  79.0             1              0             0   \n",
              "...     ...     ...   ...           ...            ...           ...   \n",
              "5105  18234       1  80.0             1              0             0   \n",
              "5106  44873       1  81.0             0              0             0   \n",
              "5107  19723       1  35.0             0              0             0   \n",
              "5108  37544       0  51.0             0              0             0   \n",
              "5109  44679       1  44.0             0              0             0   \n",
              "\n",
              "      work_type  Residence_type  avg_glucose_level   bmi  smoking_status  \\\n",
              "0             0               0             228.69  36.6               0   \n",
              "1             1               1             202.21   NaN               1   \n",
              "2             0               1             105.92  32.5               1   \n",
              "3             0               0             171.23  34.4               2   \n",
              "4             1               1             174.12  24.0               1   \n",
              "...         ...             ...                ...   ...             ...   \n",
              "5105          0               0              83.75   NaN               1   \n",
              "5106          1               0             125.20  40.0               1   \n",
              "5107          1               1              82.99  30.6               1   \n",
              "5108          0               1             166.29  25.6               0   \n",
              "5109          2               0              85.28  26.2               3   \n",
              "\n",
              "      stroke  \n",
              "0          1  \n",
              "1          1  \n",
              "2          1  \n",
              "3          1  \n",
              "4          1  \n",
              "...      ...  \n",
              "5105       0  \n",
              "5106       0  \n",
              "5107       0  \n",
              "5108       0  \n",
              "5109       0  \n",
              "\n",
              "[5110 rows x 12 columns]"
            ],
            "text/html": [
              "\n",
              "  <div id=\"df-cf0682ee-8b5b-4cb3-acc8-ba61d89c149a\">\n",
              "    <div class=\"colab-df-container\">\n",
              "      <div>\n",
              "<style scoped>\n",
              "    .dataframe tbody tr th:only-of-type {\n",
              "        vertical-align: middle;\n",
              "    }\n",
              "\n",
              "    .dataframe tbody tr th {\n",
              "        vertical-align: top;\n",
              "    }\n",
              "\n",
              "    .dataframe thead th {\n",
              "        text-align: right;\n",
              "    }\n",
              "</style>\n",
              "<table border=\"1\" class=\"dataframe\">\n",
              "  <thead>\n",
              "    <tr style=\"text-align: right;\">\n",
              "      <th></th>\n",
              "      <th>id</th>\n",
              "      <th>gender</th>\n",
              "      <th>age</th>\n",
              "      <th>hypertension</th>\n",
              "      <th>heart_disease</th>\n",
              "      <th>ever_married</th>\n",
              "      <th>work_type</th>\n",
              "      <th>Residence_type</th>\n",
              "      <th>avg_glucose_level</th>\n",
              "      <th>bmi</th>\n",
              "      <th>smoking_status</th>\n",
              "      <th>stroke</th>\n",
              "    </tr>\n",
              "  </thead>\n",
              "  <tbody>\n",
              "    <tr>\n",
              "      <th>0</th>\n",
              "      <td>9046</td>\n",
              "      <td>0</td>\n",
              "      <td>67.0</td>\n",
              "      <td>0</td>\n",
              "      <td>1</td>\n",
              "      <td>0</td>\n",
              "      <td>0</td>\n",
              "      <td>0</td>\n",
              "      <td>228.69</td>\n",
              "      <td>36.6</td>\n",
              "      <td>0</td>\n",
              "      <td>1</td>\n",
              "    </tr>\n",
              "    <tr>\n",
              "      <th>1</th>\n",
              "      <td>51676</td>\n",
              "      <td>1</td>\n",
              "      <td>61.0</td>\n",
              "      <td>0</td>\n",
              "      <td>0</td>\n",
              "      <td>0</td>\n",
              "      <td>1</td>\n",
              "      <td>1</td>\n",
              "      <td>202.21</td>\n",
              "      <td>NaN</td>\n",
              "      <td>1</td>\n",
              "      <td>1</td>\n",
              "    </tr>\n",
              "    <tr>\n",
              "      <th>2</th>\n",
              "      <td>31112</td>\n",
              "      <td>0</td>\n",
              "      <td>80.0</td>\n",
              "      <td>0</td>\n",
              "      <td>1</td>\n",
              "      <td>0</td>\n",
              "      <td>0</td>\n",
              "      <td>1</td>\n",
              "      <td>105.92</td>\n",
              "      <td>32.5</td>\n",
              "      <td>1</td>\n",
              "      <td>1</td>\n",
              "    </tr>\n",
              "    <tr>\n",
              "      <th>3</th>\n",
              "      <td>60182</td>\n",
              "      <td>1</td>\n",
              "      <td>49.0</td>\n",
              "      <td>0</td>\n",
              "      <td>0</td>\n",
              "      <td>0</td>\n",
              "      <td>0</td>\n",
              "      <td>0</td>\n",
              "      <td>171.23</td>\n",
              "      <td>34.4</td>\n",
              "      <td>2</td>\n",
              "      <td>1</td>\n",
              "    </tr>\n",
              "    <tr>\n",
              "      <th>4</th>\n",
              "      <td>1665</td>\n",
              "      <td>1</td>\n",
              "      <td>79.0</td>\n",
              "      <td>1</td>\n",
              "      <td>0</td>\n",
              "      <td>0</td>\n",
              "      <td>1</td>\n",
              "      <td>1</td>\n",
              "      <td>174.12</td>\n",
              "      <td>24.0</td>\n",
              "      <td>1</td>\n",
              "      <td>1</td>\n",
              "    </tr>\n",
              "    <tr>\n",
              "      <th>...</th>\n",
              "      <td>...</td>\n",
              "      <td>...</td>\n",
              "      <td>...</td>\n",
              "      <td>...</td>\n",
              "      <td>...</td>\n",
              "      <td>...</td>\n",
              "      <td>...</td>\n",
              "      <td>...</td>\n",
              "      <td>...</td>\n",
              "      <td>...</td>\n",
              "      <td>...</td>\n",
              "      <td>...</td>\n",
              "    </tr>\n",
              "    <tr>\n",
              "      <th>5105</th>\n",
              "      <td>18234</td>\n",
              "      <td>1</td>\n",
              "      <td>80.0</td>\n",
              "      <td>1</td>\n",
              "      <td>0</td>\n",
              "      <td>0</td>\n",
              "      <td>0</td>\n",
              "      <td>0</td>\n",
              "      <td>83.75</td>\n",
              "      <td>NaN</td>\n",
              "      <td>1</td>\n",
              "      <td>0</td>\n",
              "    </tr>\n",
              "    <tr>\n",
              "      <th>5106</th>\n",
              "      <td>44873</td>\n",
              "      <td>1</td>\n",
              "      <td>81.0</td>\n",
              "      <td>0</td>\n",
              "      <td>0</td>\n",
              "      <td>0</td>\n",
              "      <td>1</td>\n",
              "      <td>0</td>\n",
              "      <td>125.20</td>\n",
              "      <td>40.0</td>\n",
              "      <td>1</td>\n",
              "      <td>0</td>\n",
              "    </tr>\n",
              "    <tr>\n",
              "      <th>5107</th>\n",
              "      <td>19723</td>\n",
              "      <td>1</td>\n",
              "      <td>35.0</td>\n",
              "      <td>0</td>\n",
              "      <td>0</td>\n",
              "      <td>0</td>\n",
              "      <td>1</td>\n",
              "      <td>1</td>\n",
              "      <td>82.99</td>\n",
              "      <td>30.6</td>\n",
              "      <td>1</td>\n",
              "      <td>0</td>\n",
              "    </tr>\n",
              "    <tr>\n",
              "      <th>5108</th>\n",
              "      <td>37544</td>\n",
              "      <td>0</td>\n",
              "      <td>51.0</td>\n",
              "      <td>0</td>\n",
              "      <td>0</td>\n",
              "      <td>0</td>\n",
              "      <td>0</td>\n",
              "      <td>1</td>\n",
              "      <td>166.29</td>\n",
              "      <td>25.6</td>\n",
              "      <td>0</td>\n",
              "      <td>0</td>\n",
              "    </tr>\n",
              "    <tr>\n",
              "      <th>5109</th>\n",
              "      <td>44679</td>\n",
              "      <td>1</td>\n",
              "      <td>44.0</td>\n",
              "      <td>0</td>\n",
              "      <td>0</td>\n",
              "      <td>0</td>\n",
              "      <td>2</td>\n",
              "      <td>0</td>\n",
              "      <td>85.28</td>\n",
              "      <td>26.2</td>\n",
              "      <td>3</td>\n",
              "      <td>0</td>\n",
              "    </tr>\n",
              "  </tbody>\n",
              "</table>\n",
              "<p>5110 rows × 12 columns</p>\n",
              "</div>\n",
              "      <button class=\"colab-df-convert\" onclick=\"convertToInteractive('df-cf0682ee-8b5b-4cb3-acc8-ba61d89c149a')\"\n",
              "              title=\"Convert this dataframe to an interactive table.\"\n",
              "              style=\"display:none;\">\n",
              "        \n",
              "  <svg xmlns=\"http://www.w3.org/2000/svg\" height=\"24px\"viewBox=\"0 0 24 24\"\n",
              "       width=\"24px\">\n",
              "    <path d=\"M0 0h24v24H0V0z\" fill=\"none\"/>\n",
              "    <path d=\"M18.56 5.44l.94 2.06.94-2.06 2.06-.94-2.06-.94-.94-2.06-.94 2.06-2.06.94zm-11 1L8.5 8.5l.94-2.06 2.06-.94-2.06-.94L8.5 2.5l-.94 2.06-2.06.94zm10 10l.94 2.06.94-2.06 2.06-.94-2.06-.94-.94-2.06-.94 2.06-2.06.94z\"/><path d=\"M17.41 7.96l-1.37-1.37c-.4-.4-.92-.59-1.43-.59-.52 0-1.04.2-1.43.59L10.3 9.45l-7.72 7.72c-.78.78-.78 2.05 0 2.83L4 21.41c.39.39.9.59 1.41.59.51 0 1.02-.2 1.41-.59l7.78-7.78 2.81-2.81c.8-.78.8-2.07 0-2.86zM5.41 20L4 18.59l7.72-7.72 1.47 1.35L5.41 20z\"/>\n",
              "  </svg>\n",
              "      </button>\n",
              "      \n",
              "  <style>\n",
              "    .colab-df-container {\n",
              "      display:flex;\n",
              "      flex-wrap:wrap;\n",
              "      gap: 12px;\n",
              "    }\n",
              "\n",
              "    .colab-df-convert {\n",
              "      background-color: #E8F0FE;\n",
              "      border: none;\n",
              "      border-radius: 50%;\n",
              "      cursor: pointer;\n",
              "      display: none;\n",
              "      fill: #1967D2;\n",
              "      height: 32px;\n",
              "      padding: 0 0 0 0;\n",
              "      width: 32px;\n",
              "    }\n",
              "\n",
              "    .colab-df-convert:hover {\n",
              "      background-color: #E2EBFA;\n",
              "      box-shadow: 0px 1px 2px rgba(60, 64, 67, 0.3), 0px 1px 3px 1px rgba(60, 64, 67, 0.15);\n",
              "      fill: #174EA6;\n",
              "    }\n",
              "\n",
              "    [theme=dark] .colab-df-convert {\n",
              "      background-color: #3B4455;\n",
              "      fill: #D2E3FC;\n",
              "    }\n",
              "\n",
              "    [theme=dark] .colab-df-convert:hover {\n",
              "      background-color: #434B5C;\n",
              "      box-shadow: 0px 1px 3px 1px rgba(0, 0, 0, 0.15);\n",
              "      filter: drop-shadow(0px 1px 2px rgba(0, 0, 0, 0.3));\n",
              "      fill: #FFFFFF;\n",
              "    }\n",
              "  </style>\n",
              "\n",
              "      <script>\n",
              "        const buttonEl =\n",
              "          document.querySelector('#df-cf0682ee-8b5b-4cb3-acc8-ba61d89c149a button.colab-df-convert');\n",
              "        buttonEl.style.display =\n",
              "          google.colab.kernel.accessAllowed ? 'block' : 'none';\n",
              "\n",
              "        async function convertToInteractive(key) {\n",
              "          const element = document.querySelector('#df-cf0682ee-8b5b-4cb3-acc8-ba61d89c149a');\n",
              "          const dataTable =\n",
              "            await google.colab.kernel.invokeFunction('convertToInteractive',\n",
              "                                                     [key], {});\n",
              "          if (!dataTable) return;\n",
              "\n",
              "          const docLinkHtml = 'Like what you see? Visit the ' +\n",
              "            '<a target=\"_blank\" href=https://colab.research.google.com/notebooks/data_table.ipynb>data table notebook</a>'\n",
              "            + ' to learn more about interactive tables.';\n",
              "          element.innerHTML = '';\n",
              "          dataTable['output_type'] = 'display_data';\n",
              "          await google.colab.output.renderOutput(dataTable, element);\n",
              "          const docLink = document.createElement('div');\n",
              "          docLink.innerHTML = docLinkHtml;\n",
              "          element.appendChild(docLink);\n",
              "        }\n",
              "      </script>\n",
              "    </div>\n",
              "  </div>\n",
              "  "
            ]
          },
          "metadata": {},
          "execution_count": 142
        }
      ]
    },
    {
      "cell_type": "markdown",
      "source": [
        "Chopping the data in X and y to make them ready for the questions."
      ],
      "metadata": {
        "id": "SzeuZO51RsHY"
      }
    },
    {
      "cell_type": "code",
      "source": [
        "\n",
        "df1 =df.dropna(axis='columns')\n",
        "X = df1.drop(columns =['id','stroke'])\n",
        "y = Target = df1.stroke"
      ],
      "metadata": {
        "id": "X6dJ6Yx_O38C"
      },
      "execution_count": 168,
      "outputs": []
    },
    {
      "cell_type": "markdown",
      "source": [
        "## Q1. Train a Decision Tree, Random Forest and Gradient Boosting algorithm to set a baseline performance. Use ROC AUC and Average Precision metrics for your evaluation. Also, show the precision and recall for both classes. Don’t balance the dataset."
      ],
      "metadata": {
        "id": "o5KAu_i8yjYX"
      }
    },
    {
      "cell_type": "markdown",
      "source": [
        "###Training Decision tree classifier"
      ],
      "metadata": {
        "id": "Gondxm7IUsKm"
      }
    },
    {
      "cell_type": "code",
      "source": [
        "# performing test and train split\n",
        "X_train_tree, X_test_tree, y_train_tree, y_test_tree = train_test_split(X,Target,\n",
        "                                                    stratify=stroke_data.stroke,\n",
        "                                                    random_state=0)\n",
        "from sklearn.tree import DecisionTreeClassifier, export_graphviz\n",
        "tree = DecisionTreeClassifier(max_depth=4)\n",
        "tree.fit(X_train_tree, y_train_tree)\n",
        "\n",
        "from sklearn.tree import plot_tree\n",
        "tree_dot = plot_tree(tree, feature_names=df1.columns)\n",
        "tree.score(X_test_tree, y_test_tree)\n",
        "y_pred_tree = tree.predict(X_test_tree)\n"
      ],
      "metadata": {
        "id": "N4yZSjRL1ycF",
        "colab": {
          "base_uri": "https://localhost:8080/",
          "height": 248
        },
        "outputId": "8b72e7b0-35fd-434a-c8dd-8baaa02f41be"
      },
      "execution_count": 144,
      "outputs": [
        {
          "output_type": "display_data",
          "data": {
            "text/plain": [
              "<Figure size 432x288 with 1 Axes>"
            ],
            "image/png": "[encoded data removed]"
          },
          "metadata": {
            "needs_background": "light"
          }
        }
      ]
    },
    {
      "cell_type": "code",
      "source": [
        "from sklearn.metrics import accuracy_score\n",
        "tree_accuracy = accuracy_score(y_test_tree, y_pred_tree, normalize=False)\n",
        "tree_score = tree.score(X_test_tree, y_test_tree)\n"
      ],
      "metadata": {
        "id": "dtz7p387eTzF"
      },
      "execution_count": 145,
      "outputs": []
    },
    {
      "cell_type": "code",
      "source": [
        "y_score_tree = tree.predict_proba(X_test_tree)[:, 1]\n",
        "#calculate precision and recall\n",
        "precision_tree, recall_tree, thresholds_tree = precision_recall_curve(y_test_tree, y_score_tree)"
      ],
      "metadata": {
        "id": "KsIEk72MjBd3"
      },
      "execution_count": 146,
      "outputs": []
    },
    {
      "cell_type": "markdown",
      "source": [
        "###Training RandomForestClassifier"
      ],
      "metadata": {
        "id": "YR9tDP_-UxXH"
      }
    },
    {
      "cell_type": "code",
      "source": [
        "# performing test and train split\n",
        "X_train_rf, X_test_rf, y_train_rf, y_test_rf = train_test_split(X,Target,\n",
        "                                                    stratify=stroke_data.stroke,\n",
        "                                                    random_state=0)\n",
        "from sklearn.ensemble import RandomForestClassifier\n",
        "rf = RandomForestClassifier(warm_start=True)\n",
        "estimator_range = range(1, 100, 5)\n",
        "rf.fit(X_train_rf, y_train_rf)\n",
        "y_pred_rf = rf.predict(X_test_rf)"
      ],
      "metadata": {
        "id": "ilrpErZWUj74"
      },
      "execution_count": 147,
      "outputs": []
    },
    {
      "cell_type": "code",
      "source": [
        "from sklearn.metrics import accuracy_score\n",
        "rf_accuracy = accuracy_score(y_test_rf, y_pred_rf, normalize=False)\n",
        "rf_score = rf.score(X_test_rf, y_test_rf)\n",
        "\n"
      ],
      "metadata": {
        "id": "sv-wr0OLeksw"
      },
      "execution_count": 148,
      "outputs": []
    },
    {
      "cell_type": "code",
      "source": [
        "y_score_rf = rf.predict_proba(X_test_rf)[:, 1]\n",
        "#calculate precision and recall\n",
        "precision_rf, recall_rf, thresholds_rf = precision_recall_curve(y_test_rf, y_score_rf)"
      ],
      "metadata": {
        "id": "NMOGKZyPjXwl"
      },
      "execution_count": 149,
      "outputs": []
    },
    {
      "cell_type": "markdown",
      "source": [
        "### Traininng Gradient Boosting Classifier"
      ],
      "metadata": {
        "id": "lPSv7jeLZFzu"
      }
    },
    {
      "cell_type": "code",
      "source": [
        "# performing test and train split\n",
        "X_train_gb, X_test_gb, y_train_gb, y_test_gb = train_test_split(X,Target,\n",
        "                                                    stratify=stroke_data.stroke,\n",
        "                                                    random_state=0)\n",
        "from sklearn.ensemble import GradientBoostingClassifier\n",
        "gb = GradientBoostingClassifier(n_estimators=100, learning_rate=1.0,max_depth=1, random_state=0).fit(X_train_gb, y_train_gb)\n",
        "gb.score(X_test_gb, y_test_gb)\n",
        "y_pred_gb = gb.predict(X_test_gb)"
      ],
      "metadata": {
        "id": "OuGtZzBtU8f2"
      },
      "execution_count": 150,
      "outputs": []
    },
    {
      "cell_type": "code",
      "source": [
        "from sklearn.metrics import accuracy_score\n",
        "gb_accuracy = accuracy_score(y_test_gb, y_pred_gb, normalize=False)\n",
        "gb_score = rf.score(X_test_gb, y_test)\n"
      ],
      "metadata": {
        "id": "aJmTH4ajeuT9"
      },
      "execution_count": 151,
      "outputs": []
    },
    {
      "cell_type": "code",
      "source": [
        "y_score_gb = gb.predict_proba(X_test_gb)[:, 1]\n",
        "#calculate precision and recall\n",
        "precision_gb, recall_gb, thresholds_gb = precision_recall_curve(y_test_gb, y_score_gb)"
      ],
      "metadata": {
        "id": "V4BnwJ6-joKe"
      },
      "execution_count": 152,
      "outputs": []
    },
    {
      "cell_type": "markdown",
      "source": [
        " ### Creating ROC AUC for decision tree, gradient boosting, and random forest\n",
        "\n"
      ],
      "metadata": {
        "id": "fMy0t-KnYYLf"
      }
    },
    {
      "cell_type": "code",
      "source": [
        "import warnings\n",
        "from sklearn.metrics import plot_roc_curve\n",
        "warnings.filterwarnings('ignore')\n",
        "rfc_disp = plot_roc_curve(rf, X_test, y_test)\n",
        "gb_disp = plot_roc_curve(gb, X_test, y_test, ax = rfc_disp.ax_)\n",
        "tree_disp = plot_roc_curve(tree, X_test, y_test, ax = rfc_disp.ax_)\n",
        "rfc_disp.figure_.suptitle(\"ROC curve comparison\")\n",
        "\n"
      ],
      "metadata": {
        "colab": {
          "base_uri": "https://localhost:8080/",
          "height": 326
        },
        "id": "SsJjfXhYdzVf",
        "outputId": "31a057d2-df14-451d-9c88-63cd062da8ba"
      },
      "execution_count": 153,
      "outputs": [
        {
          "output_type": "execute_result",
          "data": {
            "text/plain": [
              "Text(0.5, 0.98, 'ROC curve comparison')"
            ]
          },
          "metadata": {},
          "execution_count": 153
        },
        {
          "output_type": "display_data",
          "data": {
            "text/plain": [
              "<Figure size 432x288 with 1 Axes>"
            ],
            "image/png": "[encoded data removed]"
          },
          "metadata": {
            "needs_background": "light"
          }
        }
      ]
    },
    {
      "cell_type": "markdown",
      "source": [
        "###Accuracy Scores"
      ],
      "metadata": {
        "id": "wL8b9jtfcthG"
      }
    },
    {
      "cell_type": "code",
      "source": [
        "print(\"Algorithm    |Number of Accurate Predictions    |  Score\")\n",
        "print (\"Decision Tree |   \",tree_accuracy, \" |      \", tree_score )\n",
        "print (\"Random Forest  |   \",rf_accuracy,  \" |      \", rf_score )\n",
        "print (\"Gradiant Boosting |   \",gb_accuracy, \" |     \", gb_score )\n",
        "\n"
      ],
      "metadata": {
        "colab": {
          "base_uri": "https://localhost:8080/"
        },
        "id": "KpNNm8jPgECd",
        "outputId": "0e56c976-780c-4050-e0a4-e6d737af2630"
      },
      "execution_count": 154,
      "outputs": [
        {
          "output_type": "stream",
          "name": "stdout",
          "text": [
            "Algorithm    |Number of Accurate Predictions    |  Score\n",
            "Decision Tree |    1214  |       0.9499217527386542\n",
            "Random Forest  |    1214  |       0.9499217527386542\n",
            "Gradiant Boosting |    1216  |      0.9499217527386542\n"
          ]
        }
      ]
    },
    {
      "cell_type": "markdown",
      "source": [
        "###Precision and Recall"
      ],
      "metadata": {
        "id": "nVjBFUxiwmAu"
      }
    },
    {
      "cell_type": "code",
      "source": [
        "import numpy as np"
      ],
      "metadata": {
        "id": "-mxY98y-xV2s"
      },
      "execution_count": 155,
      "outputs": []
    },
    {
      "cell_type": "code",
      "source": [
        "print (\"Decision Tree average Precision\",np.average(precision_tree), \"and average Recall\", np.average(recall_tree))\n",
        "print (\"Random Forest average Precision\",np.average(precision_rf), \"and average Recall\", np.average(recall_rf))\n",
        "print (\"Decision Gradient Boosting average Precision\",np.average(precision_gb), \"and average Recall\", np.average(recall_gb))\n",
        "\n"
      ],
      "metadata": {
        "colab": {
          "base_uri": "https://localhost:8080/"
        },
        "id": "TwSku8t5wlqk",
        "outputId": "3e9c4198-5261-4b62-9211-b0cd3f1e74a8"
      },
      "execution_count": 156,
      "outputs": [
        {
          "output_type": "stream",
          "name": "stdout",
          "text": [
            "Decision Tree average Precision 0.18099939304490706 and average Recall 0.535483870967742\n",
            "Random Forest average Precision 0.15529251113620104 and average Recall 0.2732258064516129\n",
            "Decision Gradient Boosting average Precision 0.12738934707629493 and average Recall 0.6246705158779967\n"
          ]
        }
      ]
    },
    {
      "cell_type": "markdown",
      "source": [
        "### Precision Recall for Decision Tree\n",
        "\n",
        "\n"
      ],
      "metadata": {
        "id": "nMcRhqh5hnm0"
      }
    },
    {
      "cell_type": "code",
      "source": [
        "from sklearn.metrics import PrecisionRecallDisplay\n",
        "\n",
        "display = PrecisionRecallDisplay.from_estimator(\n",
        "    tree, X_test_tree, y_test_tree, name=\"Decision Tree\"\n",
        ")\n",
        "_ = display.ax_.set_title(\"2-class Precision-Recall curve\")"
      ],
      "metadata": {
        "colab": {
          "base_uri": "https://localhost:8080/",
          "height": 295
        },
        "id": "einYwdI0nidV",
        "outputId": "73b24c49-a357-4060-f135-3e166250db61"
      },
      "execution_count": 157,
      "outputs": [
        {
          "output_type": "display_data",
          "data": {
            "text/plain": [
              "<Figure size 432x288 with 1 Axes>"
            ],
            "image/png": "[encoded data removed]"
          },
          "metadata": {
            "needs_background": "light"
          }
        }
      ]
    },
    {
      "cell_type": "markdown",
      "source": [
        "### Precision Recall for Gradient Boostion\n"
      ],
      "metadata": {
        "id": "PT36QiCxoUK7"
      }
    },
    {
      "cell_type": "code",
      "source": [
        "from sklearn.metrics import PrecisionRecallDisplay\n",
        "\n",
        "display = PrecisionRecallDisplay.from_estimator(\n",
        "    gb, X_test_gb, y_test_gb, name=\"Gradiant boosting\"\n",
        ")\n",
        "_ = display.ax_.set_title(\"2-class Precision-Recall curve\")"
      ],
      "metadata": {
        "colab": {
          "base_uri": "https://localhost:8080/",
          "height": 295
        },
        "id": "sfjgKdA3n3nL",
        "outputId": "997211d8-b601-4d4d-fb9f-23a8c66e7345"
      },
      "execution_count": 158,
      "outputs": [
        {
          "output_type": "display_data",
          "data": {
            "text/plain": [
              "<Figure size 432x288 with 1 Axes>"
            ],
            "image/png": "[encoded data removed]"
          },
          "metadata": {
            "needs_background": "light"
          }
        }
      ]
    },
    {
      "cell_type": "markdown",
      "source": [
        "### Precision Recall for Random forest\n"
      ],
      "metadata": {
        "id": "5bfu7f6Bobq7"
      }
    },
    {
      "cell_type": "code",
      "source": [
        "from sklearn.metrics import PrecisionRecallDisplay\n",
        "\n",
        "display = PrecisionRecallDisplay.from_estimator(\n",
        "    rf, X_test_rf, y_test_rf, name=\"Random Forest\"\n",
        ")\n",
        "_ = display.ax_.set_title(\"2-class Precision-Recall curve\")"
      ],
      "metadata": {
        "colab": {
          "base_uri": "https://localhost:8080/",
          "height": 295
        },
        "id": "wW5dmGYvoGWO",
        "outputId": "2e150552-b336-41ba-bf3a-531cfc420295"
      },
      "execution_count": 159,
      "outputs": [
        {
          "output_type": "display_data",
          "data": {
            "text/plain": [
              "<Figure size 432x288 with 1 Axes>"
            ],
            "image/png": "[encoded data removed]"
          },
          "metadata": {
            "needs_background": "light"
          }
        }
      ]
    },
    {
      "cell_type": "markdown",
      "source": [
        "##Q2. Balance the dataset using any 4 methods we have discussed in the class and again train a Decision Tree, Random Forest and Gradient Boosting algorithm to compare the performance with models from Q1."
      ],
      "metadata": {
        "id": "8MPdfKTUyvw1"
      }
    },
    {
      "cell_type": "markdown",
      "source": [
        "The 4 methods to balance a datset are : oversampling, undersampling, class weight, and decision threshold. As oversampling workes better than undersampling therefore I will do Oversampling.\n"
      ],
      "metadata": {
        "id": "6RDvbbMmBBuL"
      }
    },
    {
      "cell_type": "code",
      "source": [
        ""
      ],
      "metadata": {
        "id": "0Vr0GdrNnmWQ",
        "colab": {
          "base_uri": "https://localhost:8080/"
        },
        "outputId": "cf919352-f697-4a9c-da75-31bf7c2ea51f"
      },
      "execution_count": 122,
      "outputs": [
        {
          "output_type": "stream",
          "name": "stdout",
          "text": [
            "(3832, 9)\n",
            "(7290, 9)\n",
            "[3645 3645]\n"
          ]
        }
      ]
    },
    {
      "cell_type": "markdown",
      "source": [
        "##recreating decision tree model with Over Sampling\n",
        "\n"
      ],
      "metadata": {
        "id": "iiNDP9RGCwtj"
      }
    },
    {
      "cell_type": "code",
      "source": [
        "# performing test and train split\n",
        "X_train_tree1, X_test_tree1, y_train_tree1, y_test_tree1 = train_test_split(X,Target,\n",
        "                                                    stratify=stroke_data.stroke,\n",
        "                                                    random_state=0)\n",
        "from imblearn.over_sampling import RandomOverSampler\n",
        "ros = RandomOverSampler()\n",
        "X_train_os_tree, y_train_os_tree = ros.fit_resample(X_train_tree1, y_train_tree1)\n",
        "print(X_train_tree1.shape)\n",
        "print(X_train_os_tree.shape)\n",
        "print(np.bincount(y_train_os_tree))\n",
        "\n",
        "from sklearn.tree import DecisionTreeClassifier, export_graphviz\n",
        "tree1 = DecisionTreeClassifier(max_depth=4)\n",
        "tree1.fit(X_train_os_tree, y_train_os_tree)\n",
        "\n",
        "from sklearn.tree import plot_tree\n",
        "tree1_dot = plot_tree(tree1, feature_names=df1.columns)\n",
        "tree1.score(X_test_tree1, y_test_tree1)\n",
        "y_pred_tree1 = tree.predict(X_test_tree1)\n",
        "\n",
        "from sklearn.metrics import accuracy_score\n",
        "tree_accuracy1 = accuracy_score(y_test_tree1, y_pred_tree1, normalize=False)\n",
        "tree_score1 = tree.score(X_test_tree1, y_test_tree1)\n",
        "\n",
        "y_score_tree1 = tree.predict_proba(X_test_tree1)[:, 1]\n",
        "#calculate precision and recall\n",
        "precision_tree1, recall_tree1, thresholds_tree1 = precision_recall_curve(y_test_tree1, y_score_tree1)\n"
      ],
      "metadata": {
        "colab": {
          "base_uri": "https://localhost:8080/",
          "height": 303
        },
        "id": "AdgOoi8bC2RC",
        "outputId": "dc704418-f4c0-48ab-d49c-730bb81bcb61"
      },
      "execution_count": 124,
      "outputs": [
        {
          "output_type": "stream",
          "name": "stdout",
          "text": [
            "(3832, 9)\n",
            "(7290, 9)\n",
            "[3645 3645]\n"
          ]
        },
        {
          "output_type": "display_data",
          "data": {
            "text/plain": [
              "<Figure size 432x288 with 1 Axes>"
            ],
            "image/png": "[encoded data removed]"
          },
          "metadata": {
            "needs_background": "light"
          }
        }
      ]
    },
    {
      "cell_type": "markdown",
      "source": [
        "##recreating random forest  model\n"
      ],
      "metadata": {
        "id": "RKcuLqh8DP5T"
      }
    },
    {
      "cell_type": "code",
      "source": [
        "# performing test and train split\n",
        "X_train_df1, X_test_df1, y_train_df1, y_test_df1 = train_test_split(X,Target,\n",
        "                                                    stratify=stroke_data.stroke,\n",
        "                                                    random_state=0)\n",
        "from imblearn.over_sampling import RandomOverSampler\n",
        "ros = RandomOverSampler()\n",
        "X_train_os_df1, y_train_os_df1 = ros.fit_resample(X_train_df1, y_train_df1)\n",
        "print(X_train_df1.shape)\n",
        "print(X_train_os_df1.shape)\n",
        "print(np.bincount(y_train_os_df))\n",
        "\n",
        "from sklearn.ensemble import RandomForestClassifier\n",
        "rf = RandomForestClassifier(warm_start=True)\n",
        "estimator_range = range(1, 100, 5)\n",
        "rf.fit(X_train_os_df1, y_train_os_df1)\n",
        "y_pred_rf1 = rf.predict(X_test_df1)\n",
        "\n",
        "from sklearn.metrics import accuracy_score\n",
        "rf_accuracy1 = accuracy_score(y_test_df1, y_pred_rf1, normalize=False)\n",
        "rf_score1= rf.score(X_test_df1, y_test_df1)\n",
        "y_score_rf1= rf.predict_proba(X_test_df1)[:, 1]\n",
        "#calculate precision and recall\n",
        "precision_rf1, recall_rf1, thresholds_rf1 = precision_recall_curve(y_test_df1, y_score_rf1)\n"
      ],
      "metadata": {
        "colab": {
          "base_uri": "https://localhost:8080/"
        },
        "id": "-U9HNaHoDcPi",
        "outputId": "2c2ebde1-8e85-4b19-d4df-9aa6d7f4ed69"
      },
      "execution_count": 129,
      "outputs": [
        {
          "output_type": "stream",
          "name": "stdout",
          "text": [
            "(3832, 9)\n",
            "(7290, 9)\n",
            "[3645 3645]\n"
          ]
        }
      ]
    },
    {
      "cell_type": "markdown",
      "source": [
        "##rereating Gradiant Boosting Model\n"
      ],
      "metadata": {
        "id": "wdyBOxg3F6kc"
      }
    },
    {
      "cell_type": "code",
      "source": [
        "# performing test and train split\n",
        "X_train_gb1, X_test_gb1, y_train_gb1, y_test_gb1 = train_test_split(X,Target,\n",
        "                                                    stratify=stroke_data.stroke,\n",
        "                                                    random_state=0)\n",
        "from imblearn.over_sampling import RandomOverSampler\n",
        "ros = RandomOverSampler()\n",
        "X_train_os_gb1, y_train_os_gb1 = ros.fit_resample(X_train_gb1, y_train_gb1)\n",
        "print(X_train_gb1.shape)\n",
        "print(X_train_os_gb1.shape)\n",
        "print(np.bincount(y_train_os_gb1))\n",
        "\n",
        "from sklearn.ensemble import GradientBoostingClassifier\n",
        "gb = GradientBoostingClassifier(n_estimators=100, learning_rate=1.0,max_depth=1, random_state=0).fit(X_train_os_gb1, y_train_os_gb1)\n",
        "estimator_range = range(1, 100, 5)\n",
        "gb.fit(X_train_os_gb1, y_train_os_gb1)\n",
        "y_pred_gb1 = gb.predict(X_test_gb1)\n",
        "\n",
        "from sklearn.metrics import accuracy_score\n",
        "gb_accuracy1 = accuracy_score(y_test_gb1, y_pred_rf1, normalize=False)\n",
        "gb_score1= gb.score(X_test_gb1, y_test_gb1)\n",
        "y_score_gb1= gb.predict_proba(X_test_gb1)[:, 1]\n",
        "#calculate precision and recall\n",
        "precision_gb1, recall_gb1, thresholds_gb1 = precision_recall_curve(y_test_gb1, y_score_gb1)"
      ],
      "metadata": {
        "colab": {
          "base_uri": "https://localhost:8080/"
        },
        "id": "MUaZdOXqDOCy",
        "outputId": "46a9b813-76b2-4702-81e1-c20d8f558fb6"
      },
      "execution_count": 130,
      "outputs": [
        {
          "output_type": "stream",
          "name": "stdout",
          "text": [
            "(3832, 9)\n",
            "(7290, 9)\n",
            "[3645 3645]\n"
          ]
        }
      ]
    },
    {
      "cell_type": "markdown",
      "source": [
        "##Change in Accuracy scores"
      ],
      "metadata": {
        "id": "HgD9dIumvaI0"
      }
    },
    {
      "cell_type": "code",
      "source": [
        "print(\"Algorithm    |Number of Accurate Predictions    |  Score\")\n",
        "print (\"Decision Tree |   \",tree_accuracy, \" |      \", tree_score )\n",
        "print (\"Random Forest  |   \",rf_accuracy,  \" |      \", rf_score )\n",
        "print (\"Gradiant Boosting |   \",gb_accuracy, \" |     \", gb_score )\n",
        "print (\"Decision Tree with Oversampling|   \",tree_accuracy1, \" |      \", tree_score1 )\n",
        "print (\"Random Forest with Oversampling |   \",rf_accuracy1,  \" |      \", rf_score1 )\n",
        "print (\"Gradiant Boosting oversampling |   \",gb_accuracy1, \" |     \", gb_score1 )\n",
        "\n"
      ],
      "metadata": {
        "colab": {
          "base_uri": "https://localhost:8080/"
        },
        "id": "njV6ajFTvEv7",
        "outputId": "7f5bf200-886f-43c5-9cbd-d66a19cf579a"
      },
      "execution_count": 131,
      "outputs": [
        {
          "output_type": "stream",
          "name": "stdout",
          "text": [
            "Algorithm    |Number of Accurate Predictions    |  Score\n",
            "Decision Tree |    1214  |       0.9499217527386542\n",
            "Random Forest  |    1215  |       0.9507042253521126\n",
            "Gradiant Boosting |    1216  |      0.9507042253521126\n",
            "Decision Tree with Oversampling|    1214  |       0.9499217527386542\n",
            "Random Forest with Oversampling |    1206  |       0.9436619718309859\n",
            "Gradiant Boosting oversampling |    1206  |      0.7433489827856025\n"
          ]
        }
      ]
    },
    {
      "cell_type": "markdown",
      "source": [
        "##Creating ROC curve after Oversampling"
      ],
      "metadata": {
        "id": "46jDAbr9viqJ"
      }
    },
    {
      "cell_type": "code",
      "source": [
        "import warnings\n",
        "from sklearn.metrics import plot_roc_curve\n",
        "warnings.filterwarnings('ignore')\n",
        "\n",
        "rfc_disp1 = plot_roc_curve(rf, X_test_df1, y_test_df1)\n",
        "gb_disp1 = plot_roc_curve(gb, X_test_gb1, y_test_gb1, ax = rfc_disp1.ax_)\n",
        "tree_disp1 = plot_roc_curve(tree1, X_test_tree1, y_test_tree1, ax = rfc_disp1.ax_)\n",
        "rfc_disp1.figure_.suptitle(\"ROC curve comparison after Oversampling\")\n",
        "\n"
      ],
      "metadata": {
        "colab": {
          "base_uri": "https://localhost:8080/",
          "height": 326
        },
        "id": "XhETDQqtCrUq",
        "outputId": "5a53fcbf-36e5-42d0-a388-fbea43654586"
      },
      "execution_count": 136,
      "outputs": [
        {
          "output_type": "execute_result",
          "data": {
            "text/plain": [
              "Text(0.5, 0.98, 'ROC curve comparison after Oversampling')"
            ]
          },
          "metadata": {},
          "execution_count": 136
        },
        {
          "output_type": "display_data",
          "data": {
            "text/plain": [
              "<Figure size 432x288 with 1 Axes>"
            ],
            "image/png": "[encoded data removed]"
          },
          "metadata": {
            "needs_background": "light"
          }
        }
      ]
    },
    {
      "cell_type": "markdown",
      "source": [
        "##Precision and Recall after oversampling"
      ],
      "metadata": {
        "id": "9WsBIb8kyL8k"
      }
    },
    {
      "cell_type": "code",
      "source": [
        "print(\"\\n After Oversampling\")\n",
        "\n",
        "print (\"Decision Tree average Precision with Oversampling\",np.average(precision_tree1), \"and average Recall\", np.average(recall_tree1))\n",
        "print (\"Random Forest average Precision with Oversampling\",np.average(precision_rf1), \"and average Recall\", np.average(recall_rf1))\n",
        "print (\"Decision Gradient Boosting average Precision with Oversampling\",np.average(precision_gb1), \"and average Recall\", np.average(recall_gb1))"
      ],
      "metadata": {
        "colab": {
          "base_uri": "https://localhost:8080/"
        },
        "id": "BKxFj8CFyQ17",
        "outputId": "51b6e7a7-da36-428b-966c-6e6cf8f778ff"
      },
      "execution_count": 166,
      "outputs": [
        {
          "output_type": "stream",
          "name": "stdout",
          "text": [
            "\n",
            " After Oversampling\n",
            "Decision Tree average Precision with Oversampling 0.18099939304490706 and average Recall 0.535483870967742\n",
            "Random Forest average Precision with Oversampling 0.13457274739620567 and average Recall 0.2674297606659729\n",
            "Decision Gradient Boosting average Precision with Oversampling 0.11461398164406675 and average Recall 0.6864774932988261\n"
          ]
        }
      ]
    },
    {
      "cell_type": "markdown",
      "source": [
        "##Conclusion:Oversampling did not improve the score significantly."
      ],
      "metadata": {
        "id": "einmYycBy0oh"
      }
    },
    {
      "cell_type": "markdown",
      "source": [
        "##Q3. Find the important features using Random Forest and Gradient Boosting algorithms.\n"
      ],
      "metadata": {
        "id": "UNwRcgWLyyjm"
      }
    },
    {
      "cell_type": "code",
      "source": [
        "from sklearn.feature_selection import RFE\n",
        "from sklearn.ensemble import GradientBoostingClassifier\n",
        "from sklearn.ensemble import RandomForestClassifier\n",
        "\n",
        "# performing test and train split\n",
        "X_train_tree, X_test_tree, y_train_tree, y_test_tree = train_test_split(X,Target,\n",
        "                                                    stratify=stroke_data.stroke,\n",
        "                                                    random_state=0)\n",
        "\n",
        "# create ranking among all features by selecting only one\n",
        "rfe = RFE(GradientBoostingClassifier(), n_features_to_select=1)\n",
        "rfe1 = RFE(RandomForestClassifier(), n_features_to_select=1)\n",
        "rfe.fit(X_train, y_train)\n",
        "GB_ranking = rfe.ranking_.tolist()\n",
        "Features = rfe.feature_names_in_.tolist()\n",
        "rfe1.fit(X_train, y_train)\n",
        "RF_ranking = rfe1.ranking_.tolist()\n",
        "\n"
      ],
      "metadata": {
        "id": "gCej3xW89UrZ"
      },
      "execution_count": 227,
      "outputs": []
    },
    {
      "cell_type": "code",
      "source": [
        "zipped = list(zip(Features, GB_ranking, RF_ranking))\n",
        "df = pd.DataFrame(zipped, columns=['Feature Name', 'Gradient Boost Ranking', 'Random Forest Ranking'])\n",
        "print(df)\n"
      ],
      "metadata": {
        "colab": {
          "base_uri": "https://localhost:8080/"
        },
        "id": "v5OVE3jCEOIw",
        "outputId": "d835960e-6c61-4664-b0c3-6536a2bd189b"
      },
      "execution_count": 234,
      "outputs": [
        {
          "output_type": "stream",
          "name": "stdout",
          "text": [
            "        Feature Name  Gradient Boost Ranking  Random Forest Ranking\n",
            "0             gender                       9                      6\n",
            "1                age                       2                      2\n",
            "2       hypertension                       7                      8\n",
            "3      heart_disease                       3                      7\n",
            "4       ever_married                       6                      9\n",
            "5          work_type                       4                      4\n",
            "6     Residence_type                       8                      5\n",
            "7  avg_glucose_level                       1                      1\n",
            "8     smoking_status                       5                      3\n"
          ]
        }
      ]
    },
    {
      "cell_type": "markdown",
      "source": [
        "Conclusion: Average_glucose level ranks 1, followed by age,heart disease, work type or, smoking etc."
      ],
      "metadata": {
        "id": "ZQoQ5elwFdt3"
      }
    },
    {
      "cell_type": "markdown",
      "source": [
        "##Q4. Write a brief report on how different data balancing techniques improved the performance of your models."
      ],
      "metadata": {
        "id": "RHo4SEaHy082"
      }
    },
    {
      "cell_type": "markdown",
      "source": [
        "###Gradient Boositing balancing"
      ],
      "metadata": {
        "id": "rSQjUs2UO7i0"
      }
    },
    {
      "cell_type": "code",
      "source": [
        "from imblearn.pipeline import make_pipeline as make_imb_pipeline\n",
        "from imblearn.under_sampling import RandomUnderSampler\n",
        "from imblearn.over_sampling import RandomOverSampler \n",
        "\n",
        "from sklearn.model_selection import cross_validate\n",
        "undersample_pipe = make_imb_pipeline(RandomUnderSampler(), GradientBoostingClassifier())\n",
        "scores = cross_validate(undersample_pipe,\n",
        "                        X_train, y_train, cv=10,\n",
        "                        scoring=('roc_auc', 'average_precision'))\n",
        "\n",
        "oversample_pipe = make_imb_pipeline(RandomOverSampler(), GradientBoostingClassifier())\n",
        "oversampling_scores = cross_validate(oversample_pipe,\n",
        "                        X_train, y_train, cv=10,\n",
        "                        scoring=('roc_auc', 'average_precision'))\n",
        "\n",
        "normal_pipe = make_imb_pipeline( GradientBoostingClassifier())\n",
        "normal_scores = cross_validate(normal_pipe,\n",
        "                        X_train, y_train, cv=10,\n",
        "                        scoring=('roc_auc', 'average_precision'))\n",
        "\n",
        "print(\"Test Scores for no balancing of Gradient Boosting\")\n",
        "print(\"Test ROC accuracy score\", normal_scores['test_roc_auc'].mean())\n",
        "print(\"Test average precision score\",normal_scores['test_average_precision'].mean())\n",
        "\n",
        "print(\"Test Scores for random undersampling of Gradient Boosting\")\n",
        "print(\"Test ROC accuracy score\", scores['test_roc_auc'].mean())\n",
        "print(\"Test average precision score\",scores['test_average_precision'].mean())\n",
        "\n",
        "print(\"Test Scores for random oversampling of Gradient Boosting\")\n",
        "print(\"Test ROC accuracy score\",oversampling_scores['test_roc_auc'].mean())\n",
        "print(\"Test average precision score\",oversampling_scores['test_average_precision'].mean())\n"
      ],
      "metadata": {
        "colab": {
          "base_uri": "https://localhost:8080/"
        },
        "id": "DaLh7QhDJXaH",
        "outputId": "90b03b9f-e36f-440c-fdfb-412d88db8db0"
      },
      "execution_count": 243,
      "outputs": [
        {
          "output_type": "stream",
          "name": "stdout",
          "text": [
            "Test Scores for no balancing of Gradient Boosting\n",
            "Test ROC accuracy score 0.8277523607930961\n",
            "Test average precision score 0.20032071308188987\n",
            "Test Scores for random undersampling of Gradient Boosting\n",
            "Test ROC accuracy score 0.8159971693371117\n",
            "Test average precision score 0.18645083624393707\n",
            "Test Scores for random oversampling of Gradient Boosting\n",
            "Test ROC accuracy score 0.8115604694912554\n",
            "Test average precision score 0.1931020572176992\n"
          ]
        }
      ]
    },
    {
      "cell_type": "markdown",
      "source": [
        "### Random Forest data balancing"
      ],
      "metadata": {
        "id": "BSlYn_7QPA80"
      }
    },
    {
      "cell_type": "code",
      "source": [
        "from imblearn.pipeline import make_pipeline as make_imb_pipeline\n",
        "from imblearn.under_sampling import RandomUnderSampler\n",
        "from imblearn.over_sampling import RandomOverSampler \n",
        "\n",
        "from sklearn.model_selection import cross_validate\n",
        "RFundersample_pipe = make_imb_pipeline(RandomUnderSampler(), RandomForestClassifier())\n",
        "RFscores = cross_validate(RFundersample_pipe,\n",
        "                        X_train, y_train, cv=10,\n",
        "                        scoring=('roc_auc', 'average_precision'))\n",
        "\n",
        "RFoversample_pipe = make_imb_pipeline(RandomOverSampler(), RandomForestClassifier())\n",
        "RFoversampling_scores = cross_validate(RFoversample_pipe,\n",
        "                        X_train, y_train, cv=10,\n",
        "                        scoring=('roc_auc', 'average_precision'))\n",
        "\n",
        "RFnormal_pipe = make_imb_pipeline( RandomForestClassifier())\n",
        "RFnormal_scores = cross_validate(RFnormal_pipe,\n",
        "                        X_train, y_train, cv=10,\n",
        "                        scoring=('roc_auc', 'average_precision'))\n",
        "\n",
        "print(\"Test Scores for no balancing of RandomForest\")\n",
        "print(\"Test ROC accuracy score\", RFnormal_scores['test_roc_auc'].mean())\n",
        "print(\"Test average precision score\",RFnormal_scores['test_average_precision'].mean())\n",
        "\n",
        "print(\"Test Scores for random undersampling of Random Forest\")\n",
        "print(\"Test ROC accuracy score\", RFscores['test_roc_auc'].mean())\n",
        "print(\"Test average precision score\",RFscores['test_average_precision'].mean())\n",
        "\n",
        "print(\"Test Scores for random oversampling of Random Forest\")\n",
        "print(\"Test ROC accuracy score\",RFoversampling_scores['test_roc_auc'].mean())\n",
        "print(\"Test average precision score\",RFoversampling_scores['test_average_precision'].mean())"
      ],
      "metadata": {
        "colab": {
          "base_uri": "https://localhost:8080/"
        },
        "id": "7p88gA12MHpG",
        "outputId": "feb7948a-73fe-4190-c2c2-d9f62f4f77f9"
      },
      "execution_count": 244,
      "outputs": [
        {
          "output_type": "stream",
          "name": "stdout",
          "text": [
            "Test Scores for no balancing of RandomForest\n",
            "Test ROC accuracy score 0.7726009372746936\n",
            "Test average precision score 0.15762938479196137\n",
            "Test Scores for random undersampling of Random Forest\n",
            "Test ROC accuracy score 0.8014415825302631\n",
            "Test average precision score 0.17480326918999453\n",
            "Test Scores for random oversampling of Random Forest\n",
            "Test ROC accuracy score 0.7720588461846573\n",
            "Test average precision score 0.15419546885337188\n"
          ]
        }
      ]
    },
    {
      "cell_type": "markdown",
      "source": [
        "### Decision tree balancing"
      ],
      "metadata": {
        "id": "usE-fR0KPGv1"
      }
    },
    {
      "cell_type": "code",
      "source": [
        "from imblearn.pipeline import make_pipeline as make_imb_pipeline\n",
        "from imblearn.under_sampling import RandomUnderSampler\n",
        "from imblearn.over_sampling import RandomOverSampler \n",
        "\n",
        "from sklearn.model_selection import cross_validate\n",
        "Tundersample_pipe = make_imb_pipeline(RandomUnderSampler(),DecisionTreeClassifier())\n",
        "Tscores = cross_validate(Tundersample_pipe,\n",
        "                        X_train, y_train, cv=10,\n",
        "                        scoring=('roc_auc', 'average_precision'))\n",
        "\n",
        "Toversample_pipe = make_imb_pipeline(RandomOverSampler(), DecisionTreeClassifier())\n",
        "Toversampling_scores = cross_validate(Toversample_pipe,\n",
        "                        X_train, y_train, cv=10,\n",
        "                        scoring=('roc_auc', 'average_precision'))\n",
        "\n",
        "Tnormal_pipe = make_imb_pipeline( DecisionTreeClassifier())\n",
        "Tnormal_scores = cross_validate(Tnormal_pipe,\n",
        "                        X_train, y_train, cv=10,\n",
        "                        scoring=('roc_auc', 'average_precision'))\n",
        "\n",
        "print(\"Test Scores for no balancing of Decision Tree\")\n",
        "print(\"Test ROC accuracy score\", Tnormal_scores['test_roc_auc'].mean())\n",
        "print(\"Test average precision score\",Tnormal_scores['test_average_precision'].mean())\n",
        "\n",
        "print(\"Test Scores for random undersampling of DecisionTree\")\n",
        "print(\"Test ROC accuracy score\", Tscores['test_roc_auc'].mean())\n",
        "print(\"Test average precision score\",RFscores['test_average_precision'].mean())\n",
        "\n",
        "print(\"Test Scores for random oversampling of Decision Tree\")\n",
        "print(\"Test ROC accuracy score\",Toversampling_scores['test_roc_auc'].mean())\n",
        "print(\"Test average precision score\",Toversampling_scores['test_average_precision'].mean())"
      ],
      "metadata": {
        "colab": {
          "base_uri": "https://localhost:8080/"
        },
        "id": "CVxD8dxEM2n-",
        "outputId": "52d7e304-9d73-45f6-ce8e-cc3f9a5a6240"
      },
      "execution_count": 246,
      "outputs": [
        {
          "output_type": "stream",
          "name": "stdout",
          "text": [
            "Test Scores for no balancing of Decision Tree\n",
            "Test ROC accuracy score 0.5316310115823455\n",
            "Test average precision score 0.060568113748410334\n",
            "Test Scores for random undersampling of DecisionTree\n",
            "Test ROC accuracy score 0.6839305807546615\n",
            "Test average precision score 0.17480326918999453\n",
            "Test Scores for random oversampling of Decision Tree\n",
            "Test ROC accuracy score 0.5373642527463723\n",
            "Test average precision score 0.06421361822391745\n"
          ]
        }
      ]
    },
    {
      "cell_type": "markdown",
      "source": [
        "##REPORT\n",
        "Here I have tried random under sampling and random oversampling for the data. It is found that fro tree undrsampling improves precision and accuracy significantly but oversampling does not help at all. For, random forest also undersampling improves the score but oversampling does not improve ROC or precision. For,gradient boosting neither undersampling or, oversampling improves accuracy.\n"
      ],
      "metadata": {
        "id": "rbII0k6HODkM"
      }
    }
  ]
}